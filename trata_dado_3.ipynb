{
 "cells": [
  {
   "cell_type": "code",
   "execution_count": 1,
   "id": "51141f25-3950-465f-84ec-7114bcbe6216",
   "metadata": {},
   "outputs": [],
   "source": [
    "from pyspark import SparkConf\n",
    "from pyspark import SparkContext\n",
    "from pyspark.sql import SparkSession\n",
    "from pyspark.sql.functions import col, from_json, substring, when, length, split, lit\n",
    "from pyspark.sql.types import StructType, StructField, StringType\n",
    "from graphframes import *"
   ]
  },
  {
   "cell_type": "code",
   "execution_count": 2,
   "id": "692f6c25-16d4-412f-81a9-99cb44ee0025",
   "metadata": {},
   "outputs": [],
   "source": [
    "# Dados de carga\n",
    "csv_pj = 'dataset/empresas_estabelecimentos_1m.csv'\n",
    "csv_socios = 'dataset/socios_1m.csv'"
   ]
  },
  {
   "cell_type": "code",
   "execution_count": 3,
   "id": "6394fb76-dbb9-4fd3-aed5-e693813e074c",
   "metadata": {},
   "outputs": [
    {
     "name": "stderr",
     "output_type": "stream",
     "text": [
      "23/12/04 13:49:23 WARN SparkSession: Using an existing Spark session; only runtime SQL configurations will take effect.\n"
     ]
    }
   ],
   "source": [
    "spark = SparkSession.builder \\\n",
    "        .config(\"spark.driver.memory\", \"32g\") \\\n",
    "        .appName(\"trata_dados_3\") \\\n",
    "        .getOrCreate()\n",
    "\n",
    "sc = spark.sparkContext\n",
    "sc.setCheckpointDir('graphframes_cps')"
   ]
  },
  {
   "cell_type": "code",
   "execution_count": 4,
   "id": "a11b7b67-5803-4188-a8b5-5543a62776c0",
   "metadata": {},
   "outputs": [],
   "source": [
    "# Schema para Json Empresa\n",
    "json_schema_em = StructType([\n",
    "    StructField(\"porteEmpresa\", StringType(), True),\n",
    "    StructField(\"capitalSocial\", StringType(), True),\n",
    "    StructField(\"cpfResponsavel\", StringType(), True),\n",
    "    StructField(\"nomeEmpresarial\", StringType(), True),\n",
    "    StructField(\"naturezaJuridica\", StringType(), True),\n",
    "    StructField(\"qualificacaoResponsavel\", StringType(), True)\n",
    "])\n",
    "\n",
    "# Schema para Json Estabelecimento\n",
    "json_schema_es = StructType([\n",
    "    StructField(\"uf\", StringType(), True),\n",
    "    StructField(\"cep\", StringType(), True),\n",
    "    StructField(\"ddd1\", StringType(), True),\n",
    "    StructField(\"ddd2\", StringType(), True),\n",
    "    StructField(\"pais\", StringType(), True),\n",
    "    StructField(\"email\", StringType(), True),\n",
    "    StructField(\"bairro\", StringType(), True),\n",
    "    StructField(\"numero\", StringType(), True),\n",
    "    StructField(\"municipio\", StringType(), True),\n",
    "    StructField(\"telefone1\", StringType(), True),\n",
    "    StructField(\"telefone2\", StringType(), True),\n",
    "    StructField(\"cnaeFiscal\", StringType(), True),\n",
    "    StructField(\"logradouro\", StringType(), True),\n",
    "    StructField(\"complemento\", StringType(), True),\n",
    "    StructField(\"dataCadastro\", StringType(), True),\n",
    "    StructField(\"nomeFantasia\", StringType(), True),\n",
    "    StructField(\"cidadeExterior\", StringType(), True),\n",
    "    StructField(\"tipoLogradouro\", StringType(), True),\n",
    "    StructField(\"cnaesSecundarias\", StringType(), True),\n",
    "    StructField(\"situacaoEspecial\", StringType(), True),\n",
    "    StructField(\"situacaoCadastral\", StringType(), True),\n",
    "    StructField(\"dataSituacaoEspecial\", StringType(), True),\n",
    "    StructField(\"dataSituacaoCadastral\", StringType(), True),\n",
    "    StructField(\"motivoSituacaoCadastral\", StringType(), True),\n",
    "    StructField(\"identificadorMatrizFilial\", StringType(), True)\n",
    "])\n",
    "\n",
    "# Definindo o esquema para leitura do CSV\n",
    "schema = StructType([\n",
    "    StructField(\"nu_cnpj_raiz\", StringType(), True),\n",
    "    StructField(\"te_dados_em\", StringType(), True),\n",
    "    StructField(\"id_estabelecimento\", StringType(), True),\n",
    "    StructField(\"te_dados_es\", StringType(), True)\n",
    "])\n",
    "\n",
    "# Lendo o CSV com o esquema definido\n",
    "pj = spark.read \\\n",
    "    .option(\"delimiter\", \",\") \\\n",
    "    .option(\"multiline\", \"true\") \\\n",
    "    .option(\"escape\", \"\\\"\") \\\n",
    "    .csv(csv_pj, schema=schema, header=True)\n",
    "\n",
    "pj = pj.withColumn(\"te_dados_em\", from_json(col(\"te_dados_em\"), json_schema_em)) \\\n",
    "      .withColumn(\"te_dados_es\", from_json(col(\"te_dados_es\"), json_schema_es)) \\\n",
    "      .filter(substring(col(\"id_estabelecimento\"), 0, 4) == '0001') \\\n",
    "      .withColumnRenamed(\"nu_cnpj_raiz\", \"id\")\n",
    "\n",
    "pj = pj.orderBy(col(\"id\").asc()).dropDuplicates(['id'])\n",
    "\n",
    "# verificando unidade de chaves:\n",
    "# count_df = pj.groupBy('id').count()\n",
    "# repeated_cnpj = count_df.filter(col('count') > 1)\n",
    "# repeated_cnpj.show()"
   ]
  },
  {
   "cell_type": "code",
   "execution_count": 5,
   "id": "fb38ae22-cecd-4f52-af56-b360ea80a75a",
   "metadata": {},
   "outputs": [],
   "source": [
    "# Schema para Json Socios\n",
    "json_schema_sc = StructType([\n",
    "    StructField(\"pais\", StringType(), True),\n",
    "    StructField(\"entradaSociedade\", StringType(), True),\n",
    "    StructField(\"socioEstrangeiro\", StringType(), True),\n",
    "    StructField(\"qualificacaoSocio\", StringType(), True),\n",
    "    StructField(\"identificadorSocio\", StringType(), True),\n",
    "    StructField(\"cpfRepresentanteLegal\", StringType(), True),\n",
    "    StructField(\"qualificacaoRepresentanteLegal\", StringType(), True)\n",
    "])\n",
    "\n",
    "# Definindo o esquema para leitura do CSV\n",
    "schema = StructType([\n",
    "    StructField(\"nu_cnpj_raiz\", StringType(), True),\n",
    "    StructField(\"id_socio\", StringType(), True),\n",
    "    StructField(\"te_dados_sc\", StringType(), True)\n",
    "])\n",
    "\n",
    "# Lendo o CSV com o esquema definido\n",
    "socio = spark.read \\\n",
    "        .option(\"delimiter\", \",\") \\\n",
    "        .option(\"multiline\", \"true\") \\\n",
    "        .option(\"escape\", \"\\\"\") \\\n",
    "        .csv(csv_socios, schema=schema, header=True)\n",
    "\n",
    "# tratando o df socios\n",
    "# Tratamento 1: Expandir o JSON\n",
    "socio = socio.withColumn(\"te_dados_sc\", from_json(col(\"te_dados_sc\"), json_schema_sc))\n",
    "\n",
    "socio = socio.withColumn(\"id_socio\", when(socio[\"te_dados_sc\"][\"identificadorSocio\"] == '1',\n",
    "                                    socio[\"id_socio\"].substr(1, 8))\n",
    "                                .otherwise(socio[\"id_socio\"]))\n",
    "# Remomeia fonte e destino\n",
    "socio = socio.withColumnRenamed(\"nu_cnpj_raiz\", \"src\").withColumnRenamed(\"id_socio\", \"dst\")\n",
    "# remove arestas dubplicadas\n",
    "socio = socio.orderBy(col(\"src\").asc(), col(\"dst\").asc()).dropDuplicates(['src', 'dst'])"
   ]
  },
  {
   "cell_type": "code",
   "execution_count": 6,
   "id": "b02b073d-916b-435f-ac52-0e827bba7edd",
   "metadata": {},
   "outputs": [],
   "source": [
    "# Cria df para vértices do tipo Pessoa Física:\n",
    "pf = socio.filter(col(\"te_dados_sc.identificadorSocio\") == '2').select(col(\"dst\").alias(\"id\")).distinct()\n",
    "\n",
    "cols_pj = [col_name for col_name in pj.columns if col_name != 'id']\n",
    "for col_name in cols_pj:\n",
    "    pf = pf.withColumn(col_name, lit(None))\n",
    "\n",
    "# cria tipo de pessoa na nos vértices\n",
    "pj = pj.withColumn(\"id_tipoPessoa\", lit(1))\n",
    "pf = pf.withColumn(\"id_tipoPessoa\", lit(2))\n",
    "\n",
    "vertex = pj.union(pf).orderBy(\"id\")\n",
    "\n",
    "# verificando unidade de chaves:\n",
    "# count_df = vertex.groupBy('id').count()\n",
    "# repeated_vertex = count_df.filter(col('count') > 1)\n",
    "# repeated_vertex.show()"
   ]
  },
  {
   "cell_type": "code",
   "execution_count": 7,
   "id": "49d900d0-5945-461d-a54b-fe6515ffca3f",
   "metadata": {},
   "outputs": [
    {
     "name": "stderr",
     "output_type": "stream",
     "text": [
      "23/12/04 13:51:21 WARN BlockManager: Block rdd_57_9 already exists on this machine; not re-adding it\n",
      "23/12/04 13:51:21 WARN BlockManager: Block rdd_57_12 already exists on this machine; not re-adding it\n",
      "23/12/04 13:51:21 WARN BlockManager: Block rdd_57_8 already exists on this machine; not re-adding it\n",
      "                                                                                \r"
     ]
    }
   ],
   "source": [
    "# Criando o grafo de relacionamento empresas->socios\n",
    "g = GraphFrame(vertex, socio)\n",
    "result=g.connectedComponents()"
   ]
  },
  {
   "cell_type": "code",
   "execution_count": 8,
   "id": "65c74e40-f98d-4e3a-8a29-1ad375c8c378",
   "metadata": {},
   "outputs": [
    {
     "name": "stderr",
     "output_type": "stream",
     "text": [
      "23/12/04 13:55:18 WARN SparkStringUtils: Truncated the string representation of a plan since it was too large. This behavior can be adjusted by setting 'spark.sql.debug.maxToStringFields'.\n",
      "                                                                                \r"
     ]
    },
    {
     "name": "stdout",
     "output_type": "stream",
     "text": [
      "+--------------+--------------------+------------------+--------------------+-------------+-----------+\n",
      "|            id|         te_dados_em|id_estabelecimento|         te_dados_es|id_tipoPessoa|  component|\n",
      "+--------------+--------------------+------------------+--------------------+-------------+-----------+\n",
      "|      03235791|{05, 000011547555...|            000127|{SP, 04552000, 11...|            1|25769859916|\n",
      "|      03410522|{05, 000000403000...|            000150|{SP, 04552000, 11...|            1|25769859916|\n",
      "|      04038317|{05, 000002813130...|            000178|{SP, 05307190, 11...|            1|25769859916|\n",
      "|00002117401872|                NULL|              NULL|                NULL|            2|25769859916|\n",
      "|      04100516|{05, 000000000000...|            000169|{SP, 05307190, 11...|            1|25769859916|\n",
      "+--------------+--------------------+------------------+--------------------+-------------+-----------+\n",
      "\n"
     ]
    }
   ],
   "source": [
    "# conectados = result.select(\"id\", \"component\", \"id_tipoPessoa\").orderBy(\"component\")\n",
    "# conectados.show()\n",
    "component_sizes = result.groupBy('component').count()\n",
    "largest_component = component_sizes.orderBy(col('count').desc()).first()\n",
    "largest_component_id = largest_component['component']\n",
    "largest_component_vertices = result.filter(result['component'] == largest_component_id)\n",
    "largest_component_vertices.show()"
   ]
  },
  {
   "cell_type": "code",
   "execution_count": 12,
   "id": "ee6afc19-eafa-4d6e-9767-07196636dba2",
   "metadata": {},
   "outputs": [
    {
     "name": "stderr",
     "output_type": "stream",
     "text": [
      "[Stage 514:>                                                        (0 + 1) / 1]\r"
     ]
    },
    {
     "name": "stdout",
     "output_type": "stream",
     "text": [
      "+--------+--------------+--------------------+\n",
      "|     src|           dst|         te_dados_sc|\n",
      "+--------+--------------+--------------------+\n",
      "|03235791|00000610508067|{000, 20170822, ,...|\n",
      "|03235791|00001683293797|{000, 20230102, ,...|\n",
      "|03235791|00002117401872|{000, 20021018, ,...|\n",
      "|03235791|00003604616549|{000, 20021018, ,...|\n",
      "|03235791|00009101021710|{000, 20230102, ,...|\n",
      "|03235791|00009442262807|{000, 20230102, ,...|\n",
      "|03235791|00029435367844|{000, 20230102, ,...|\n",
      "|03235791|      73178600|{000, 19990624, ,...|\n",
      "|03410522|00000610508067|{000, 20180611, ,...|\n",
      "|03410522|00002117401872|{000, 20021029, ,...|\n",
      "|03410522|00003604616549|{000, 20021029, ,...|\n",
      "|03410522|00009101021710|{000, 20200428, ,...|\n",
      "|03410522|00010793641705|{000, 20200428, ,...|\n",
      "|03410522|00013290326837|{000, 20131125, ,...|\n",
      "|03410522|00022148709895|{000, 20180611, ,...|\n",
      "|03410522|00034569034802|{000, 20180611, ,...|\n",
      "|03410522|      73178600|{000, 20061201, ,...|\n",
      "|04038317|00002117401872|{000, 20080626, ,...|\n",
      "|04038317|00003604616549|{000, 20080626, ,...|\n",
      "|04038317|00016236648883|{000, 20100920, ,...|\n",
      "+--------+--------------+--------------------+\n",
      "only showing top 20 rows\n",
      "\n"
     ]
    },
    {
     "name": "stderr",
     "output_type": "stream",
     "text": [
      "                                                                                \r"
     ]
    }
   ],
   "source": [
    "edges = g.edges.filter(\"src='03235791' or src='03410522' or src='04038317' or src='00002117401872' or src='04100516'\")\n",
    "edges.show()"
   ]
  },
  {
   "cell_type": "code",
   "execution_count": 16,
   "id": "86821102-bbfb-49a8-885a-00ae70f79be8",
   "metadata": {},
   "outputs": [
    {
     "name": "stderr",
     "output_type": "stream",
     "text": [
      "[Stage 535:>                                                        (0 + 1) / 1]\r"
     ]
    },
    {
     "name": "stdout",
     "output_type": "stream",
     "text": [
      "+--------------+-----------+------------------+-----------+-------------+\n",
      "|            id|te_dados_em|id_estabelecimento|te_dados_es|id_tipoPessoa|\n",
      "+--------------+-----------+------------------+-----------+-------------+\n",
      "|00001683293797|       NULL|              NULL|       NULL|            2|\n",
      "|00002117401872|       NULL|              NULL|       NULL|            2|\n",
      "+--------------+-----------+------------------+-----------+-------------+\n",
      "\n"
     ]
    },
    {
     "name": "stderr",
     "output_type": "stream",
     "text": [
      "                                                                                \r"
     ]
    }
   ],
   "source": [
    "vertex = g.vertices.filter(\"id = '00002117401872' or id ='00001683293797'\")\n",
    "vertex.show()"
   ]
  },
  {
   "cell_type": "code",
   "execution_count": null,
   "id": "6dd05793-99cf-4bd8-89b2-ac766ad44820",
   "metadata": {},
   "outputs": [],
   "source": [
    "spark.stop()"
   ]
  }
 ],
 "metadata": {
  "kernelspec": {
   "display_name": "Python 3 (ipykernel)",
   "language": "python",
   "name": "python3"
  },
  "language_info": {
   "codemirror_mode": {
    "name": "ipython",
    "version": 3
   },
   "file_extension": ".py",
   "mimetype": "text/x-python",
   "name": "python",
   "nbconvert_exporter": "python",
   "pygments_lexer": "ipython3",
   "version": "3.9.18"
  }
 },
 "nbformat": 4,
 "nbformat_minor": 5
}
