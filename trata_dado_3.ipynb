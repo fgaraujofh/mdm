{
 "cells": [
  {
   "cell_type": "markdown",
   "id": "c59d3d30-4743-4f4c-9b7a-9a663b69f2e1",
   "metadata": {},
   "source": [
    "# Notebook destinado a fazer teste de leituras de CSV\n",
    "## PJ e Socios e geração de graphframe\n",
    "### Exemplifica uso do módulto trata_dados.py"
   ]
  },
  {
   "cell_type": "code",
   "execution_count": 1,
   "id": "51141f25-3950-465f-84ec-7114bcbe6216",
   "metadata": {},
   "outputs": [],
   "source": [
    "from pyspark import SparkConf\n",
    "from pyspark import SparkContext\n",
    "from pyspark.sql import SparkSession\n",
    "from graphframes import *\n",
    "from pyspark.sql.functions import col, from_json, substring, when, length, split, lit"
   ]
  },
  {
   "cell_type": "code",
   "execution_count": 2,
   "id": "b577c331-245e-4ae7-a379-ebb3d53fb2d1",
   "metadata": {},
   "outputs": [],
   "source": [
    "from trata_dados import trata_empresa\n",
    "from trata_dados import trata_socio\n",
    "from trata_dados import monta_grafo"
   ]
  },
  {
   "cell_type": "code",
   "execution_count": 3,
   "id": "692f6c25-16d4-412f-81a9-99cb44ee0025",
   "metadata": {},
   "outputs": [],
   "source": [
    "# Dados de carga\n",
    "csv_pj = 'dataset/completo/empresas_estabelecimentos*.csv'\n",
    "csv_socios = 'dataset/completo/socios*.csv'"
   ]
  },
  {
   "cell_type": "code",
   "execution_count": 4,
   "id": "6394fb76-dbb9-4fd3-aed5-e693813e074c",
   "metadata": {},
   "outputs": [
    {
     "name": "stderr",
     "output_type": "stream",
     "text": [
      "24/08/21 17:34:47 WARN SparkSession: Using an existing Spark session; only runtime SQL configurations will take effect.\n"
     ]
    }
   ],
   "source": [
    "spark = SparkSession.builder \\\n",
    "        .config(\"spark.driver.memory\", \"128g\") \\\n",
    "        .appName(\"trata_dados_3\") \\\n",
    "        .getOrCreate()\n",
    "\n",
    "sc = spark.sparkContext\n",
    "sc.setCheckpointDir('graphframes_cps')"
   ]
  },
  {
   "cell_type": "code",
   "execution_count": 5,
   "id": "a11b7b67-5803-4188-a8b5-5543a62776c0",
   "metadata": {},
   "outputs": [],
   "source": [
    "empresas = trata_empresa(csv_pj, spark)\n",
    "# numero_de_linhas = pj.count()\n",
    "# print(f\"O DataFrame contém {numero_de_linhas} linhas.\")"
   ]
  },
  {
   "cell_type": "code",
   "execution_count": 6,
   "id": "fb38ae22-cecd-4f52-af56-b360ea80a75a",
   "metadata": {},
   "outputs": [],
   "source": [
    "socios = trata_socio(csv_socios, spark)\n",
    "# numero_de_linhas = socio.count()\n",
    "# print(f\"O DataFrame contém {numero_de_linhas} linhas.\")"
   ]
  },
  {
   "cell_type": "code",
   "execution_count": 6,
   "id": "b02b073d-916b-435f-ac52-0e827bba7edd",
   "metadata": {},
   "outputs": [],
   "source": [
    "# Cria df para vértices do tipo Pessoa Física:\n",
    "# pf = socio.filter(col(\"te_dados_sc.identificadorSocio\") == '2').select(col(\"dst\").alias(\"id\")).distinct()\n",
    "\n",
    "# cols_pj = [col_name for col_name in pj.columns if col_name != 'id']\n",
    "# for col_name in cols_pj:\n",
    "#    pf = pf.withColumn(col_name, lit(None))\n",
    "\n",
    "# cria tipo de pessoa na nos vértices\n",
    "# pj = pj.withColumn(\"id_tipoPessoa\", lit(1))\n",
    "# pf = pf.withColumn(\"id_tipoPessoa\", lit(2))\n",
    "\n",
    "# vertex = pj.union(pf).orderBy(\"id\")\n",
    "\n",
    "# verificando unidade de chaves:\n",
    "# count_df = vertex.groupBy('id').count()\n",
    "# repeated_vertex = count_df.filter(col('count') > 1)\n",
    "# repeated_vertex.show()"
   ]
  },
  {
   "cell_type": "code",
   "execution_count": 7,
   "id": "49d900d0-5945-461d-a54b-fe6515ffca3f",
   "metadata": {},
   "outputs": [],
   "source": [
    "# Criando o grafo de relacionamento empresas->socios\n",
    "g = monta_grafo(empresas, socios)\n",
    "# result=g.connectedComponents()"
   ]
  },
  {
   "cell_type": "code",
   "execution_count": 8,
   "id": "16c0d174-332e-4e8f-9239-e8f70dafec37",
   "metadata": {},
   "outputs": [
    {
     "name": "stderr",
     "output_type": "stream",
     "text": [
      "                                                                                \r"
     ]
    }
   ],
   "source": [
    "result=g.connectedComponents()"
   ]
  },
  {
   "cell_type": "code",
   "execution_count": 9,
   "id": "65c74e40-f98d-4e3a-8a29-1ad375c8c378",
   "metadata": {},
   "outputs": [
    {
     "name": "stderr",
     "output_type": "stream",
     "text": [
      "24/08/21 18:09:56 WARN SparkStringUtils: Truncated the string representation of a plan since it was too large. This behavior can be adjusted by setting 'spark.sql.debug.maxToStringFields'.\n",
      "[Stage 686:============================================>          (34 + 8) / 42]\r"
     ]
    },
    {
     "name": "stdout",
     "output_type": "stream",
     "text": [
      "+--------------+--------------------+------------------+--------------------+-------------+---------+\n",
      "|            id|         te_dados_em|id_estabelecimento|         te_dados_es|id_tipoPessoa|component|\n",
      "+--------------+--------------------+------------------+--------------------+-------------+---------+\n",
      "|00009350518643|                NULL|              NULL|                NULL|            2|    84686|\n",
      "|00009502044800|                NULL|              NULL|                NULL|            2|    84686|\n",
      "|      41298981|{03, 000000002000...|            000182|{SP, 04042005, 11...|            1|    84686|\n",
      "|00085867701590|                NULL|              NULL|                NULL|            2|    84686|\n",
      "|00002269877101|                NULL|              NULL|                NULL|            2|    84686|\n",
      "|00096651610244|                NULL|              NULL|                NULL|            2|    84686|\n",
      "|00033332486896|                NULL|              NULL|                NULL|            2|    84686|\n",
      "|00026876552870|                NULL|              NULL|                NULL|            2|    84686|\n",
      "|      30573149|{01, 000000002000...|            000120|{SP, 04022020, 11...|            1|    84686|\n",
      "|      04183157|{05, 000000700000...|            000150|{SP, 04547006, 11...|            1|    84686|\n",
      "|00002274985340|                NULL|              NULL|                NULL|            2|    84686|\n",
      "|00040652559883|                NULL|              NULL|                NULL|            2|    84686|\n",
      "|00038553044831|                NULL|              NULL|                NULL|            2|    84686|\n",
      "+--------------+--------------------+------------------+--------------------+-------------+---------+\n",
      "\n"
     ]
    },
    {
     "name": "stderr",
     "output_type": "stream",
     "text": [
      "                                                                                \r"
     ]
    }
   ],
   "source": [
    "# conectados = result.select(\"id\", \"component\", \"id_tipoPessoa\").orderBy(\"component\")\n",
    "# conectados.show()\n",
    "component_sizes = result.groupBy('component').count()\n",
    "largest_component = component_sizes.orderBy(col('count').desc()).first()\n",
    "largest_component_id = largest_component['component']\n",
    "largest_component_vertices = result.filter(result['component'] == largest_component_id)\n",
    "largest_component_vertices.show()"
   ]
  },
  {
   "cell_type": "code",
   "execution_count": 10,
   "id": "ee6afc19-eafa-4d6e-9767-07196636dba2",
   "metadata": {},
   "outputs": [
    {
     "name": "stderr",
     "output_type": "stream",
     "text": [
      "[Stage 688:>                                                        (0 + 1) / 1]\r"
     ]
    },
    {
     "name": "stdout",
     "output_type": "stream",
     "text": [
      "+--------+--------------+--------------------+\n",
      "|     src|           dst|         te_dados_sc|\n",
      "+--------+--------------+--------------------+\n",
      "|03235791|00000610508067|{000, 20170822, ,...|\n",
      "|03235791|00001683293797|{000, 20230102, ,...|\n",
      "|03235791|00002117401872|{000, 20021018, ,...|\n",
      "|03235791|00003604616549|{000, 20021018, ,...|\n",
      "|03235791|00009101021710|{000, 20230102, ,...|\n",
      "|03235791|00009442262807|{000, 20230102, ,...|\n",
      "|03235791|00029435367844|{000, 20230102, ,...|\n",
      "|03235791|      73178600|{000, 19990624, ,...|\n",
      "|03410522|00000610508067|{000, 20180611, ,...|\n",
      "|03410522|00002117401872|{000, 20021029, ,...|\n",
      "|03410522|00003604616549|{000, 20021029, ,...|\n",
      "|03410522|00009101021710|{000, 20200428, ,...|\n",
      "|03410522|00009442262807|{000, 20240321, ,...|\n",
      "|03410522|00010793641705|{000, 20200428, ,...|\n",
      "|03410522|      73178600|{000, 20061201, ,...|\n",
      "|04038317|00002117401872|{000, 20080626, ,...|\n",
      "|04038317|00003604616549|{000, 20080626, ,...|\n",
      "|04038317|00016236648883|{000, 20100920, ,...|\n",
      "|04038317|      02921561|{000, 20111017, ,...|\n",
      "|04038317|      73178600|{000, 20000913, ,...|\n",
      "+--------+--------------+--------------------+\n",
      "only showing top 20 rows\n",
      "\n"
     ]
    },
    {
     "name": "stderr",
     "output_type": "stream",
     "text": [
      "                                                                                \r"
     ]
    }
   ],
   "source": [
    "edges = g.edges.filter(\"src='03235791' or src='03410522' or src='04038317' or src='00002117401872' or src='04100516'\")\n",
    "edges.show()"
   ]
  },
  {
   "cell_type": "code",
   "execution_count": 11,
   "id": "86821102-bbfb-49a8-885a-00ae70f79be8",
   "metadata": {},
   "outputs": [
    {
     "name": "stderr",
     "output_type": "stream",
     "text": [
      "[Stage 694:>                                                        (0 + 1) / 1]\r"
     ]
    },
    {
     "name": "stdout",
     "output_type": "stream",
     "text": [
      "+--------------+-----------+------------------+-----------+-------------+\n",
      "|            id|te_dados_em|id_estabelecimento|te_dados_es|id_tipoPessoa|\n",
      "+--------------+-----------+------------------+-----------+-------------+\n",
      "|00001683293797|       NULL|              NULL|       NULL|            2|\n",
      "|00002117401872|       NULL|              NULL|       NULL|            2|\n",
      "+--------------+-----------+------------------+-----------+-------------+\n",
      "\n"
     ]
    },
    {
     "name": "stderr",
     "output_type": "stream",
     "text": [
      "                                                                                \r"
     ]
    }
   ],
   "source": [
    "vertex = g.vertices.filter(\"id = '00002117401872' or id ='00001683293797'\")\n",
    "vertex.show()"
   ]
  },
  {
   "cell_type": "code",
   "execution_count": 12,
   "id": "6dd05793-99cf-4bd8-89b2-ac766ad44820",
   "metadata": {},
   "outputs": [],
   "source": [
    "spark.stop()"
   ]
  }
 ],
 "metadata": {
  "kernelspec": {
   "display_name": "Python 3 (ipykernel)",
   "language": "python",
   "name": "python3"
  },
  "language_info": {
   "codemirror_mode": {
    "name": "ipython",
    "version": 3
   },
   "file_extension": ".py",
   "mimetype": "text/x-python",
   "name": "python",
   "nbconvert_exporter": "python",
   "pygments_lexer": "ipython3",
   "version": "3.9.18"
  }
 },
 "nbformat": 4,
 "nbformat_minor": 5
}
