{
 "cells": [
  {
   "cell_type": "markdown",
   "id": "5bf829a0-30c3-4ba6-b490-0f14b9f49cdf",
   "metadata": {},
   "source": [
    "# Módulo destinado a geração dos arquivos parquet\n",
    "##  O módulo deve ser executado para a preparação dos dados previamente ao uso do processo investigativo.\n",
    "1. Passo - Gera embeddings do Nome Fantasia "
   ]
  },
  {
   "cell_type": "code",
   "execution_count": 1,
   "id": "8a2e64ef-cd4f-49d9-a0c4-360cf0f961ca",
   "metadata": {},
   "outputs": [],
   "source": [
    "from pyspark import SparkConf\n",
    "from pyspark import SparkContext\n",
    "from pyspark.sql import SparkSession\n",
    "from pyspark.sql import Row\n",
    "from pyspark.sql.functions import col, from_json, substring, when, length, split, lit\n",
    "from pyspark.sql.types import StructType, StructField, StringType"
   ]
  },
  {
   "cell_type": "code",
   "execution_count": 2,
   "id": "d66de375-616f-4fa7-9ea8-4198d8284b06",
   "metadata": {},
   "outputs": [],
   "source": [
    "from trata_dados import trata_empresa\n",
    "from trata_dados import trata_socio\n",
    "from trata_dados import monta_vertice"
   ]
  },
  {
   "cell_type": "code",
   "execution_count": 3,
   "id": "9f93a4ad-1ee3-4f0d-bb13-1c772ee4010a",
   "metadata": {},
   "outputs": [],
   "source": [
    "# Nomes de aquivos e pastas\n",
    "# Arquivos de entrada\n",
    "csv_pj = 'dataset/completo/empresas_estabelecimentos*.csv'\n",
    "csv_socios = 'dataset/completo/socios*.csv' \n",
    "parquet_dir_name = 'output/embeddings_nome'\n",
    "# Arquivos de saída\n",
    "parquet_nodes = 'dataset/grapho/nodes'\n",
    "parquet_edges = 'dataset/grapho/edges'"
   ]
  },
  {
   "cell_type": "code",
   "execution_count": 4,
   "id": "49047807-7130-4195-97ad-bff15495b11a",
   "metadata": {},
   "outputs": [
    {
     "name": "stderr",
     "output_type": "stream",
     "text": [
      "24/08/22 13:39:43 WARN SparkSession: Using an existing Spark session; only runtime SQL configurations will take effect.\n"
     ]
    }
   ],
   "source": [
    "spark = SparkSession.builder \\\n",
    "        .config(\"spark.driver.memory\", \"128g\") \\\n",
    "        .appName(\"gera_embedding_nome\") \\\n",
    "        .getOrCreate()"
   ]
  },
  {
   "cell_type": "code",
   "execution_count": 5,
   "id": "bfda0ede-de6e-40eb-a663-c6ec4725485b",
   "metadata": {},
   "outputs": [],
   "source": [
    "empresas = trata_empresa(csv_pj, spark)\n"
   ]
  },
  {
   "cell_type": "code",
   "execution_count": 6,
   "id": "85e61eba-b039-4736-b486-e59ebd0c7590",
   "metadata": {},
   "outputs": [],
   "source": [
    "# Gera dataframe com nome fantasia\n",
    "nomes_empresas = empresas.select(col('id'),\n",
    "                      col('te_dados_es.nomeFantasia').alias('nomeFantasia')) \\\n",
    "                     .filter(col('te_dados_es.nomeFantasia') != '')"
   ]
  },
  {
   "cell_type": "markdown",
   "id": "3c09b58d-c67e-447d-85eb-45e70f63668f",
   "metadata": {},
   "source": [
    "#### Tratamento Nome Fantasia"
   ]
  },
  {
   "cell_type": "code",
   "execution_count": 7,
   "id": "c0fdc1e8-0bc0-42cc-94e7-8019d26140a2",
   "metadata": {},
   "outputs": [],
   "source": [
    "from sentence_transformers import SentenceTransformer\n",
    "from pyspark.sql.functions import udf\n",
    "from pyspark.sql.types import ArrayType, FloatType\n",
    "\n",
    "# Função para criar embeddings usando SentenceTransformer\n",
    "def generate_embeddings_with_model(text, model):\n",
    "    embeddings = model.encode(text)\n",
    "    return embeddings.tolist()\n",
    "\n",
    "# Criando a UDF\n",
    "# Criando o modelo SentenceTransformer\n",
    "model = SentenceTransformer('sentence-transformers/paraphrase-multilingual-MiniLM-L12-v2')\n",
    "\n",
    "# Criando a UDF com o modelo como parâmetro\n",
    "generate_embeddings_udf = udf(lambda text: generate_embeddings_with_model(text, model), ArrayType(FloatType()))"
   ]
  },
  {
   "cell_type": "code",
   "execution_count": 8,
   "id": "1bd6726d-e9d1-473e-bb51-01cb58e587ce",
   "metadata": {},
   "outputs": [],
   "source": [
    "# Gera embeddings\n",
    "nomes_empresas = nomes_empresas.withColumn('embeddings', generate_embeddings_udf(col('nomeFantasia')))"
   ]
  },
  {
   "cell_type": "code",
   "execution_count": 9,
   "id": "9d91ae03-5e83-4575-a14c-f85d06e72825",
   "metadata": {},
   "outputs": [
    {
     "name": "stderr",
     "output_type": "stream",
     "text": [
      "24/08/21 19:01:43 WARN SparkStringUtils: Truncated the string representation of a plan since it was too large. This behavior can be adjusted by setting 'spark.sql.debug.maxToStringFields'.\n",
      "                                                                                \r"
     ]
    }
   ],
   "source": [
    "# Persista o DataFrame para consulta posterior\n",
    "nomes_empresas.write.mode('overwrite').parquet(parquet_dir_name)"
   ]
  },
  {
   "cell_type": "markdown",
   "id": "26e8b8b0-bb42-4334-912e-f3676780154f",
   "metadata": {},
   "source": [
    "#### Tratamento Nós e Arestas"
   ]
  },
  {
   "cell_type": "code",
   "execution_count": 7,
   "id": "50aee9a2-aed5-4f05-80e9-7203f2eb1678",
   "metadata": {},
   "outputs": [],
   "source": [
    "socios = trata_socio(csv_socios, spark)"
   ]
  },
  {
   "cell_type": "code",
   "execution_count": 8,
   "id": "d6985f7d-06ce-4bb9-9859-b84714ee30cf",
   "metadata": {},
   "outputs": [],
   "source": [
    "nodes = monta_vertice(empresas, socios)"
   ]
  },
  {
   "cell_type": "code",
   "execution_count": 9,
   "id": "a8fa311f-4f6f-43ea-92c0-917a9d3bf2b6",
   "metadata": {},
   "outputs": [
    {
     "name": "stderr",
     "output_type": "stream",
     "text": [
      "24/08/22 13:47:43 WARN SparkStringUtils: Truncated the string representation of a plan since it was too large. This behavior can be adjusted by setting 'spark.sql.debug.maxToStringFields'.\n",
      "                                                                                \r"
     ]
    }
   ],
   "source": [
    "socios.write.mode('overwrite').parquet(parquet_edges)\n",
    "nodes.write.mode('overwrite').parquet(parquet_nodes)"
   ]
  },
  {
   "cell_type": "code",
   "execution_count": 10,
   "id": "cab62d85-4db2-4cd2-9651-ef4489483bec",
   "metadata": {},
   "outputs": [],
   "source": [
    "spark.stop()"
   ]
  }
 ],
 "metadata": {
  "kernelspec": {
   "display_name": "Python 3 (ipykernel)",
   "language": "python",
   "name": "python3"
  },
  "language_info": {
   "codemirror_mode": {
    "name": "ipython",
    "version": 3
   },
   "file_extension": ".py",
   "mimetype": "text/x-python",
   "name": "python",
   "nbconvert_exporter": "python",
   "pygments_lexer": "ipython3",
   "version": "3.9.18"
  }
 },
 "nbformat": 4,
 "nbformat_minor": 5
}
