{
 "cells": [
  {
   "cell_type": "code",
   "execution_count": 2,
   "id": "51141f25-3950-465f-84ec-7114bcbe6216",
   "metadata": {},
   "outputs": [],
   "source": [
    "from pyspark import SparkConf\n",
    "from pyspark import SparkContext\n",
    "from pyspark.sql import SparkSession\n",
    "from pyspark.sql.functions import *\n",
    "from pyspark.sql.types import StructType, StructField, StringType\n",
    "from graphframes import *"
   ]
  },
  {
   "cell_type": "code",
   "execution_count": 3,
   "id": "692f6c25-16d4-412f-81a9-99cb44ee0025",
   "metadata": {},
   "outputs": [],
   "source": [
    "# Dados de carga\n",
    "csv_pj = 'dataset/empresas_estabelecimentos_1m.csv'\n",
    "csv_socios = 'dataset/socios_1m.csv'\n",
    "checkpoint_dir = 'graphframes_cps_1m'\n",
    "maior_cnpj = '04258527'\n",
    "menor_cnpj = '03230095'"
   ]
  },
  {
   "cell_type": "code",
   "execution_count": 4,
   "id": "6394fb76-dbb9-4fd3-aed5-e693813e074c",
   "metadata": {},
   "outputs": [
    {
     "name": "stderr",
     "output_type": "stream",
     "text": [
      "23/12/12 22:42:03 WARN SparkSession: Using an existing Spark session; only runtime SQL configurations will take effect.\n"
     ]
    }
   ],
   "source": [
    "spark = SparkSession.builder \\\n",
    "        .config(\"spark.driver.memory\", \"128g\") \\\n",
    "        .appName(\"gera_arvore1\") \\\n",
    "        .getOrCreate()\n",
    "\n",
    "sc = spark.sparkContext\n",
    "sc.setCheckpointDir(checkpoint_dir)"
   ]
  },
  {
   "cell_type": "code",
   "execution_count": 5,
   "id": "a11b7b67-5803-4188-a8b5-5543a62776c0",
   "metadata": {},
   "outputs": [],
   "source": [
    "# Schema para Json Empresa\n",
    "json_schema_em = StructType([\n",
    "    StructField(\"porteEmpresa\", StringType(), True),\n",
    "    StructField(\"capitalSocial\", StringType(), True),\n",
    "    StructField(\"cpfResponsavel\", StringType(), True),\n",
    "    StructField(\"nomeEmpresarial\", StringType(), True),\n",
    "    StructField(\"naturezaJuridica\", StringType(), True),\n",
    "    StructField(\"qualificacaoResponsavel\", StringType(), True)\n",
    "])\n",
    "\n",
    "# Schema para Json Estabelecimento\n",
    "json_schema_es = StructType([\n",
    "    StructField(\"uf\", StringType(), True),\n",
    "    StructField(\"cep\", StringType(), True),\n",
    "    StructField(\"ddd1\", StringType(), True),\n",
    "    StructField(\"ddd2\", StringType(), True),\n",
    "    StructField(\"pais\", StringType(), True),\n",
    "    StructField(\"email\", StringType(), True),\n",
    "    StructField(\"bairro\", StringType(), True),\n",
    "    StructField(\"numero\", StringType(), True),\n",
    "    StructField(\"municipio\", StringType(), True),\n",
    "    StructField(\"telefone1\", StringType(), True),\n",
    "    StructField(\"telefone2\", StringType(), True),\n",
    "    StructField(\"cnaeFiscal\", StringType(), True),\n",
    "    StructField(\"logradouro\", StringType(), True),\n",
    "    StructField(\"complemento\", StringType(), True),\n",
    "    StructField(\"dataCadastro\", StringType(), True),\n",
    "    StructField(\"nomeFantasia\", StringType(), True),\n",
    "    StructField(\"cidadeExterior\", StringType(), True),\n",
    "    StructField(\"tipoLogradouro\", StringType(), True),\n",
    "    StructField(\"cnaesSecundarias\", StringType(), True),\n",
    "    StructField(\"situacaoEspecial\", StringType(), True),\n",
    "    StructField(\"situacaoCadastral\", StringType(), True),\n",
    "    StructField(\"dataSituacaoEspecial\", StringType(), True),\n",
    "    StructField(\"dataSituacaoCadastral\", StringType(), True),\n",
    "    StructField(\"motivoSituacaoCadastral\", StringType(), True),\n",
    "    StructField(\"identificadorMatrizFilial\", StringType(), True)\n",
    "])\n",
    "\n",
    "# Definindo o esquema para leitura do CSV\n",
    "schema = StructType([\n",
    "    StructField(\"nu_cnpj_raiz\", StringType(), True),\n",
    "    StructField(\"te_dados_em\", StringType(), True),\n",
    "    StructField(\"id_estabelecimento\", StringType(), True),\n",
    "    StructField(\"te_dados_es\", StringType(), True)\n",
    "])\n",
    "\n",
    "# Lendo o CSV com o esquema definido\n",
    "pj = spark.read \\\n",
    "    .option(\"delimiter\", \",\") \\\n",
    "    .option(\"multiline\", \"true\") \\\n",
    "    .option(\"escape\", \"\\\"\") \\\n",
    "    .csv(csv_pj, schema=schema, header=True)\n",
    "\n",
    "pj = pj.withColumn(\"te_dados_em\", from_json(col(\"te_dados_em\"), json_schema_em)) \\\n",
    "      .withColumn(\"te_dados_es\", from_json(col(\"te_dados_es\"), json_schema_es)) \\\n",
    "      .filter(substring(col(\"id_estabelecimento\"), 0, 4) == '0001') \\\n",
    "      .withColumnRenamed(\"nu_cnpj_raiz\", \"id\")\n",
    "\n",
    "pj = pj.orderBy(col(\"id\").asc()).dropDuplicates(['id'])\n",
    "\n",
    "# verificando unidade de chaves:\n",
    "# count_df = pj.groupBy('id').count()\n",
    "# repeated_cnpj = count_df.filter(col('count') > 1)\n",
    "# repeated_cnpj.show()"
   ]
  },
  {
   "cell_type": "code",
   "execution_count": 6,
   "id": "fb38ae22-cecd-4f52-af56-b360ea80a75a",
   "metadata": {},
   "outputs": [],
   "source": [
    "# Schema para Json Socios\n",
    "json_schema_sc = StructType([\n",
    "    StructField(\"pais\", StringType(), True),\n",
    "    StructField(\"entradaSociedade\", StringType(), True),\n",
    "    StructField(\"socioEstrangeiro\", StringType(), True),\n",
    "    StructField(\"qualificacaoSocio\", StringType(), True),\n",
    "    StructField(\"identificadorSocio\", StringType(), True),\n",
    "    StructField(\"cpfRepresentanteLegal\", StringType(), True),\n",
    "    StructField(\"qualificacaoRepresentanteLegal\", StringType(), True)\n",
    "])\n",
    "\n",
    "# Definindo o esquema para leitura do CSV\n",
    "schema = StructType([\n",
    "    StructField(\"nu_cnpj_raiz\", StringType(), True),\n",
    "    StructField(\"id_socio\", StringType(), True),\n",
    "    StructField(\"te_dados_sc\", StringType(), True)\n",
    "])\n",
    "\n",
    "# Lendo o CSV com o esquema definido\n",
    "socio = spark.read \\\n",
    "        .option(\"delimiter\", \",\") \\\n",
    "        .option(\"multiline\", \"true\") \\\n",
    "        .option(\"escape\", \"\\\"\") \\\n",
    "        .csv(csv_socios, schema=schema, header=True)\n",
    "\n",
    "# tratando o df socios\n",
    "# Tratamento 1: Expandir o JSON\n",
    "socio = socio.withColumn(\"te_dados_sc\", from_json(col(\"te_dados_sc\"), json_schema_sc))\n",
    "\n",
    "# converte cnpj para nu_cnpj_raiz\n",
    "socio = socio.withColumn(\"id_socio\", when(socio[\"te_dados_sc\"][\"identificadorSocio\"] == '1',\n",
    "                                    socio[\"id_socio\"].substr(1, 8))\n",
    "                                .otherwise(socio[\"id_socio\"]))\n",
    "# Remomeia fonte e destino\n",
    "socio = socio.withColumnRenamed(\"nu_cnpj_raiz\", \"src\").withColumnRenamed(\"id_socio\", \"dst\")\n",
    "# Ordena por src, dst e remove arestas dubplicadas\n",
    "socio = socio.orderBy(col(\"src\").asc(), col(\"dst\").asc()).dropDuplicates(['src', 'dst'])"
   ]
  },
  {
   "cell_type": "code",
   "execution_count": 7,
   "id": "b02b073d-916b-435f-ac52-0e827bba7edd",
   "metadata": {},
   "outputs": [],
   "source": [
    "# Cria df para vértices do tipo Pessoa Física:\n",
    "pf = socio.filter(col(\"te_dados_sc.identificadorSocio\") == '2').select(col(\"dst\").alias(\"id\")).distinct()\n",
    "\n",
    "# Cria df para vértices de PJs que não foram exportados, mas estão no dst dos sócios\n",
    "filtro = (col(\"te_dados_sc.identificadorSocio\") == '1') & ((col(\"dst\") > maior_cnpj) | (col(\"dst\") < menor_cnpj))\n",
    "pj_extra = socio.filter(filtro).select(col(\"dst\").alias(\"id\")).distinct()\n",
    "\n",
    "cols_pj = [col_name for col_name in pj.columns if col_name != 'id']\n",
    "for col_name in cols_pj:\n",
    "    pf = pf.withColumn(col_name, lit(None))\n",
    "    pj_extra = pj_extra.withColumn(col_name, lit(None))\n",
    "\n",
    "# cria tipo de pessoa nos vértices\n",
    "pj = pj.withColumn(\"id_tipoPessoa\", lit(1))\n",
    "pj_extra = pj_extra.withColumn(\"id_tipoPessoa\", lit(1))\n",
    "pf = pf.withColumn(\"id_tipoPessoa\", lit(2))\n",
    "\n",
    "# Cria tipo de relacionamento no socio\n",
    "socio = socio.withColumn(\"id_tipoRel\", lit(1))\n",
    "\n",
    "pj = pj.union(pj_extra)\n",
    "vertex = pj.union(pf).orderBy(\"id\")\n",
    "\n",
    "# verificando unidade de chaves:\n",
    "# count_df = vertex.groupBy('id').count()\n",
    "# repeated_vertex = count_df.filter(col('count') > 1)\n",
    "# repeated_vertex.show()"
   ]
  },
  {
   "cell_type": "code",
   "execution_count": 8,
   "id": "49d900d0-5945-461d-a54b-fe6515ffca3f",
   "metadata": {},
   "outputs": [
    {
     "name": "stderr",
     "output_type": "stream",
     "text": [
      "23/12/12 22:42:06 WARN SparkStringUtils: Truncated the string representation of a plan since it was too large. This behavior can be adjusted by setting 'spark.sql.debug.maxToStringFields'.\n"
     ]
    },
    {
     "data": {
      "text/plain": [
       "GraphFrame(v:[id: string, te_dados_em: struct<porteEmpresa: string, capitalSocial: string ... 4 more fields> ... 3 more fields], e:[src: string, dst: string ... 2 more fields])"
      ]
     },
     "execution_count": 8,
     "metadata": {},
     "output_type": "execute_result"
    }
   ],
   "source": [
    "# Criando o grafo de relacionamento empresas->socios\n",
    "g = GraphFrame(vertex, socio)\n",
    "g.cache()"
   ]
  },
  {
   "cell_type": "code",
   "execution_count": 9,
   "id": "5c54cd5e-d61a-4979-b6f3-3c39bdc9b992",
   "metadata": {},
   "outputs": [],
   "source": [
    "g_indegrees = g.inDegrees\n",
    "most_connected = g.vertices.join(g_indegrees, \"id\").orderBy(\"inDegree\", ascending=False).limit(10)"
   ]
  },
  {
   "cell_type": "code",
   "execution_count": 10,
   "id": "0c19777b-5c45-4d91-b529-67efd50525e0",
   "metadata": {},
   "outputs": [
    {
     "name": "stderr",
     "output_type": "stream",
     "text": [
      "[Stage 57:=======>                                                (9 + 58) / 67]\r"
     ]
    },
    {
     "name": "stdout",
     "output_type": "stream",
     "text": [
      "+--------------+-----------+------------------+-----------+-------------+--------+\n",
      "|            id|te_dados_em|id_estabelecimento|te_dados_es|id_tipoPessoa|inDegree|\n",
      "+--------------+-----------+------------------+-----------+-------------+--------+\n",
      "|      01354636|       NULL|              NULL|       NULL|            1|      53|\n",
      "|00070351392904|       NULL|              NULL|       NULL|            2|      47|\n",
      "|00009188529860|       NULL|              NULL|       NULL|            2|      32|\n",
      "|00003051537810|       NULL|              NULL|       NULL|            2|      32|\n",
      "|      10436776|       NULL|              NULL|       NULL|            1|      26|\n",
      "|00019395051868|       NULL|              NULL|       NULL|            2|      26|\n",
      "|00077027604868|       NULL|              NULL|       NULL|            2|      24|\n",
      "|      73178600|       NULL|              NULL|       NULL|            1|      23|\n",
      "|00063408120153|       NULL|              NULL|       NULL|            2|      21|\n",
      "|00010407091840|       NULL|              NULL|       NULL|            2|      20|\n",
      "+--------------+-----------+------------------+-----------+-------------+--------+\n",
      "\n"
     ]
    },
    {
     "name": "stderr",
     "output_type": "stream",
     "text": [
      "                                                                                \r"
     ]
    }
   ],
   "source": [
    "most_connected.show()"
   ]
  },
  {
   "cell_type": "code",
   "execution_count": 16,
   "id": "ee6afc19-eafa-4d6e-9767-07196636dba2",
   "metadata": {},
   "outputs": [],
   "source": [
    "# chaves: 03235791, 73178600, 01354636\n",
    "id = '19322044'\n",
    "\n",
    "# Nós adjacentes 1 nível\n",
    "# pFind = \"(a)-[e]->(b)\"\n",
    "# pFilter = f\"a.id = '{id}'\"\n",
    "# pSelect = \"e.*\"\n",
    "\n",
    "# Nós adjacentes 1 nível\n",
    "pFind = \"(a)-[e]->(b)\"\n",
    "\n",
    "edges = g.find(pFind) \\\n",
    "          .filter(f\"(a.id = '{id}') OR (b.id = '{id}')\") \\\n",
    "          .select(\"e.*\")\n",
    "# edges.show()\n",
    "v = edges.select(\"src\").union(edges.select(\"dst\")).distinct()\n",
    "vertices = g.vertices.join(v, g.vertices[\"id\"] == v[\"src\"], \"inner\").select(g.vertices[\"*\"])"
   ]
  },
  {
   "cell_type": "code",
   "execution_count": 21,
   "id": "e54ad85a-282a-4db7-b7a7-8b2631b9cd15",
   "metadata": {},
   "outputs": [
    {
     "name": "stderr",
     "output_type": "stream",
     "text": [
      "                                                                                \r"
     ]
    },
    {
     "name": "stdout",
     "output_type": "stream",
     "text": [
      "+---+---+-----------+----------+\n",
      "|src|dst|te_dados_sc|id_tipoRel|\n",
      "+---+---+-----------+----------+\n",
      "+---+---+-----------+----------+\n",
      "\n"
     ]
    }
   ],
   "source": [
    "edges.show()"
   ]
  },
  {
   "cell_type": "code",
   "execution_count": 17,
   "id": "3f8e1417-9994-4809-bbc4-7c3fa9fe7762",
   "metadata": {},
   "outputs": [
    {
     "name": "stderr",
     "output_type": "stream",
     "text": [
      "                                                                                \r"
     ]
    }
   ],
   "source": [
    "# Converter os DataFrames do PySpark para DataFrames do Pandas\n",
    "pandas_vertices = vertices.toPandas()\n",
    "pandas_edges = edges.toPandas()"
   ]
  },
  {
   "cell_type": "code",
   "execution_count": 20,
   "id": "0099e181-532a-4c4a-aa92-c856bd426527",
   "metadata": {},
   "outputs": [
    {
     "data": {
      "text/html": [
       "<div>\n",
       "<style scoped>\n",
       "    .dataframe tbody tr th:only-of-type {\n",
       "        vertical-align: middle;\n",
       "    }\n",
       "\n",
       "    .dataframe tbody tr th {\n",
       "        vertical-align: top;\n",
       "    }\n",
       "\n",
       "    .dataframe thead th {\n",
       "        text-align: right;\n",
       "    }\n",
       "</style>\n",
       "<table border=\"1\" class=\"dataframe\">\n",
       "  <thead>\n",
       "    <tr style=\"text-align: right;\">\n",
       "      <th></th>\n",
       "      <th>src</th>\n",
       "      <th>dst</th>\n",
       "      <th>te_dados_sc</th>\n",
       "      <th>id_tipoRel</th>\n",
       "    </tr>\n",
       "  </thead>\n",
       "  <tbody>\n",
       "  </tbody>\n",
       "</table>\n",
       "</div>"
      ],
      "text/plain": [
       "Empty DataFrame\n",
       "Columns: [src, dst, te_dados_sc, id_tipoRel]\n",
       "Index: []"
      ]
     },
     "execution_count": 20,
     "metadata": {},
     "output_type": "execute_result"
    }
   ],
   "source": []
  },
  {
   "cell_type": "code",
   "execution_count": 18,
   "id": "e802ff70-e6ae-4db1-93dd-f06c8a7f499b",
   "metadata": {},
   "outputs": [
    {
     "data": {
      "image/png": "[encoded data removed]",
      "text/plain": [
       "<Figure size 640x480 with 1 Axes>"
      ]
     },
     "metadata": {},
     "output_type": "display_data"
    }
   ],
   "source": [
    "import networkx as nx\n",
    "import matplotlib.pyplot as plt\n",
    "import pandas as pd\n",
    "\n",
    "# Criar um grafo direcionado NetworkX\n",
    "G = nx.DiGraph()\n",
    "\n",
    "# Adicionar vértices e atribuir cores com base em 'id_tipoPessoa'\n",
    "cores_vertices = pandas_vertices.set_index('id')['id_tipoPessoa'].to_dict()\n",
    "G.add_nodes_from(pandas_vertices[\"id\"].tolist())\n",
    "\n",
    "# Adicionar arestas e atribuir cores com base em 'id_tipoRel'\n",
    "cores_arestas = pandas_edges.set_index(['src', 'dst'])['id_tipoRel'].to_dict()\n",
    "G.add_edges_from(pandas_edges[[\"src\", \"dst\"]].values)\n",
    "\n",
    "# Definir estilos e atributos visuais\n",
    "pos = nx.circular_layout(G)  # Layout do grafo\n",
    "largura_arestas = 2  # Largura das arestas\n",
    "\n",
    "# Plotar os vértices com cores baseadas em 'id_tipoPessoa'\n",
    "nx.draw_networkx_nodes(G, pos, node_color=[cores_vertices[n] for n in G.nodes()], cmap=plt.cm.tab10, node_size=300)\n",
    "\n",
    "# Plotar as arestas com cores baseadas em 'id_tipoRel'\n",
    "nx.draw_networkx_edges(G, pos, edge_color=[cores_arestas[(src, dst)] for src, dst in G.edges()], width=largura_arestas, alpha=0.5)\n",
    "\n",
    "# Adicionar labels para 'id_tipoPessoa' igual a 1\n",
    "labels = {n: n if cores_vertices[n] == 1 else '' for n in G.nodes()}\n",
    "nx.draw_networkx_labels(G, pos, labels, font_size=10)\n",
    "\n",
    "# Mostrar o grafo com um layout mais bonito\n",
    "plt.tight_layout()\n",
    "plt.axis('off')\n",
    "plt.show()\n"
   ]
  },
  {
   "cell_type": "code",
   "execution_count": null,
   "id": "6dd05793-99cf-4bd8-89b2-ac766ad44820",
   "metadata": {},
   "outputs": [],
   "source": [
    "spark.stop()"
   ]
  }
 ],
 "metadata": {
  "kernelspec": {
   "display_name": "Python 3 (ipykernel)",
   "language": "python",
   "name": "python3"
  },
  "language_info": {
   "codemirror_mode": {
    "name": "ipython",
    "version": 3
   },
   "file_extension": ".py",
   "mimetype": "text/x-python",
   "name": "python",
   "nbconvert_exporter": "python",
   "pygments_lexer": "ipython3",
   "version": "3.9.18"
  }
 },
 "nbformat": 4,
 "nbformat_minor": 5
}
