{
 "cells": [
  {
   "cell_type": "markdown",
   "id": "cbb63ea5-bc17-4ebf-b144-6ebf8100766f",
   "metadata": {},
   "source": [
    "# Consulta Alvo da Investigação "
   ]
  },
  {
   "cell_type": "code",
   "execution_count": 37,
   "id": "51141f25-3950-465f-84ec-7114bcbe6216",
   "metadata": {},
   "outputs": [],
   "source": [
    "from pyspark import SparkConf\n",
    "from pyspark import SparkContext\n",
    "from pyspark.sql import SparkSession\n",
    "from pyspark.sql.functions import *\n",
    "from pyspark.sql.types import StructType, StructField, StringType\n",
    "from graphframes import *"
   ]
  },
  {
   "cell_type": "code",
   "execution_count": 38,
   "id": "692f6c25-16d4-412f-81a9-99cb44ee0025",
   "metadata": {},
   "outputs": [],
   "source": [
    "# Nomes de aquivos e pastas\n",
    "parquet_dir_name = 'output/embeddings_nome_30m'\n",
    "parquet_nodes  = 'dataset/grapho/nodes_30m'\n",
    "parquet_edges = 'dataset/grapho/edges_30m'\n",
    "# cnpj_alvo='27364903' # Eco em pets\n",
    "# cnpj_alvo='20848420' # Saritur # https://shorturl.at/tEMO7\n",
    "# cnpj_alvo='15464658' # Sta Terezinha Atacadista # https://shorturl.at/koqz4\n",
    "#cnpj_alvo='07738069' # Super adega\n",
    "cnpj_alvo='19322044' # Cincol"
   ]
  },
  {
   "cell_type": "markdown",
   "id": "5c153818-3f5c-438c-9d2c-f12261a6c4b4",
   "metadata": {},
   "source": [
    "## Incicia Secção do Spark"
   ]
  },
  {
   "cell_type": "code",
   "execution_count": 39,
   "id": "6394fb76-dbb9-4fd3-aed5-e693813e074c",
   "metadata": {},
   "outputs": [],
   "source": [
    "spark = SparkSession.builder \\\n",
    "            .appName(\"consulta_arvore\") \\\n",
    "            .getOrCreate()"
   ]
  },
  {
   "cell_type": "markdown",
   "id": "bfb586bc-3c0f-4bb4-a560-2de8b08c43af",
   "metadata": {},
   "source": [
    "### Realizar a leitura Nodes (Pjs e Pfs) e Edges (relacionamentos) e monta grafo"
   ]
  },
  {
   "cell_type": "code",
   "execution_count": 40,
   "id": "a11b7b67-5803-4188-a8b5-5543a62776c0",
   "metadata": {},
   "outputs": [],
   "source": [
    "# Carrega nodes\n",
    "nodes = spark.read.parquet(parquet_nodes)"
   ]
  },
  {
   "cell_type": "code",
   "execution_count": 41,
   "id": "fb38ae22-cecd-4f52-af56-b360ea80a75a",
   "metadata": {},
   "outputs": [],
   "source": [
    "# Carrega edges\n",
    "edges = spark.read.parquet(parquet_edges)"
   ]
  },
  {
   "cell_type": "code",
   "execution_count": 42,
   "id": "d08f0a52-a874-48f8-920b-675679867f4e",
   "metadata": {},
   "outputs": [],
   "source": [
    "# Carrega embeddings\n",
    "embeddings = spark.read.parquet(parquet_dir_name)"
   ]
  },
  {
   "cell_type": "code",
   "execution_count": 43,
   "id": "49d900d0-5945-461d-a54b-fe6515ffca3f",
   "metadata": {},
   "outputs": [],
   "source": [
    "# Criando o grafo de relacionamento empresas->socios\n",
    "g = GraphFrame(nodes, edges)"
   ]
  },
  {
   "cell_type": "markdown",
   "id": "71543422-2f88-4c5b-954a-6527f8969154",
   "metadata": {},
   "source": [
    "## Começa investigação do CNPJ alvo\n",
    "O fluxosegue nessa ordem:\n",
    "1. Consulta sócios do CNPJ alvo para formar a lista de Sócios Alvo, junto consulta-se o nome fantasia.\n",
    "2. Consula dos CEP do dos Sócios Alvo\n",
    "4. __Montas-se o Cluster de empresas pelo CEP__ - Leitura dos vetores do embedding dos nomes fantasias do universo de empresas a serem pesquisadas."
   ]
  },
  {
   "cell_type": "code",
   "execution_count": 44,
   "id": "ee6afc19-eafa-4d6e-9767-07196636dba2",
   "metadata": {},
   "outputs": [],
   "source": [
    "# Consulta todos sócios do alvo\n",
    "id = cnpj_alvo\n",
    "\n",
    "pFind  = \"(a)-[e]->(b)\"\n",
    "socios_target = g.find(pFind) \\\n",
    "          .filter(f\"(a.id = '{id}') OR (b.id = '{id}')\") \\\n",
    "          .select(col(\"a.id\").alias(\"src\"), col(\"a.te_dados_es.nomeFantasia\").alias(\"src_nome\"), col(\"a.te_dados_es.cep\").alias(\"src_cep\"),\n",
    "                  col(\"b.id\").alias(\"dst\"), col(\"b.te_dados_es.nomeFantasia\").alias(\"dst_nome\"), col(\"b.te_dados_es.cep\").alias(\"dst_cep\"),\n",
    "                  col(\"b.id_tipoPessoa\").alias(\"id_tipoPessoa\")) \\\n",
    "          .distinct()"
   ]
  },
  {
   "cell_type": "code",
   "execution_count": 45,
   "id": "682616fa-4b10-4a96-8e26-1e32eadd6f3c",
   "metadata": {},
   "outputs": [],
   "source": [
    "# Realizar tratamento na pesquisa\n",
    "condicao_1 = socios_target.select(col('src').alias('id'), col('src_nome').alias('nomeFantasia'), col('src_cep').alias('cep'))\n",
    "\n",
    "# Selecionar as linhas onde id_tipoPessoa é diferente de 1\n",
    "condicao_2 = socios_target.filter(col('id_tipoPessoa') == 1).select(col('dst').alias('id'), col('dst_nome').alias('nomeFantasia'),\n",
    "                                                                    col('dst_cep').alias('cep'))\n",
    "\n",
    "# Juntar as duas condições e remover linhas duplicadas\n",
    "socios_alvo_final = condicao_1.union(condicao_2).distinct()"
   ]
  },
  {
   "cell_type": "code",
   "execution_count": 46,
   "id": "5c54cd5e-d61a-4979-b6f3-3c39bdc9b992",
   "metadata": {},
   "outputs": [],
   "source": [
    "# Realiza um join entre 'socios_alvo_final' e 'g.vertices' usando a coluna 'id' como chave\n",
    "joined_data = socios_alvo_final.join(g.vertices, socios_alvo_final['id'] == g.vertices['id'])\n",
    "socios_alvo_final_cep = joined_data.select(socios_alvo_final['id'],\n",
    "                                           socios_alvo_final['nomeFantasia'],\n",
    "                                           socios_alvo_final['cep'])"
   ]
  },
  {
   "cell_type": "code",
   "execution_count": 47,
   "id": "5bec60cd-e58c-4a68-97da-869158f5f70d",
   "metadata": {},
   "outputs": [
    {
     "name": "stderr",
     "output_type": "stream",
     "text": [
      "                                                                                \r"
     ]
    }
   ],
   "source": [
    "# Monta lista de CEPs e realiza a consulta \n",
    "cep_not_null = socios_alvo_final_cep.filter(col('cep').isNotNull())\n",
    "cep_list = cep_not_null.select('cep').distinct().rdd.flatMap(lambda x: x).collect()\n",
    "\n",
    "cnpjs_universo = g.vertices.filter(col('te_dados_es.cep').isin(cep_list)).select(\"id\")"
   ]
  },
  {
   "cell_type": "code",
   "execution_count": 48,
   "id": "84522359-00ad-49ee-b046-e7d1f4e7051d",
   "metadata": {},
   "outputs": [],
   "source": [
    "# Join com os embeddings para recuperar os vetores\n",
    "embeddings_universo = cnpjs_universo.join(embeddings, embeddings[\"id\"] == cnpjs_universo[\"id\"], \"inner\") \\\n",
    "                                    .select(embeddings[\"id\"], embeddings[\"nomeFantasia\"],  embeddings[\"embeddings\"])"
   ]
  },
  {
   "cell_type": "markdown",
   "id": "233f8b6f-2c1a-429a-93e4-f92777c6a02a",
   "metadata": {},
   "source": [
    "### Consulta todos os CNPJ Sócios PJ do CNPJ alvos\n",
    "Todos os sócios do CNPJ alvo formarão a lista de socios alvo"
   ]
  },
  {
   "cell_type": "markdown",
   "id": "e5ec709f-9651-430d-b8a2-ad8f6090a7ff",
   "metadata": {},
   "source": [
    "### Procedimenots para montagem da __Matriz de Similariedade__\n",
    "A Matriz de Similaridade contém pontuações de similaridade entre os nomes nos Sócios Alvos. É usada  similaridade de cosseno que variam de -1 a 1. O valor 1 indica similaridade total e 0 indica nenhuma similaridade. Os passos para sua geração são os segintes:\n",
    "1. Gera os embeddings dos nomes fantasia dos Socios Alvo\n",
    "2. Monta __Matriz de Similariedade__\n",
    "3. Seleciona coordenadas com Similariedade > 0,9  "
   ]
  },
  {
   "cell_type": "code",
   "execution_count": 49,
   "id": "c9385f25-d2b4-407f-9bb4-91ec9061b81d",
   "metadata": {},
   "outputs": [
    {
     "name": "stderr",
     "output_type": "stream",
     "text": [
      "                                                                                \r"
     ]
    }
   ],
   "source": [
    "# Filtra e seleciona os nomes distintos para cruzamento\n",
    "socios_alvo_final_nome = socios_alvo_final_cep.filter((col('nomeFantasia').isNotNull()) & (col('nomeFantasia') != ''))\n",
    "nomes_alvo = socios_alvo_final_nome.select(\"nomeFantasia\").distinct().rdd.flatMap(lambda x: x).collect()"
   ]
  },
  {
   "cell_type": "code",
   "execution_count": 50,
   "id": "cbcfedbe-c19c-4adb-ab39-d7b0b528423c",
   "metadata": {},
   "outputs": [],
   "source": [
    "# Recuperando embeddings para nomes_Alvos\n",
    "from sentence_transformers import SentenceTransformer\n",
    "model = SentenceTransformer('sentence-transformers/paraphrase-multilingual-MiniLM-L12-v2')\n",
    "embeddings_target = model.encode(nomes_alvo)"
   ]
  },
  {
   "cell_type": "code",
   "execution_count": 51,
   "id": "6d52d63c-c1fc-4337-9153-41a741cfda4e",
   "metadata": {},
   "outputs": [
    {
     "name": "stderr",
     "output_type": "stream",
     "text": [
      "                                                                                \r"
     ]
    }
   ],
   "source": [
    "# Gera matriz de similiariedade com nomes localizados \n",
    "from sklearn.metrics.pairwise import cosine_similarity\n",
    "import numpy as np\n",
    "\n",
    "# Converter os embeddings para um formato compatível com o cosine_similarity\n",
    "embeddings = np.array(embeddings_universo.select(\"embeddings\").collect())\n",
    "embeddings =  np.vstack(embeddings)\n",
    "\n",
    "# Calcular a matriz de similaridade usando cosine_similarity\n",
    "matriz_similaridade = cosine_similarity(embeddings_target, embeddings)\n",
    "\n",
    "# Imprimir a matriz de similaridade\n",
    "# print(matriz_similaridade)"
   ]
  },
  {
   "cell_type": "code",
   "execution_count": 52,
   "id": "816dddbc-85a2-4dd6-a181-bfc7ea081036",
   "metadata": {},
   "outputs": [],
   "source": [
    "# Localiza coordenadas\n",
    "ordenadas, abscissas = np.where(matriz_similaridade > 0.9)"
   ]
  },
  {
   "cell_type": "markdown",
   "id": "1970aa5d-8cbd-4c62-90bf-1e764bfda741",
   "metadata": {},
   "source": [
    "### Apresenta o resultado de similaridade de nomes nas Empresas com o mesmo CEP"
   ]
  },
  {
   "cell_type": "code",
   "execution_count": 53,
   "id": "e17ea34a-ffab-4137-9cf5-5618848986c3",
   "metadata": {},
   "outputs": [
    {
     "name": "stderr",
     "output_type": "stream",
     "text": [
      "                                                                                \r"
     ]
    }
   ],
   "source": [
    "# Função para obter os valores de id e nomeFantasia\n",
    "def obter_valores(dataframe, indices):\n",
    "    return dataframe.select(\"id\", \"nomeFantasia\").collect()[indices]\n",
    "# Imprimir valores encontrados\n",
    "lista_triplas = []\n",
    "for i in range(len(ordenadas)):\n",
    "    # Valor 1: Matriz de similaridade\n",
    "    valor_1 = matriz_similaridade[ordenadas[i], abscissas[i]]\n",
    "\n",
    "    # Valor 2: Campos 'id' e 'nomeFantasia' de embeddings_universo usando n-ésimo índice das ordenadas\n",
    "    valor_2_embeddings = obter_valores(embeddings_universo, abscissas[i])\n",
    "\n",
    "    # Valor 3: Campos 'id' e 'nomeFantasia' de socios_final usando n-ésimo índice das ordenadas\n",
    "    valor_3_socios = obter_valores(socios_alvo_final_nome, ordenadas[i])\n",
    "\n",
    "    # print(valor_1, valor_2_embeddings, valor_3_socios)\n",
    "    \n",
    "    # Adicionar à lista de triplas\n",
    "    lista_triplas.append((valor_1, valor_2_embeddings, valor_3_socios))"
   ]
  },
  {
   "cell_type": "code",
   "execution_count": 54,
   "id": "8061a129-85c1-46ce-89b4-cb9a0d2083e3",
   "metadata": {},
   "outputs": [],
   "source": [
    "# Serparando os ids para localização dos dados das empresas\n",
    "ids_localizados = [tripla[1]['id'] for tripla in lista_triplas]\n",
    "ids_alvos = [tripla[2]['id'] for tripla in lista_triplas]\n",
    "valor_sim = [tripla[0] for tripla in lista_triplas]"
   ]
  },
  {
   "cell_type": "markdown",
   "id": "cf075029-8872-4015-a54c-c2f3c16e4eb3",
   "metadata": {},
   "source": [
    "## Compara quesitos entre empresas localizadas\n",
    "1. Filtra empresas\n",
    "2. Compara todas com alvos\n",
    "3. Mostar matriz com resultados"
   ]
  },
  {
   "cell_type": "code",
   "execution_count": 55,
   "id": "83ac619d-6392-4ddf-948b-777995f5de68",
   "metadata": {},
   "outputs": [],
   "source": [
    "import pandas as pd\n",
    "data =  {'id_localizados': ids_localizados, 'ids_alvos': ids_alvos, 'valor_sim': valor_sim}\n",
    "df_sim = pd.DataFrame(data)"
   ]
  },
  {
   "cell_type": "code",
   "execution_count": 56,
   "id": "22fcbc34-0e61-4f77-8d3b-c5e7f2b97301",
   "metadata": {},
   "outputs": [],
   "source": [
    "# Monta dataframes\n",
    "df_id_localizados = g.vertices.filter(col('id').isin(df_sim['id_localizados'].unique().tolist())).toPandas()\n",
    "df_id_alvos = g.vertices.filter(col('id').isin(df_sim['ids_alvos'].unique().tolist())).toPandas()"
   ]
  },
  {
   "cell_type": "code",
   "execution_count": 57,
   "id": "2cdbb4f5-102e-44eb-a9fe-4fada1708cbb",
   "metadata": {},
   "outputs": [
    {
     "data": {
      "text/html": [
       "<div>\n",
       "<style scoped>\n",
       "    .dataframe tbody tr th:only-of-type {\n",
       "        vertical-align: middle;\n",
       "    }\n",
       "\n",
       "    .dataframe tbody tr th {\n",
       "        vertical-align: top;\n",
       "    }\n",
       "\n",
       "    .dataframe thead th {\n",
       "        text-align: right;\n",
       "    }\n",
       "</style>\n",
       "<table border=\"1\" class=\"dataframe\">\n",
       "  <thead>\n",
       "    <tr style=\"text-align: right;\">\n",
       "      <th></th>\n",
       "      <th>id_localizados</th>\n",
       "      <th>ids_alvos</th>\n",
       "      <th>valor_sim</th>\n",
       "    </tr>\n",
       "  </thead>\n",
       "  <tbody>\n",
       "    <tr>\n",
       "      <th>0</th>\n",
       "      <td>19324143</td>\n",
       "      <td>19322044</td>\n",
       "      <td>1.0</td>\n",
       "    </tr>\n",
       "    <tr>\n",
       "      <th>1</th>\n",
       "      <td>19322044</td>\n",
       "      <td>19322044</td>\n",
       "      <td>1.0</td>\n",
       "    </tr>\n",
       "    <tr>\n",
       "      <th>2</th>\n",
       "      <td>19324258</td>\n",
       "      <td>19322044</td>\n",
       "      <td>1.0</td>\n",
       "    </tr>\n",
       "    <tr>\n",
       "      <th>3</th>\n",
       "      <td>19321977</td>\n",
       "      <td>19322044</td>\n",
       "      <td>1.0</td>\n",
       "    </tr>\n",
       "  </tbody>\n",
       "</table>\n",
       "</div>"
      ],
      "text/plain": [
       "  id_localizados ids_alvos  valor_sim\n",
       "0       19324143  19322044        1.0\n",
       "1       19322044  19322044        1.0\n",
       "2       19324258  19322044        1.0\n",
       "3       19321977  19322044        1.0"
      ]
     },
     "execution_count": 57,
     "metadata": {},
     "output_type": "execute_result"
    }
   ],
   "source": [
    "df_sim"
   ]
  },
  {
   "cell_type": "code",
   "execution_count": 58,
   "id": "c6b6d640-1f56-4043-9fa0-4f8d3ef6ddac",
   "metadata": {},
   "outputs": [],
   "source": [
    "# Calcula sililariedade de nome\n",
    "def similariedade(df_sim, id_localizados, ids_alvos):\n",
    "    # Filtrar o DataFrame df_sim pelos valores desejados de id_localizados e ids_alvos\n",
    "    filtro = (df_sim['id_localizados'] == id_localizados) & (df_sim['ids_alvos'] == ids_alvos)\n",
    "    valor_sim_filtrado = df_sim.loc[filtro, 'valor_sim']\n",
    "\n",
    "    # Verificar se há valores encontrados\n",
    "    if not valor_sim_filtrado.empty:\n",
    "        # Se houver valores encontrados, formatar como porcentagem\n",
    "        valor_formatado = f\"{valor_sim_filtrado.iloc[0] * 100:.2f}%\"  # Considerando apenas o primeiro valor encontrado\n",
    "        return valor_formatado\n",
    "    else:\n",
    "        return '-'"
   ]
  },
  {
   "cell_type": "code",
   "execution_count": 59,
   "id": "e020a42a-bd7c-4366-9a89-8697592bdee2",
   "metadata": {},
   "outputs": [
    {
     "data": {
      "text/plain": [
       "'Alvo = 19322044'"
      ]
     },
     "metadata": {},
     "output_type": "display_data"
    },
    {
     "data": {
      "text/html": [
       "<div>\n",
       "<style scoped>\n",
       "    .dataframe tbody tr th:only-of-type {\n",
       "        vertical-align: middle;\n",
       "    }\n",
       "\n",
       "    .dataframe tbody tr th {\n",
       "        vertical-align: top;\n",
       "    }\n",
       "\n",
       "    .dataframe thead th {\n",
       "        text-align: right;\n",
       "    }\n",
       "</style>\n",
       "<table border=\"1\" class=\"dataframe\">\n",
       "  <thead>\n",
       "    <tr style=\"text-align: right;\">\n",
       "      <th></th>\n",
       "      <th>id</th>\n",
       "      <th>cep</th>\n",
       "      <th>logradouro</th>\n",
       "      <th>cpfResponsavel</th>\n",
       "      <th>telefone1</th>\n",
       "      <th>email</th>\n",
       "      <th>cnae</th>\n",
       "      <th>nomeFantasia</th>\n",
       "    </tr>\n",
       "  </thead>\n",
       "  <tbody>\n",
       "    <tr>\n",
       "      <th>0</th>\n",
       "      <td>19321977</td>\n",
       "      <td>✔️</td>\n",
       "      <td>✔️</td>\n",
       "      <td>✔️</td>\n",
       "      <td>✔️</td>\n",
       "      <td>✔️</td>\n",
       "      <td>✔️</td>\n",
       "      <td>100.00%</td>\n",
       "    </tr>\n",
       "    <tr>\n",
       "      <th>1</th>\n",
       "      <td>19322044</td>\n",
       "      <td>✔️</td>\n",
       "      <td>✔️</td>\n",
       "      <td>✔️</td>\n",
       "      <td>✔️</td>\n",
       "      <td>✔️</td>\n",
       "      <td>✔️</td>\n",
       "      <td>100.00%</td>\n",
       "    </tr>\n",
       "    <tr>\n",
       "      <th>2</th>\n",
       "      <td>19324143</td>\n",
       "      <td>✔️</td>\n",
       "      <td>✔️</td>\n",
       "      <td>✔️</td>\n",
       "      <td>✔️</td>\n",
       "      <td>✔️</td>\n",
       "      <td>✔️</td>\n",
       "      <td>100.00%</td>\n",
       "    </tr>\n",
       "    <tr>\n",
       "      <th>3</th>\n",
       "      <td>19324258</td>\n",
       "      <td>✔️</td>\n",
       "      <td>✔️</td>\n",
       "      <td>✔️</td>\n",
       "      <td>✔️</td>\n",
       "      <td>✔️</td>\n",
       "      <td>✔️</td>\n",
       "      <td>100.00%</td>\n",
       "    </tr>\n",
       "  </tbody>\n",
       "</table>\n",
       "</div>"
      ],
      "text/plain": [
       "         id cep logradouro cpfResponsavel telefone1 email cnae nomeFantasia\n",
       "0  19321977  ✔️         ✔️             ✔️        ✔️    ✔️   ✔️      100.00%\n",
       "1  19322044  ✔️         ✔️             ✔️        ✔️    ✔️   ✔️      100.00%\n",
       "2  19324143  ✔️         ✔️             ✔️        ✔️    ✔️   ✔️      100.00%\n",
       "3  19324258  ✔️         ✔️             ✔️        ✔️    ✔️   ✔️      100.00%"
      ]
     },
     "metadata": {},
     "output_type": "display_data"
    }
   ],
   "source": [
    "import pandas as pd\n",
    "\n",
    "# Lista para armazenar os resultados de cada comparação\n",
    "resultados = {}\n",
    "\n",
    "# Iterar sobre cada linha de df_id_alvos\n",
    "for indice_alvos, linha_alvos in df_id_alvos.iterrows():\n",
    "    id_alvos = linha_alvos['id']\n",
    "    te_dados_es_alvos = linha_alvos['te_dados_es']\n",
    "    te_dados_em_alvos = linha_alvos['te_dados_em']\n",
    "    \n",
    "    # DataFrame para armazenar os resultados desta linha de df_id_alvos\n",
    "    df_resultado = {'id': [], 'cep': [], 'logradouro': [], 'cpfResponsavel': [], 'telefone1': [], 'email': [], 'cnae': [], 'nomeFantasia': []}\n",
    "    \n",
    "    # Iterar sobre cada linha de df_id_localizados para comparar com a linha atual de df_id_alvos\n",
    "    for indice_localizados, linha_localizados in df_id_localizados.iterrows():\n",
    "        id_localizados = linha_localizados['id']\n",
    "        te_dados_es_localizados = linha_localizados['te_dados_es']\n",
    "        te_dados_em_localizados = linha_localizados['te_dados_em']\n",
    "        \n",
    "        # Comparar os campos desejados\n",
    "        resultado_cep = '✔️' if te_dados_es_alvos['cep'] == te_dados_es_localizados['cep'] else '❌'\n",
    "        resultado_logradouro = '✔️' if te_dados_es_alvos['logradouro'] == te_dados_es_localizados['logradouro'] else '❌'\n",
    "        resultado_cpf = '✔️' if te_dados_em_alvos['cpfResponsavel'] == te_dados_em_localizados['cpfResponsavel'] else '❌'\n",
    "        resultado_telefone = '✔️' if te_dados_es_alvos['telefone1'] == te_dados_es_localizados['telefone1'] else '❌'\n",
    "        resultado_email = '✔️' if te_dados_es_alvos['email'] == te_dados_es_localizados['email'] else '❌'\n",
    "        resultado_cnae = '✔️' if te_dados_es_alvos['cnaeFiscal'] == te_dados_es_localizados['cnaeFiscal'] else '❌'\n",
    "        resultado_nomeFantasia = similariedade(df_sim, id_localizados, ids_alvos)\n",
    "        \n",
    "        # Adicionar resultados à lista\n",
    "        df_resultado['id'].append(id_localizados)\n",
    "        df_resultado['cep'].append(resultado_cep)\n",
    "        df_resultado['logradouro'].append(resultado_logradouro)\n",
    "        df_resultado['cpfResponsavel'].append(resultado_cpf)\n",
    "        df_resultado['telefone1'].append(resultado_telefone)\n",
    "        df_resultado['email'].append(resultado_email)\n",
    "        df_resultado['cnae'].append(resultado_cnae)\n",
    "        df_resultado['nomeFantasia'].append(resultado_nomeFantasia)\n",
    "    \n",
    "    # Criar DataFrame com os resultados desta linha de df_id_alvos\n",
    "    df_resultado = pd.DataFrame(df_resultado)\n",
    "    \n",
    "    # Adicionar à lista de resultados com o título correspondente\n",
    "    titulo = f\"Alvo = {id_alvos}\"\n",
    "    resultados[titulo] = df_resultado\n",
    "\n",
    "# Acessar os DataFrames resultantes pelo título correspondente\n",
    "for titulo, df_resultado in resultados.items():\n",
    "    display(f\"{titulo}\")\n",
    "    display(df_resultado)\n"
   ]
  },
  {
   "cell_type": "markdown",
   "id": "46404c4d-98ab-46d4-8b5c-af193a665df4",
   "metadata": {},
   "source": [
    "## Mostra Visulamente relação entre alvos e supeitos\n",
    "1. Define funções para plotagem\n",
    "2. Desenha grafo como antes e depois"
   ]
  },
  {
   "cell_type": "code",
   "execution_count": 63,
   "id": "ec8effdb-c943-4b09-8965-819613a13185",
   "metadata": {},
   "outputs": [],
   "source": [
    "def generate_filter_string(id_list):\n",
    "    filter_string = \" OR \".join([f\"(a.id = '{id}') OR (b.id = '{id}')\" for id in id_list])\n",
    "    return filter_string"
   ]
  },
  {
   "cell_type": "code",
   "execution_count": 62,
   "id": "141a2f54-98d6-4d57-b559-eac19ba3cade",
   "metadata": {},
   "outputs": [],
   "source": [
    "def get_vertices_edges_by_ids(g, id_list):\n",
    "    pFind = \"(a)-[e]->(b)\"\n",
    "    pFilter = generate_filter_string(id_list)\n",
    "\n",
    "    # Filtrar as arestas com base na lista de IDs\n",
    "    edges = g.find(pFind).filter(pFilter).select(\"e.*\")\n",
    "\n",
    "    # Selecionar vértices distintos relacionados às arestas\n",
    "    v = edges.select(\"src\").union(edges.select(\"dst\")).distinct()\n",
    "\n",
    "    # Obter os vértices correspondentes às arestas filtradas\n",
    "    vertices = g.vertices.join(v, g.vertices[\"id\"] == v[\"src\"], \"inner\").select(g.vertices[\"*\"])\n",
    "\n",
    "    return vertices, edges"
   ]
  },
  {
   "cell_type": "code",
   "execution_count": 71,
   "id": "efc150d1-6664-4224-8e50-3711b57dfa3d",
   "metadata": {},
   "outputs": [],
   "source": [
    "import networkx as nx\n",
    "import matplotlib.pyplot as plt\n",
    "import pandas as pd\n",
    "\n",
    "def plot_custom_graph(pandas_vertices, pandas_edges, title=\"Graph\"):\n",
    "    # Criar um grafo direcionado NetworkX\n",
    "    G = nx.DiGraph()\n",
    "\n",
    "    # Adicionar vértices e atribuir cores com base em 'id_tipoPessoa'\n",
    "    cores_vertices = pandas_vertices.set_index('id')['id_tipoPessoa'].to_dict()\n",
    "    G.add_nodes_from(pandas_vertices[\"id\"].tolist())\n",
    "\n",
    "    # Adicionar arestas e atribuir cores com base em 'id_tipoRel'\n",
    "    cores_arestas = pandas_edges.set_index(['src', 'dst'])['id_tipoRel'].to_dict()\n",
    "    G.add_edges_from(pandas_edges[[\"src\", \"dst\"]].values)\n",
    "\n",
    "    # Definir estilos e atributos visuais\n",
    "    pos = nx.circular_layout(G)  # Layout do grafo\n",
    "    largura_arestas = 2  # Largura das arestas\n",
    "\n",
    "    # Plotar os vértices com cores baseadas em 'id_tipoPessoa'\n",
    "    nx.draw_networkx_nodes(G, pos, node_color=[cores_vertices[n] for n in G.nodes()], cmap=plt.cm.tab10, node_size=300)\n",
    "\n",
    "    # Plotar as arestas com cores baseadas em 'id_tipoRel'\n",
    "    nx.draw_networkx_edges(G, pos, edge_color=[cores_arestas[(src, dst)] for src, dst in G.edges()], width=largura_arestas, alpha=0.5)\n",
    "\n",
    "    # Adicionar labels para 'id_tipoPessoa' igual a 1\n",
    "    labels = {n: n if cores_vertices[n] == 1 else '' for n in G.nodes()}\n",
    "    nx.draw_networkx_labels(G, pos, labels, font_size=10)\n",
    "\n",
    "    # Mostrar o grafo com um layout mais bonito e título personalizado\n",
    "    # plt.tight_layout()\n",
    "    # plt.axis('off')\n",
    "    plt.title(title)  # Define o título do gráfico\n",
    "    plt.show()"
   ]
  },
  {
   "cell_type": "code",
   "execution_count": 65,
   "id": "e0a745cb-9803-4cb8-b503-7514b115245b",
   "metadata": {},
   "outputs": [],
   "source": [
    "def add_edges_from_df_sim(pandas_edges, df_sim):\n",
    "    novas_linhas = []\n",
    "    for _, row in df_sim.iterrows():\n",
    "        if row['id_localizados'] != row['ids_alvos']:\n",
    "            novo_registro = {\n",
    "                'src': row['id_localizados'],\n",
    "                'dst': row['ids_alvos'],\n",
    "                'te_dados_sc': None,\n",
    "                'id_tipoRel': 2\n",
    "            }\n",
    "            novas_linhas.append(novo_registro)\n",
    "    \n",
    "    novos_edges = pd.DataFrame(novas_linhas)\n",
    "    return pd.concat([pandas_edges, novos_edges], ignore_index=True)"
   ]
  },
  {
   "cell_type": "markdown",
   "id": "190f75b1-6df8-4188-8768-0be92b8da519",
   "metadata": {},
   "source": [
    "#### Desenha gravo na visão original\n",
    "Desenha o Grafo contando somente com sócios alvo"
   ]
  },
  {
   "cell_type": "code",
   "execution_count": 66,
   "id": "d7124d7a-7052-4c0b-b97e-60bf7dd5813c",
   "metadata": {},
   "outputs": [
    {
     "name": "stderr",
     "output_type": "stream",
     "text": [
      "                                                                                \r"
     ]
    },
    {
     "data": {
      "image/png": "[encoded data removed]",
      "text/plain": [
       "<Figure size 640x480 with 1 Axes>"
      ]
     },
     "metadata": {},
     "output_type": "display_data"
    }
   ],
   "source": [
    "# Recupera lista de ids de sócios alvo\n",
    "id_list = df_id_alvos['id'].tolist()\n",
    "vertices, edges = get_vertices_edges_by_ids(g, id_list)\n",
    "## Aciona ao edge o tipo de ligação 1-natural 2-sugerida\n",
    "edges=edges.withColumn(\"id_tipoRel\", lit(1))\n",
    "\n",
    "pandas_vertices = vertices.toPandas()\n",
    "pandas_edges = edges.toPandas()\n",
    "plot_custom_graph(pandas_vertices, pandas_edges, title=\"Grafo Orignal - Apenas Sócios Alvo\")"
   ]
  },
  {
   "cell_type": "code",
   "execution_count": 67,
   "id": "6373b034-a978-470b-814f-1be0ea872c34",
   "metadata": {},
   "outputs": [
    {
     "name": "stderr",
     "output_type": "stream",
     "text": [
      "                                                                                \r"
     ]
    }
   ],
   "source": [
    "# Recupera lista de ids de sócios alvo\n",
    "id_list = df_id_localizados['id'].tolist()\n",
    "vertices, edges = get_vertices_edges_by_ids(g, id_list)\n",
    "## Aciona ao edge o tipo de ligação 1-natural 2-sugerida\n",
    "edges=edges.withColumn(\"id_tipoRel\", lit(1))\n",
    "\n",
    "pandas_vertices = vertices.toPandas()\n",
    "pandas_edges = edges.toPandas()\n",
    "pandas_edges = add_edges_from_df_sim(pandas_edges, df_sim)"
   ]
  },
  {
   "cell_type": "code",
   "execution_count": 73,
   "id": "2f2deccd-80a9-4127-bdd5-fc46aa257857",
   "metadata": {},
   "outputs": [
    {
     "data": {
      "image/png": "[encoded data removed]",
      "text/plain": [
       "<Figure size 640x480 with 1 Axes>"
      ]
     },
     "metadata": {},
     "output_type": "display_data"
    }
   ],
   "source": [
    "plot_custom_graph(pandas_vertices, pandas_edges, title=\"Grafo Adaptado - Com Sócios Suspeitos\")"
   ]
  },
  {
   "cell_type": "code",
   "execution_count": 31,
   "id": "cc99b22c-09a1-4863-a505-ef61db773549",
   "metadata": {},
   "outputs": [
    {
     "data": {
      "text/html": [
       "<div>\n",
       "<style scoped>\n",
       "    .dataframe tbody tr th:only-of-type {\n",
       "        vertical-align: middle;\n",
       "    }\n",
       "\n",
       "    .dataframe tbody tr th {\n",
       "        vertical-align: top;\n",
       "    }\n",
       "\n",
       "    .dataframe thead th {\n",
       "        text-align: right;\n",
       "    }\n",
       "</style>\n",
       "<table border=\"1\" class=\"dataframe\">\n",
       "  <thead>\n",
       "    <tr style=\"text-align: right;\">\n",
       "      <th></th>\n",
       "      <th>src</th>\n",
       "      <th>dst</th>\n",
       "      <th>te_dados_sc</th>\n",
       "      <th>id_tipoRel</th>\n",
       "    </tr>\n",
       "  </thead>\n",
       "  <tbody>\n",
       "    <tr>\n",
       "      <th>0</th>\n",
       "      <td>19324143</td>\n",
       "      <td>00002348043190</td>\n",
       "      <td>(000, 20131125, , 22, 2, 00000000000, 00)</td>\n",
       "      <td>2</td>\n",
       "    </tr>\n",
       "    <tr>\n",
       "      <th>1</th>\n",
       "      <td>19322044</td>\n",
       "      <td>00002348043190</td>\n",
       "      <td>(000, 20131125, , 22, 2, 00000000000, 00)</td>\n",
       "      <td>2</td>\n",
       "    </tr>\n",
       "    <tr>\n",
       "      <th>2</th>\n",
       "      <td>19324258</td>\n",
       "      <td>00002348043190</td>\n",
       "      <td>(000, 20131125, , 22, 2, 00000000000, 00)</td>\n",
       "      <td>2</td>\n",
       "    </tr>\n",
       "    <tr>\n",
       "      <th>3</th>\n",
       "      <td>19321977</td>\n",
       "      <td>00002348043190</td>\n",
       "      <td>(000, 20131125, , 22, 2, 00000000000, 00)</td>\n",
       "      <td>2</td>\n",
       "    </tr>\n",
       "    <tr>\n",
       "      <th>4</th>\n",
       "      <td>19324143</td>\n",
       "      <td>00001350953105</td>\n",
       "      <td>(000, 20131125, , 49, 2, 00000000000, 00)</td>\n",
       "      <td>2</td>\n",
       "    </tr>\n",
       "    <tr>\n",
       "      <th>5</th>\n",
       "      <td>19322044</td>\n",
       "      <td>00001350953105</td>\n",
       "      <td>(000, 20131125, , 49, 2, 00000000000, 00)</td>\n",
       "      <td>2</td>\n",
       "    </tr>\n",
       "    <tr>\n",
       "      <th>6</th>\n",
       "      <td>19324258</td>\n",
       "      <td>00001350953105</td>\n",
       "      <td>(000, 20131125, , 49, 2, 00000000000, 00)</td>\n",
       "      <td>2</td>\n",
       "    </tr>\n",
       "    <tr>\n",
       "      <th>7</th>\n",
       "      <td>19321977</td>\n",
       "      <td>00001350953105</td>\n",
       "      <td>(000, 20131125, , 49, 2, 00000000000, 00)</td>\n",
       "      <td>2</td>\n",
       "    </tr>\n",
       "    <tr>\n",
       "      <th>8</th>\n",
       "      <td>19324143</td>\n",
       "      <td>19322044</td>\n",
       "      <td>None</td>\n",
       "      <td>2</td>\n",
       "    </tr>\n",
       "    <tr>\n",
       "      <th>9</th>\n",
       "      <td>19324258</td>\n",
       "      <td>19322044</td>\n",
       "      <td>None</td>\n",
       "      <td>2</td>\n",
       "    </tr>\n",
       "    <tr>\n",
       "      <th>10</th>\n",
       "      <td>19321977</td>\n",
       "      <td>19322044</td>\n",
       "      <td>None</td>\n",
       "      <td>2</td>\n",
       "    </tr>\n",
       "  </tbody>\n",
       "</table>\n",
       "</div>"
      ],
      "text/plain": [
       "         src             dst                                te_dados_sc  \\\n",
       "0   19324143  00002348043190  (000, 20131125, , 22, 2, 00000000000, 00)   \n",
       "1   19322044  00002348043190  (000, 20131125, , 22, 2, 00000000000, 00)   \n",
       "2   19324258  00002348043190  (000, 20131125, , 22, 2, 00000000000, 00)   \n",
       "3   19321977  00002348043190  (000, 20131125, , 22, 2, 00000000000, 00)   \n",
       "4   19324143  00001350953105  (000, 20131125, , 49, 2, 00000000000, 00)   \n",
       "5   19322044  00001350953105  (000, 20131125, , 49, 2, 00000000000, 00)   \n",
       "6   19324258  00001350953105  (000, 20131125, , 49, 2, 00000000000, 00)   \n",
       "7   19321977  00001350953105  (000, 20131125, , 49, 2, 00000000000, 00)   \n",
       "8   19324143        19322044                                       None   \n",
       "9   19324258        19322044                                       None   \n",
       "10  19321977        19322044                                       None   \n",
       "\n",
       "    id_tipoRel  \n",
       "0            2  \n",
       "1            2  \n",
       "2            2  \n",
       "3            2  \n",
       "4            2  \n",
       "5            2  \n",
       "6            2  \n",
       "7            2  \n",
       "8            2  \n",
       "9            2  \n",
       "10           2  "
      ]
     },
     "execution_count": 31,
     "metadata": {},
     "output_type": "execute_result"
    }
   ],
   "source": [
    "pandas_edges"
   ]
  },
  {
   "cell_type": "code",
   "execution_count": 35,
   "id": "7c05d3fc-013c-40ff-ac1f-ebd8c43eb680",
   "metadata": {},
   "outputs": [
    {
     "data": {
      "text/html": [
       "<div>\n",
       "<style scoped>\n",
       "    .dataframe tbody tr th:only-of-type {\n",
       "        vertical-align: middle;\n",
       "    }\n",
       "\n",
       "    .dataframe tbody tr th {\n",
       "        vertical-align: top;\n",
       "    }\n",
       "\n",
       "    .dataframe thead th {\n",
       "        text-align: right;\n",
       "    }\n",
       "</style>\n",
       "<table border=\"1\" class=\"dataframe\">\n",
       "  <thead>\n",
       "    <tr style=\"text-align: right;\">\n",
       "      <th></th>\n",
       "      <th>id</th>\n",
       "      <th>te_dados_em</th>\n",
       "      <th>id_estabelecimento</th>\n",
       "      <th>te_dados_es</th>\n",
       "      <th>id_tipoPessoa</th>\n",
       "    </tr>\n",
       "  </thead>\n",
       "  <tbody>\n",
       "    <tr>\n",
       "      <th>0</th>\n",
       "      <td>00002348043190</td>\n",
       "      <td>None</td>\n",
       "      <td>None</td>\n",
       "      <td>None</td>\n",
       "      <td>2</td>\n",
       "    </tr>\n",
       "    <tr>\n",
       "      <th>1</th>\n",
       "      <td>00001350953105</td>\n",
       "      <td>None</td>\n",
       "      <td>None</td>\n",
       "      <td>None</td>\n",
       "      <td>2</td>\n",
       "    </tr>\n",
       "    <tr>\n",
       "      <th>2</th>\n",
       "      <td>19324143</td>\n",
       "      <td>(05, 00000002000000, 01350953105, CINCOL X INV...</td>\n",
       "      <td>000187</td>\n",
       "      <td>(DF, 71200110, 61, 61, , filho.sena10@gmail.co...</td>\n",
       "      <td>1</td>\n",
       "    </tr>\n",
       "    <tr>\n",
       "      <th>3</th>\n",
       "      <td>19322044</td>\n",
       "      <td>(05, 00000002000000, 01350953105, CINCOL XIV  ...</td>\n",
       "      <td>000166</td>\n",
       "      <td>(DF, 71200110, 61, 61, , filho.sena10@gmail.co...</td>\n",
       "      <td>1</td>\n",
       "    </tr>\n",
       "    <tr>\n",
       "      <th>4</th>\n",
       "      <td>19324258</td>\n",
       "      <td>(05, 00000002000000, 01350953105, CINCOL XI IN...</td>\n",
       "      <td>000171</td>\n",
       "      <td>(DF, 71200110, 61, 61, , filho.sena10@gmail.co...</td>\n",
       "      <td>1</td>\n",
       "    </tr>\n",
       "    <tr>\n",
       "      <th>5</th>\n",
       "      <td>19321977</td>\n",
       "      <td>(05, 00000002000000, 01350953105, CINCOL XIII ...</td>\n",
       "      <td>000139</td>\n",
       "      <td>(DF, 71200110, 61, 61, , filho.sena10@gmail.co...</td>\n",
       "      <td>1</td>\n",
       "    </tr>\n",
       "  </tbody>\n",
       "</table>\n",
       "</div>"
      ],
      "text/plain": [
       "               id                                        te_dados_em  \\\n",
       "0  00002348043190                                               None   \n",
       "1  00001350953105                                               None   \n",
       "2        19324143  (05, 00000002000000, 01350953105, CINCOL X INV...   \n",
       "3        19322044  (05, 00000002000000, 01350953105, CINCOL XIV  ...   \n",
       "4        19324258  (05, 00000002000000, 01350953105, CINCOL XI IN...   \n",
       "5        19321977  (05, 00000002000000, 01350953105, CINCOL XIII ...   \n",
       "\n",
       "  id_estabelecimento                                        te_dados_es  \\\n",
       "0               None                                               None   \n",
       "1               None                                               None   \n",
       "2             000187  (DF, 71200110, 61, 61, , filho.sena10@gmail.co...   \n",
       "3             000166  (DF, 71200110, 61, 61, , filho.sena10@gmail.co...   \n",
       "4             000171  (DF, 71200110, 61, 61, , filho.sena10@gmail.co...   \n",
       "5             000139  (DF, 71200110, 61, 61, , filho.sena10@gmail.co...   \n",
       "\n",
       "   id_tipoPessoa  \n",
       "0              2  \n",
       "1              2  \n",
       "2              1  \n",
       "3              1  \n",
       "4              1  \n",
       "5              1  "
      ]
     },
     "execution_count": 35,
     "metadata": {},
     "output_type": "execute_result"
    }
   ],
   "source": [
    "pandas_vertices"
   ]
  },
  {
   "cell_type": "code",
   "execution_count": 33,
   "id": "6dd05793-99cf-4bd8-89b2-ac766ad44820",
   "metadata": {},
   "outputs": [],
   "source": [
    "spark.stop()"
   ]
  }
 ],
 "metadata": {
  "kernelspec": {
   "display_name": "Python 3 (ipykernel)",
   "language": "python",
   "name": "python3"
  },
  "language_info": {
   "codemirror_mode": {
    "name": "ipython",
    "version": 3
   },
   "file_extension": ".py",
   "mimetype": "text/x-python",
   "name": "python",
   "nbconvert_exporter": "python",
   "pygments_lexer": "ipython3",
   "version": "3.9.18"
  }
 },
 "nbformat": 4,
 "nbformat_minor": 5
}
