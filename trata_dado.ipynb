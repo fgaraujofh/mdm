{
 "cells": [
  {
   "cell_type": "markdown",
   "id": "1b20c3b2",
   "metadata": {},
   "source": [
    "#### Realiza tratamento dos dados para empresas_estabelecimentos"
   ]
  },
  {
   "cell_type": "code",
   "execution_count": 1,
   "id": "ed1ec07a",
   "metadata": {},
   "outputs": [],
   "source": [
    "# Importa Bibliotecas\n",
    "from pyspark.sql import SparkSession\n",
    "from pyspark.sql.functions import col, regexp_replace\n",
    "from pyspark.sql.types import StructType, StructField, StringType, LongType, Row\n",
    "import json\n",
    "from graphframes import *"
   ]
  },
  {
   "cell_type": "code",
   "execution_count": 2,
   "id": "6cbfbda8",
   "metadata": {},
   "outputs": [],
   "source": [
    "spark = SparkSession.builder.appName(\"trata_dados\").getOrCreate()"
   ]
  },
  {
   "cell_type": "code",
   "execution_count": 11,
   "id": "dcdf05f4",
   "metadata": {},
   "outputs": [],
   "source": [
    "# Definindo o esquema para leitura do CSV\n",
    "schema = StructType([\n",
    "    StructField(\"nu_cnpj_raiz\", StringType(), True),\n",
    "    StructField(\"te_dados_em\", StringType(), True),\n",
    "    StructField(\"id_estabelecimento\", StringType(), True),\n",
    "    StructField(\"nu_cnpj_raiz_es\", StringType(), True),\n",
    "    StructField(\"te_dados_es\", StringType(), True)\n",
    "])\n",
    "\n",
    "# Lendo o CSV com o esquema definido\n",
    "df = spark.read \\\n",
    "    .option(\"delimiter\", \",\") \\\n",
    "    .option(\"multiline\", \"true\") \\\n",
    "    .option(\"escape\", \"\\\"\") \\\n",
    "    .csv(\"dataset/empresas_estabelecimentos.csv\", schema=schema, header=True)"
   ]
  },
  {
   "cell_type": "code",
   "execution_count": 12,
   "id": "d16d0b04",
   "metadata": {},
   "outputs": [],
   "source": [
    "def extract_attributes(row):\n",
    "    data_em = json.loads(row[\"te_dados_em\"])\n",
    "    data_es = json.loads(row[\"te_dados_es\"])\n",
    "    \n",
    "    # Adicionando os atributos nu_cnpj_raiz e id_estabelecimento\n",
    "    data_em['nu_cnpj_raiz'] = row['nu_cnpj_raiz']\n",
    "    data_em['id_estabelecimento'] = row['id_estabelecimento']\n",
    "    \n",
    "    # Verificando se 'cnaesSecundarias' está presente em data_es\n",
    "    if 'cnaesSecundarias' not in data_es:\n",
    "        data_es['cnaesSecundarias'] = ''  # Adicionando o valor padrão vazio\n",
    "    \n",
    "    return Row(**data_em, **data_es)\n",
    "\n",
    "df_emp_es = df.rdd.map(extract_attributes).toDF()"
   ]
  },
  {
   "cell_type": "code",
   "execution_count": null,
   "id": "ec1b51b7",
   "metadata": {},
   "outputs": [],
   "source": [
    "# print (df_emp_es.head(2))\n",
    "df_emp_es.show(truncate=False)\n",
    "# df_emp_es.printSchema()"
   ]
  },
  {
   "cell_type": "markdown",
   "id": "52bed3bb",
   "metadata": {},
   "source": [
    "#### Realiza leitura de socios"
   ]
  },
  {
   "cell_type": "code",
   "execution_count": 8,
   "id": "df8cc91e",
   "metadata": {},
   "outputs": [],
   "source": [
    "# Definindo o esquema para leitura do CSV\n",
    "schema = StructType([\n",
    "    StructField(\"nu_cnpj_raiz\", LongType(), True),\n",
    "    StructField(\"id_socio\", LongType(), True),\n",
    "    StructField(\"te_dados\", StringType(), True)\n",
    "])\n",
    "\n",
    "# Lendo o CSV com o esquema definido\n",
    "df = spark.read \\\n",
    "    .option(\"delimiter\", \",\") \\\n",
    "    .option(\"multiline\", \"true\") \\\n",
    "    .option(\"escape\", \"\\\"\") \\\n",
    "    .csv(\"dataset/socios.csv\", schema=schema, header=True)"
   ]
  },
  {
   "cell_type": "code",
   "execution_count": 9,
   "id": "8b3454d9",
   "metadata": {},
   "outputs": [],
   "source": [
    "def extract_attributes(row):\n",
    "    data_em = json.loads(row[\"te_dados\"])\n",
    "    \n",
    "    # Adicionando os atributos nu_cnpj_raiz e id_estabelecimento\n",
    "    data_em['nu_cnpj_raiz'] = row['nu_cnpj_raiz']\n",
    "    data_em['id_socio'] = row['id_socio']\n",
    "    \n",
    "    return Row(**data_em)\n",
    "\n",
    "df_socios = df.rdd.map(extract_attributes).toDF()"
   ]
  },
  {
   "cell_type": "code",
   "execution_count": 10,
   "id": "6d8a4076",
   "metadata": {},
   "outputs": [
    {
     "name": "stdout",
     "output_type": "stream",
     "text": [
      "+----+----------------+----------------+-----------------+------------------+---------------------+------------------------------+------------+------------+\n",
      "|pais|entradaSociedade|socioEstrangeiro|qualificacaoSocio|identificadorSocio|cpfRepresentanteLegal|qualificacaoRepresentanteLegal|nu_cnpj_raiz|id_socio    |\n",
      "+----+----------------+----------------+-----------------+------------------+---------------------+------------------------------+------------+------------+\n",
      "|000 |20070110        |                |49               |2                 |00000000000          |00                            |3230097     |563224703   |\n",
      "|000 |19990615        |                |49               |2                 |00000000000          |00                            |3230097     |26967782720 |\n",
      "|000 |19990615        |                |49               |2                 |00000000000          |00                            |3230099     |6039729856  |\n",
      "|000 |19990615        |                |22               |2                 |00000000000          |00                            |3230099     |10835249840 |\n",
      "|000 |19990617        |                |22               |2                 |00000000000          |00                            |3230100     |1264437692  |\n",
      "|000 |20070711        |                |49               |2                 |00000000000          |00                            |3230100     |4944619693  |\n",
      "|000 |20050912        |                |16               |2                 |00000000000          |00                            |3230101     |33689091187 |\n",
      "|000 |20050912        |                |16               |2                 |00000000000          |00                            |3230102     |16569903420 |\n",
      "|000 |19990616        |                |49               |2                 |00000000000          |00                            |3230104     |21801606900 |\n",
      "|000 |19990616        |                |22               |2                 |00000000000          |00                            |3230104     |29315018915 |\n",
      "|000 |19990729        |                |22               |1                 |21801606900          |05                            |3230104     |489144000153|\n",
      "|000 |20020416        |                |49               |2                 |00000000000          |00                            |3230105     |22409363806 |\n",
      "|000 |19990617        |                |49               |2                 |00000000000          |00                            |3230105     |56186843572 |\n",
      "|000 |20141016        |                |49               |2                 |00000000000          |00                            |3230106     |6022252563  |\n",
      "|000 |20160609        |                |22               |2                 |00000000000          |00                            |3230106     |6185656558  |\n",
      "|000 |19990531        |                |49               |2                 |00000000000          |00                            |3230107     |13497803839 |\n",
      "|000 |19990531        |                |49               |2                 |00000000000          |00                            |3230107     |24930637830 |\n",
      "|000 |19990610        |                |49               |2                 |00000000000          |00                            |3230108     |454135769   |\n",
      "|000 |19990610        |                |49               |2                 |00000000000          |00                            |3230108     |92645500706 |\n",
      "|000 |19990618        |                |22               |2                 |00000000000          |00                            |3230110     |2795758660  |\n",
      "+----+----------------+----------------+-----------------+------------------+---------------------+------------------------------+------------+------------+\n",
      "only showing top 20 rows\n",
      "\n"
     ]
    }
   ],
   "source": [
    "df_socios.show(truncate=False)"
   ]
  },
  {
   "cell_type": "code",
   "execution_count": 14,
   "id": "b0465ff5",
   "metadata": {},
   "outputs": [],
   "source": [
    "spark.stop()"
   ]
  }
 ],
 "metadata": {
  "kernelspec": {
   "display_name": "Python 3 (ipykernel)",
   "language": "python",
   "name": "python3"
  },
  "language_info": {
   "codemirror_mode": {
    "name": "ipython",
    "version": 3
   },
   "file_extension": ".py",
   "mimetype": "text/x-python",
   "name": "python",
   "nbconvert_exporter": "python",
   "pygments_lexer": "ipython3",
   "version": "3.11.4"
  }
 },
 "nbformat": 4,
 "nbformat_minor": 5
}
