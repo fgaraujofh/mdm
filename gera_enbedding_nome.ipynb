{
 "cells": [
  {
   "cell_type": "code",
   "execution_count": 1,
   "id": "8a2e64ef-cd4f-49d9-a0c4-360cf0f961ca",
   "metadata": {},
   "outputs": [],
   "source": [
    "from pyspark import SparkConf\n",
    "from pyspark import SparkContext\n",
    "from pyspark.sql import SparkSession\n",
    "from pyspark.sql import Row\n",
    "from pyspark.sql.functions import col, from_json, substring, when, length, split, lit\n",
    "from pyspark.sql.types import StructType, StructField, StringType"
   ]
  },
  {
   "cell_type": "code",
   "execution_count": 2,
   "id": "9f93a4ad-1ee3-4f0d-bb13-1c772ee4010a",
   "metadata": {},
   "outputs": [],
   "source": [
    "# Nomes de aquivos e pastas\n",
    "csv_pj = 'dataset/empresas_estabelecimentos_1m.csv'\n",
    "parquet_dir_name = 'output/embeddings_nome_1m'"
   ]
  },
  {
   "cell_type": "code",
   "execution_count": 3,
   "id": "49047807-7130-4195-97ad-bff15495b11a",
   "metadata": {},
   "outputs": [
    {
     "name": "stderr",
     "output_type": "stream",
     "text": [
      "23/12/05 13:43:01 WARN SparkSession: Using an existing Spark session; only runtime SQL configurations will take effect.\n"
     ]
    }
   ],
   "source": [
    "spark = SparkSession.builder \\\n",
    "        .config(\"spark.driver.memory\", \"32g\") \\\n",
    "        .appName(\"gera_embedding_nome\") \\\n",
    "        .getOrCreate()"
   ]
  },
  {
   "cell_type": "code",
   "execution_count": 4,
   "id": "bfda0ede-de6e-40eb-a663-c6ec4725485b",
   "metadata": {},
   "outputs": [],
   "source": [
    "# Schema para Json Empresa\n",
    "json_schema_em = StructType([\n",
    "    StructField(\"porteEmpresa\", StringType(), True),\n",
    "    StructField(\"capitalSocial\", StringType(), True),\n",
    "    StructField(\"cpfResponsavel\", StringType(), True),\n",
    "    StructField(\"nomeEmpresarial\", StringType(), True),\n",
    "    StructField(\"naturezaJuridica\", StringType(), True),\n",
    "    StructField(\"qualificacaoResponsavel\", StringType(), True)\n",
    "])\n",
    "\n",
    "# Schema para Json Estabelecimento\n",
    "json_schema_es = StructType([\n",
    "    StructField(\"uf\", StringType(), True),\n",
    "    StructField(\"cep\", StringType(), True),\n",
    "    StructField(\"ddd1\", StringType(), True),\n",
    "    StructField(\"ddd2\", StringType(), True),\n",
    "    StructField(\"pais\", StringType(), True),\n",
    "    StructField(\"email\", StringType(), True),\n",
    "    StructField(\"bairro\", StringType(), True),\n",
    "    StructField(\"numero\", StringType(), True),\n",
    "    StructField(\"municipio\", StringType(), True),\n",
    "    StructField(\"telefone1\", StringType(), True),\n",
    "    StructField(\"telefone2\", StringType(), True),\n",
    "    StructField(\"cnaeFiscal\", StringType(), True),\n",
    "    StructField(\"logradouro\", StringType(), True),\n",
    "    StructField(\"complemento\", StringType(), True),\n",
    "    StructField(\"dataCadastro\", StringType(), True),\n",
    "    StructField(\"nomeFantasia\", StringType(), True),\n",
    "    StructField(\"cidadeExterior\", StringType(), True),\n",
    "    StructField(\"tipoLogradouro\", StringType(), True),\n",
    "    StructField(\"cnaesSecundarias\", StringType(), True),\n",
    "    StructField(\"situacaoEspecial\", StringType(), True),\n",
    "    StructField(\"situacaoCadastral\", StringType(), True),\n",
    "    StructField(\"dataSituacaoEspecial\", StringType(), True),\n",
    "    StructField(\"dataSituacaoCadastral\", StringType(), True),\n",
    "    StructField(\"motivoSituacaoCadastral\", StringType(), True),\n",
    "    StructField(\"identificadorMatrizFilial\", StringType(), True)\n",
    "])\n",
    "\n",
    "# Definindo o esquema para leitura do CSV\n",
    "schema = StructType([\n",
    "    StructField(\"nu_cnpj_raiz\", StringType(), True),\n",
    "    StructField(\"te_dados_em\", StringType(), True),\n",
    "    StructField(\"id_estabelecimento\", StringType(), True),\n",
    "    StructField(\"te_dados_es\", StringType(), True)\n",
    "])\n",
    "\n",
    "# Lendo o CSV com o esquema definido\n",
    "pj = spark.read \\\n",
    "    .option(\"delimiter\", \",\") \\\n",
    "    .option(\"multiline\", \"true\") \\\n",
    "    .option(\"escape\", \"\\\"\") \\\n",
    "    .csv(csv_pj, schema=schema, header=True)\n",
    "\n",
    "pj = pj.withColumn(\"te_dados_em\", from_json(col(\"te_dados_em\"), json_schema_em)) \\\n",
    "      .withColumn(\"te_dados_es\", from_json(col(\"te_dados_es\"), json_schema_es)) \\\n",
    "      .filter(substring(col(\"id_estabelecimento\"), 0, 4) == '0001') \\\n",
    "      .withColumnRenamed(\"nu_cnpj_raiz\", \"id\")\n",
    "\n",
    "pj = pj.orderBy(col(\"id\").asc()).dropDuplicates(['id'])"
   ]
  },
  {
   "cell_type": "markdown",
   "id": "3c09b58d-c67e-447d-85eb-45e70f63668f",
   "metadata": {},
   "source": [
    "#### Tratamento Nome Fantasia"
   ]
  },
  {
   "cell_type": "code",
   "execution_count": 5,
   "id": "cbbca947-f7ce-4f72-b5a7-e2f005882aab",
   "metadata": {},
   "outputs": [
    {
     "name": "stderr",
     "output_type": "stream",
     "text": [
      "23/12/05 13:43:56 WARN SparkStringUtils: Truncated the string representation of a plan since it was too large. This behavior can be adjusted by setting 'spark.sql.debug.maxToStringFields'.\n",
      "[Stage 9:====================>                                   (27 + 46) / 73]\r"
     ]
    },
    {
     "name": "stdout",
     "output_type": "stream",
     "text": [
      "Frequência de campos vazios (strings vazias):  0.0\n"
     ]
    },
    {
     "name": "stderr",
     "output_type": "stream",
     "text": [
      "                                                                                \r"
     ]
    }
   ],
   "source": [
    "nomes_pj = pj.select(col('id'),\n",
    "                     col('te_dados_es.nomeFantasia').alias('nomeFantasia')) \\\n",
    "                     .filter(col('te_dados_es.nomeFantasia') != '')\n",
    "nomes = nomes_pj.rdd.map(lambda row: row.nomeFantasia).collect()\n",
    "\n",
    "# Imprimir os nomes que não são strings vazias\n",
    "valores_vazios = nomes_pj.where(col('nomeFantasia') == '').count()\n",
    "frequencia_vazios = valores_vazios / nomes_pj.count()\n",
    "print(\"Frequência de campos vazios (strings vazias): \", frequencia_vazios)\n"
   ]
  },
  {
   "cell_type": "code",
   "execution_count": 6,
   "id": "09efae46-eaa6-4737-b733-fa13f1bc7224",
   "metadata": {},
   "outputs": [
    {
     "name": "stdout",
     "output_type": "stream",
     "text": [
      "[[-0.03331316  0.17094629 -0.02804424 ... -0.20079358 -0.13701853\n",
      "   0.08032994]\n",
      " [ 0.02203857  0.17953454 -0.17352705 ... -0.10183495  0.01377693\n",
      "   0.13287692]\n",
      " [ 0.16314214 -0.0413441   0.02480316 ... -0.21233012 -0.01675784\n",
      "   0.09499262]\n",
      " ...\n",
      " [-0.11648611 -0.24241914  0.14828391 ...  0.01394305  0.2153851\n",
      "   0.09290294]\n",
      " [-0.04606455  0.20873569 -0.04624428 ... -0.0976361  -0.06093702\n",
      "  -0.04194095]\n",
      " [ 0.03695896  0.09149241  0.03300897 ... -0.01022805  0.05449221\n",
      "   0.17492387]]\n"
     ]
    }
   ],
   "source": [
    "# Passo 1 - Pre calculando o enbeddings\n",
    "from sentence_transformers import SentenceTransformer\n",
    "\n",
    "model = SentenceTransformer('sentence-transformers/paraphrase-multilingual-MiniLM-L12-v2')\n",
    "embeddings = model.encode(nomes)\n",
    "print(embeddings)"
   ]
  },
  {
   "cell_type": "code",
   "execution_count": 7,
   "id": "fb70c93c-709c-4b63-ab0e-8561a7411351",
   "metadata": {},
   "outputs": [
    {
     "name": "stdout",
     "output_type": "stream",
     "text": [
      "582074\n"
     ]
    }
   ],
   "source": [
    "num_linhas = embeddings.shape[0]\n",
    "print (num_linhas)"
   ]
  },
  {
   "cell_type": "code",
   "execution_count": 8,
   "id": "940bd13b-72f2-4e2a-8bdc-ab181e604f3f",
   "metadata": {},
   "outputs": [
    {
     "name": "stderr",
     "output_type": "stream",
     "text": [
      "                                                                                \r"
     ]
    }
   ],
   "source": [
    "# Criando um RDD de linhas para o DataFrame com 'id', 'nomeFantasia' e 'embedding'\n",
    "rdd = nomes_pj.rdd.zipWithIndex().map(lambda x: (x[0]['id'], x[0]['nomeFantasia'], embeddings[x[1]].tolist()))"
   ]
  },
  {
   "cell_type": "code",
   "execution_count": 9,
   "id": "9c86acb3-5bcc-48ab-a315-e067b87e2e61",
   "metadata": {},
   "outputs": [],
   "source": [
    "# from sklearn.metrics.pairwise import cosine_similarity\n",
    "# distance_matrix = cosine_similarity([\"empresa a\", \"empresa b\"], embeddings)"
   ]
  },
  {
   "cell_type": "code",
   "execution_count": 10,
   "id": "473e289e-ba38-4ece-a4f8-9d91a342f26b",
   "metadata": {},
   "outputs": [],
   "source": [
    "# Convertendo o RDD de linhas em RDD de Rows\n",
    "rows_rdd = rdd.map(lambda x: Row(id=x[0], nomeFantasia=x[1], embedding=x[2]))"
   ]
  },
  {
   "cell_type": "code",
   "execution_count": 11,
   "id": "ef07e642-f443-491a-b965-356f1daf0636",
   "metadata": {},
   "outputs": [
    {
     "name": "stderr",
     "output_type": "stream",
     "text": [
      "                                                                                \r"
     ]
    }
   ],
   "source": [
    "df_with_embeddings = spark.createDataFrame(rows_rdd, ['id', 'nomeFantasia', 'embedding'])"
   ]
  },
  {
   "cell_type": "code",
   "execution_count": 12,
   "id": "7fdb993b-fecb-492e-8d17-35d477c62b34",
   "metadata": {},
   "outputs": [
    {
     "name": "stderr",
     "output_type": "stream",
     "text": [
      "                                                                                \r"
     ]
    },
    {
     "name": "stdout",
     "output_type": "stream",
     "text": [
      "+--------+--------------------+--------------------+\n",
      "|      id|        nomeFantasia|           embedding|\n",
      "+--------+--------------------+--------------------+\n",
      "|03230095|              VENDAO|[-0.0333131551742...|\n",
      "|03230099|     INTENSIVA SAUDE|[0.02203856967389...|\n",
      "|03230101|ASSOCIACAO SANTA ...|[0.16314214468002...|\n",
      "|03230103|RESTAURANTE DA BA...|[0.18409758806228...|\n",
      "|03230105|              SILFER|[-0.0655299648642...|\n",
      "|03230109|BAR E MERCEARIA DOZE|[0.29833957552909...|\n",
      "|03230110|PRAMOVEIS DECORACOES|[-7.4515491724014...|\n",
      "|03230112|ESCAVATER LOCACAO...|[0.07552856206893...|\n",
      "|03230114|KIBOM SELF - SERVICE|[-0.2181864529848...|\n",
      "|03230115|  ETICA PROFISSIONAL|[0.28472706675529...|\n",
      "|03230116|CICLOPECAS O GETULIO|[-0.0597080402076...|\n",
      "|03230119|     GENESIS SYSTEMS|[-0.4516184329986...|\n",
      "|03230122|ESTRUTURA METALIC...|[0.30958387255668...|\n",
      "|03230124|D & D CONSULTORIA...|[-0.0089319590479...|\n",
      "|03230126|         STORO MODAS|[-0.0249068960547...|\n",
      "|03230129|CONDOMNIO COMERCI...|[-0.0610511116683...|\n",
      "|03230133|            BAR BIDU|[0.10119120031595...|\n",
      "|03230134|          KOREAN CAR|[0.02119154296815...|\n",
      "|03230136|        VITA-LANCHES|[-0.1224044859409...|\n",
      "|03230139|RF COMERCIO DE FRIOS|[-0.1186234578490...|\n",
      "+--------+--------------------+--------------------+\n",
      "only showing top 20 rows\n",
      "\n"
     ]
    }
   ],
   "source": [
    "df_with_embeddings.show()"
   ]
  },
  {
   "cell_type": "code",
   "execution_count": 13,
   "id": "9d91ae03-5e83-4575-a14c-f85d06e72825",
   "metadata": {},
   "outputs": [
    {
     "name": "stderr",
     "output_type": "stream",
     "text": [
      "                                                                                \r"
     ]
    }
   ],
   "source": [
    "# Persista o DataFrame para consulta posterior\n",
    "df_with_embeddings.write.mode('overwrite').parquet(parquet_dir_name)"
   ]
  },
  {
   "cell_type": "code",
   "execution_count": 14,
   "id": "cab62d85-4db2-4cd2-9651-ef4489483bec",
   "metadata": {},
   "outputs": [],
   "source": [
    "spark.stop()"
   ]
  }
 ],
 "metadata": {
  "kernelspec": {
   "display_name": "Python 3 (ipykernel)",
   "language": "python",
   "name": "python3"
  },
  "language_info": {
   "codemirror_mode": {
    "name": "ipython",
    "version": 3
   },
   "file_extension": ".py",
   "mimetype": "text/x-python",
   "name": "python",
   "nbconvert_exporter": "python",
   "pygments_lexer": "ipython3",
   "version": "3.9.18"
  }
 },
 "nbformat": 4,
 "nbformat_minor": 5
}
