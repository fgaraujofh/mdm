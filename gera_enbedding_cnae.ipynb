{
 "cells": [
  {
   "cell_type": "code",
   "execution_count": 12,
   "id": "8a2e64ef-cd4f-49d9-a0c4-360cf0f961ca",
   "metadata": {},
   "outputs": [],
   "source": [
    "from pyspark import SparkConf\n",
    "from pyspark import SparkContext\n",
    "from pyspark.sql import SparkSession\n",
    "from pyspark.sql import Row\n",
    "# from pyspark.sql.functions import col, from_json, substring, when, length, split, lit, trim, concat_ws\n",
    "from pyspark.sql.functions import *\n",
    "from pyspark.sql.types import StructType, StructField, StringType"
   ]
  },
  {
   "cell_type": "code",
   "execution_count": 2,
   "id": "9f93a4ad-1ee3-4f0d-bb13-1c772ee4010a",
   "metadata": {},
   "outputs": [],
   "source": [
    "# Nomes de aquivos e pastas\n",
    "csv_pj = 'dataset/empresas_estabelecimentos_1m.csv'\n",
    "parquet_dir_name = 'output/embeddings_cnae_1m'"
   ]
  },
  {
   "cell_type": "code",
   "execution_count": 3,
   "id": "49047807-7130-4195-97ad-bff15495b11a",
   "metadata": {},
   "outputs": [
    {
     "name": "stderr",
     "output_type": "stream",
     "text": [
      "23/12/05 16:02:10 WARN SparkSession: Using an existing Spark session; only runtime SQL configurations will take effect.\n"
     ]
    }
   ],
   "source": [
    "spark = SparkSession.builder \\\n",
    "        .config(\"spark.driver.memory\", \"32g\") \\\n",
    "        .appName(\"gera_embedding_cnae\") \\\n",
    "        .getOrCreate()"
   ]
  },
  {
   "cell_type": "code",
   "execution_count": 49,
   "id": "bfda0ede-de6e-40eb-a663-c6ec4725485b",
   "metadata": {},
   "outputs": [],
   "source": [
    "# Schema para Json Empresa\n",
    "json_schema_em = StructType([\n",
    "    StructField(\"porteEmpresa\", StringType(), True),\n",
    "    StructField(\"capitalSocial\", StringType(), True),\n",
    "    StructField(\"cpfResponsavel\", StringType(), True),\n",
    "    StructField(\"nomeEmpresarial\", StringType(), True),\n",
    "    StructField(\"naturezaJuridica\", StringType(), True),\n",
    "    StructField(\"qualificacaoResponsavel\", StringType(), True)\n",
    "])\n",
    "\n",
    "# Schema para Json Estabelecimento\n",
    "json_schema_es = StructType([\n",
    "    StructField(\"uf\", StringType(), True),\n",
    "    StructField(\"cep\", StringType(), True),\n",
    "    StructField(\"ddd1\", StringType(), True),\n",
    "    StructField(\"ddd2\", StringType(), True),\n",
    "    StructField(\"pais\", StringType(), True),\n",
    "    StructField(\"email\", StringType(), True),\n",
    "    StructField(\"bairro\", StringType(), True),\n",
    "    StructField(\"numero\", StringType(), True),\n",
    "    StructField(\"municipio\", StringType(), True),\n",
    "    StructField(\"telefone1\", StringType(), True),\n",
    "    StructField(\"telefone2\", StringType(), True),\n",
    "    StructField(\"cnaeFiscal\", StringType(), True),\n",
    "    StructField(\"logradouro\", StringType(), True),\n",
    "    StructField(\"complemento\", StringType(), True),\n",
    "    StructField(\"dataCadastro\", StringType(), True),\n",
    "    StructField(\"nomeFantasia\", StringType(), True),\n",
    "    StructField(\"cidadeExterior\", StringType(), True),\n",
    "    StructField(\"tipoLogradouro\", StringType(), True),\n",
    "    StructField(\"cnaesSecundarias\", StringType(), True),\n",
    "    StructField(\"situacaoEspecial\", StringType(), True),\n",
    "    StructField(\"situacaoCadastral\", StringType(), True),\n",
    "    StructField(\"dataSituacaoEspecial\", StringType(), True),\n",
    "    StructField(\"dataSituacaoCadastral\", StringType(), True),\n",
    "    StructField(\"motivoSituacaoCadastral\", StringType(), True),\n",
    "    StructField(\"identificadorMatrizFilial\", StringType(), True)\n",
    "])\n",
    "\n",
    "# Definindo o esquema para leitura do CSV\n",
    "schema = StructType([\n",
    "    StructField(\"nu_cnpj_raiz\", StringType(), True),\n",
    "    StructField(\"te_dados_em\", StringType(), True),\n",
    "    StructField(\"id_estabelecimento\", StringType(), True),\n",
    "    StructField(\"te_dados_es\", StringType(), True)\n",
    "])\n",
    "\n",
    "# Lendo o CSV com o esquema definido\n",
    "pj = spark.read \\\n",
    "    .option(\"delimiter\", \",\") \\\n",
    "    .option(\"multiline\", \"true\") \\\n",
    "    .option(\"escape\", \"\\\"\") \\\n",
    "    .csv(csv_pj, schema=schema, header=True)\n",
    "\n",
    "pj = pj.withColumn(\"te_dados_em\", from_json(col(\"te_dados_em\"), json_schema_em)) \\\n",
    "      .withColumn(\"te_dados_es\", from_json(col(\"te_dados_es\"), json_schema_es)) \\\n",
    "      .filter(substring(col(\"id_estabelecimento\"), 0, 4) == '0001') \\\n",
    "      .withColumnRenamed(\"nu_cnpj_raiz\", \"id\")\n",
    "\n",
    "pj = pj.orderBy(col(\"id\").asc()).dropDuplicates(['id'])"
   ]
  },
  {
   "cell_type": "markdown",
   "id": "3c09b58d-c67e-447d-85eb-45e70f63668f",
   "metadata": {},
   "source": [
    "#### Tratamento CNAE"
   ]
  },
  {
   "cell_type": "code",
   "execution_count": 50,
   "id": "cbbca947-f7ce-4f72-b5a7-e2f005882aab",
   "metadata": {},
   "outputs": [],
   "source": [
    "cnae_pj = pj.select(col('id'),\n",
    "                    col('te_dados_es.cnaeFiscal').alias('cnaeFiscal'),\n",
    "                    col('te_dados_es.cnaesSecundarias').alias('cnaesSecundarias')) \\\n",
    "            .withColumn(\n",
    "                    'cnaesSecundarias_Limpo',\n",
    "                    translate(col('cnaesSecundarias'), '[]\"', ''))\n",
    "# cnae_pj.show()"
   ]
  },
  {
   "cell_type": "code",
   "execution_count": 51,
   "id": "c21e9c10-ba63-4a7c-9667-84be5d990075",
   "metadata": {},
   "outputs": [
    {
     "name": "stderr",
     "output_type": "stream",
     "text": [
      "[Stage 57:>                                                         (0 + 1) / 1]\r"
     ]
    },
    {
     "name": "stdout",
     "output_type": "stream",
     "text": [
      "+--------+----------+--------------------+--------------------+\n",
      "|      id|cnaeFiscal|          vetor_cnae|    vetor_grupo_cnae|\n",
      "+--------+----------+--------------------+--------------------+\n",
      "|03230095|   4759899|           [4759899]|               [475]|\n",
      "|03230096|   4530703|           [4530703]|               [453]|\n",
      "|03230097|   4755502|           [4755502]|               [475]|\n",
      "|03230098|   4520003|  [4520003, 4530703]|          [452, 453]|\n",
      "|03230099|   8630503|[8630503, 8630501...|[863, 863, 863, 8...|\n",
      "|03230100|   6462000|           [6462000]|               [646]|\n",
      "|03230101|   9430800|[9430800, 9493600...|     [943, 949, 949]|\n",
      "|03230102|   9430800|[9430800, 9493600...|     [943, 949, 949]|\n",
      "|03230103|   4729699|           [4729699]|               [472]|\n",
      "|03230104|   4619200|           [4619200]|               [461]|\n",
      "|03230105|   4781400|           [4781400]|               [478]|\n",
      "|03230106|   2222600|           [2222600]|               [222]|\n",
      "|03230107|   4722901|           [4722901]|               [472]|\n",
      "|03230108|   4781400|           [4781400]|               [478]|\n",
      "|03230109|   4711301|           [4711301]|               [471]|\n",
      "|03230110|   3101200|           [3101200]|               [310]|\n",
      "|03230111|   4761001|           [4761001]|               [476]|\n",
      "|03230112|   4313400|[4313400, 7719599...|[431, 771, 422, 4...|\n",
      "|03230113|   5611203|           [5611203]|               [561]|\n",
      "|03230114|   5611203|           [5611203]|               [561]|\n",
      "+--------+----------+--------------------+--------------------+\n",
      "only showing top 20 rows\n",
      "\n"
     ]
    },
    {
     "name": "stderr",
     "output_type": "stream",
     "text": [
      "                                                                                \r"
     ]
    }
   ],
   "source": [
    "# montando vetor de cnaes\n",
    "cnae_pj = cnae_pj.withColumn(\n",
    "    'vetor_cnae',\n",
    "    when(\n",
    "        col('cnaesSecundarias_Limpo').isNull() | (col('cnaesSecundarias_Limpo') == ''),\n",
    "        array()\n",
    "    ).otherwise(split(col('cnaesSecundarias_Limpo'), ','))\n",
    ")\n",
    "cnae_pj = cnae_pj.withColumn(\n",
    "    'vetor_cnae',\n",
    "    array_union(array(col('cnaeFiscal')), col('vetor_cnae'))\n",
    ")\n",
    "\n",
    "cnae_pj = cnae_pj.withColumn(\n",
    "    'vetor_grupo_cnae',\n",
    "    expr(\"transform(vetor_cnae, x -> substring(x, 1, 3))\")  # Pega os três primeiros caracteres de cada elemento\n",
    ")\n",
    "# print(cnae_pj)\n",
    "\n",
    "cnae_pj = cnae_pj.drop('cnaesSecundarias', 'cnaesSecundarias_Limpo')\n",
    "cnae_pj.show()"
   ]
  },
  {
   "cell_type": "code",
   "execution_count": 54,
   "id": "9d91ae03-5e83-4575-a14c-f85d06e72825",
   "metadata": {},
   "outputs": [
    {
     "name": "stderr",
     "output_type": "stream",
     "text": [
      "                                                                                \r"
     ]
    }
   ],
   "source": [
    "# Persista o DataFrame para consulta posterior\n",
    "cnae_pj.write.mode('overwrite').parquet(parquet_dir_name)"
   ]
  },
  {
   "cell_type": "code",
   "execution_count": 55,
   "id": "cab62d85-4db2-4cd2-9651-ef4489483bec",
   "metadata": {},
   "outputs": [],
   "source": [
    "spark.stop()"
   ]
  }
 ],
 "metadata": {
  "kernelspec": {
   "display_name": "Python 3 (ipykernel)",
   "language": "python",
   "name": "python3"
  },
  "language_info": {
   "codemirror_mode": {
    "name": "ipython",
    "version": 3
   },
   "file_extension": ".py",
   "mimetype": "text/x-python",
   "name": "python",
   "nbconvert_exporter": "python",
   "pygments_lexer": "ipython3",
   "version": "3.9.18"
  }
 },
 "nbformat": 4,
 "nbformat_minor": 5
}
