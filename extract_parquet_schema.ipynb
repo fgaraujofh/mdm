{
 "cells": [
  {
   "cell_type": "markdown",
   "id": "d40d3c63-d310-4673-b0b9-1d00ce5d704d",
   "metadata": {},
   "source": [
    "# Notebook destiando a fazer a o esquema dos Arquivos Parquet"
   ]
  },
  {
   "cell_type": "code",
   "execution_count": 1,
   "id": "412b4c17-b0f1-420f-b0f6-e95e1c6403cc",
   "metadata": {},
   "outputs": [],
   "source": [
    "import pyarrow.parquet as pq\n",
    "import pandas as pd\n",
    "import datetime"
   ]
  },
  {
   "cell_type": "code",
   "execution_count": 2,
   "id": "62c10544-0254-4bc2-881f-2d39df869552",
   "metadata": {},
   "outputs": [],
   "source": [
    "# Caminho para o diretório de nodes Parquet\n",
    "parquet_path = \"dataset/grapho/nodes\"  # Caminho atualizado"
   ]
  },
  {
   "cell_type": "code",
   "execution_count": 4,
   "id": "e3f459bd-07e6-4a4c-ac9f-424c68ae03c2",
   "metadata": {},
   "outputs": [],
   "source": [
    "inicio = datetime.datetime.now()\n",
    "# Leitura do diretório parquet usando PyArrow\n",
    "parquet_dataset = pq.ParquetDataset(parquet_path)\n",
    "first_fragment = parquet_dataset.fragments[0]\n",
    "table = first_fragment.to_table()\n",
    "df = table.to_pandas()"
   ]
  },
  {
   "cell_type": "code",
   "execution_count": 5,
   "id": "cec30553-8c33-4285-9d33-ab6ca4dc9556",
   "metadata": {},
   "outputs": [
    {
     "name": "stdout",
     "output_type": "stream",
     "text": [
      "Tempo total até leitura dos Nodes: 0:00:09.978806\n"
     ]
    }
   ],
   "source": [
    "fim = datetime.datetime.now()\n",
    "print('Tempo total até leitura dos Nodes: {}'.format(fim - inicio))"
   ]
  },
  {
   "cell_type": "code",
   "execution_count": 6,
   "id": "2fb6bc8a-60c9-4ebe-98ca-dbb6feaf9399",
   "metadata": {},
   "outputs": [
    {
     "name": "stdout",
     "output_type": "stream",
     "text": [
      "Colunas do Parquet:\n",
      "id                    object\n",
      "te_dados_em           object\n",
      "id_estabelecimento    object\n",
      "te_dados_es           object\n",
      "id_tipoPessoa          int32\n",
      "dtype: object\n",
      "\n",
      "Amostra dos dados:\n",
      "               id te_dados_em id_estabelecimento te_dados_es  id_tipoPessoa\n",
      "0  00000000000191        None               None        None              2\n",
      "1  00000000000434        None               None        None              2\n",
      "2  00000000001082        None               None        None              2\n",
      "3  00000000001163        None               None        None              2\n",
      "4  00000000003883        None               None        None              2\n"
     ]
    }
   ],
   "source": [
    "# Exibe o esquema das colunas\n",
    "print(\"Colunas do Parquet:\")\n",
    "print(df.dtypes)"
   ]
  },
  {
   "cell_type": "code",
   "execution_count": 9,
   "id": "6fa42936-3e95-4c11-b28c-bba4b5287b30",
   "metadata": {},
   "outputs": [
    {
     "name": "stdout",
     "output_type": "stream",
     "text": [
      "\n",
      "Amostra dos dados:\n",
      "            id                                        te_dados_em  \\\n",
      "551   00000001  {'porteEmpresa': '05', 'capitalSocial': '00000...   \n",
      "1145  00000002  {'porteEmpresa': '05', 'capitalSocial': '00000...   \n",
      "1719  00000003  {'porteEmpresa': '05', 'capitalSocial': '00000...   \n",
      "2371  00000004  {'porteEmpresa': '05', 'capitalSocial': '00000...   \n",
      "3132  00000005  {'porteEmpresa': '05', 'capitalSocial': '00000...   \n",
      "3781  00000006  {'porteEmpresa': '01', 'capitalSocial': '00000...   \n",
      "4525  00000007  {'porteEmpresa': '01', 'capitalSocial': '00000...   \n",
      "5307  00000008  {'porteEmpresa': '01', 'capitalSocial': '00000...   \n",
      "5981  00000009  {'porteEmpresa': '01', 'capitalSocial': '00000...   \n",
      "6678  00000010  {'porteEmpresa': '05', 'capitalSocial': '00000...   \n",
      "\n",
      "     id_estabelecimento                                        te_dados_es  \\\n",
      "551              000136  {'uf': 'SP', 'cep': '02813030', 'ddd1': '', 'd...   \n",
      "1145             000180  {'uf': 'SP', 'cep': '02991100', 'ddd1': '', 'd...   \n",
      "1719             000125  {'uf': 'SP', 'cep': '02813020', 'ddd1': '', 'd...   \n",
      "2371             000170  {'uf': 'SP', 'cep': '02813020', 'ddd1': '', 'd...   \n",
      "3132             000114  {'uf': 'SP', 'cep': '02501000', 'ddd1': '', 'd...   \n",
      "3781             000169  {'uf': 'SP', 'cep': '02920000', 'ddd1': '11', ...   \n",
      "4525             000103  {'uf': 'SP', 'cep': '05110000', 'ddd1': '011',...   \n",
      "5307             000158  {'uf': 'SP', 'cep': '02612020', 'ddd1': '', 'd...   \n",
      "5981             000100  {'uf': 'SP', 'cep': '05093050', 'ddd1': '', 'd...   \n",
      "6678             000127  {'uf': 'SP', 'cep': '02950000', 'ddd1': '', 'd...   \n",
      "\n",
      "      id_tipoPessoa  \n",
      "551               1  \n",
      "1145              1  \n",
      "1719              1  \n",
      "2371              1  \n",
      "3132              1  \n",
      "3781              1  \n",
      "4525              1  \n",
      "5307              1  \n",
      "5981              1  \n",
      "6678              1  \n"
     ]
    }
   ],
   "source": [
    "# Mostra uma amostra dos dados\n",
    "print(\"\\nAmostra dos dados:\")\n",
    "print(df[df['id_tipoPessoa'] == 1].head(10))"
   ]
  },
  {
   "cell_type": "code",
   "execution_count": null,
   "id": "888752be-2d1c-4b00-8270-80c26468b179",
   "metadata": {},
   "outputs": [],
   "source": []
  }
 ],
 "metadata": {
  "kernelspec": {
   "display_name": "Python 3 (ipykernel)",
   "language": "python",
   "name": "python3"
  },
  "language_info": {
   "codemirror_mode": {
    "name": "ipython",
    "version": 3
   },
   "file_extension": ".py",
   "mimetype": "text/x-python",
   "name": "python",
   "nbconvert_exporter": "python",
   "pygments_lexer": "ipython3",
   "version": "3.9.18"
  }
 },
 "nbformat": 4,
 "nbformat_minor": 5
}
