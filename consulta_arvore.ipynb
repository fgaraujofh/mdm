{
 "cells": [
  {
   "cell_type": "markdown",
   "id": "cbb63ea5-bc17-4ebf-b144-6ebf8100766f",
   "metadata": {},
   "source": [
    "# Consulta Alvo da Investigação "
   ]
  },
  {
   "cell_type": "code",
   "execution_count": 42,
   "id": "51141f25-3950-465f-84ec-7114bcbe6216",
   "metadata": {},
   "outputs": [],
   "source": [
    "from pyspark import SparkConf\n",
    "from pyspark import SparkContext\n",
    "from pyspark.sql import SparkSession\n",
    "from pyspark.sql.functions import *\n",
    "from pyspark.sql.types import StructType, StructField, StringType\n",
    "from graphframes import *"
   ]
  },
  {
   "cell_type": "code",
   "execution_count": 43,
   "id": "692f6c25-16d4-412f-81a9-99cb44ee0025",
   "metadata": {},
   "outputs": [],
   "source": [
    "# Nomes de aquivos e pastas\n",
    "checkpoint_dir = 'graphframes_cps_30m'\n",
    "parquet_dir_name = 'output/embeddings_nome_30m'\n",
    "parquet_nodes  = 'dataset/grapho/nodes_30m'\n",
    "parquet_edges = 'dataset/grapho/edges_30m'\n",
    "# cnpj_alvo='27364903' # Eco em pets\n",
    "cnpj_alvo='20848420' # Saritur # https://shorturl.at/tEMO7\n",
    "# cnpj_alvo='15464658' # Sta Terezinha Atacadista # https://shorturl.at/koqz4"
   ]
  },
  {
   "cell_type": "markdown",
   "id": "5c153818-3f5c-438c-9d2c-f12261a6c4b4",
   "metadata": {},
   "source": [
    "## Incicia Secção do Spark"
   ]
  },
  {
   "cell_type": "code",
   "execution_count": 44,
   "id": "6394fb76-dbb9-4fd3-aed5-e693813e074c",
   "metadata": {},
   "outputs": [],
   "source": [
    "spark = SparkSession.builder \\\n",
    "            .appName(\"consulta_arvore\") \\\n",
    "            .getOrCreate()\n",
    "\n",
    "sc = spark.sparkContext\n",
    "sc.setCheckpointDir(checkpoint_dir)"
   ]
  },
  {
   "cell_type": "markdown",
   "id": "bfb586bc-3c0f-4bb4-a560-2de8b08c43af",
   "metadata": {},
   "source": [
    "### Realizar a leitura Nodes (Pjs e Pfs) e Edges (relacionamentos) e monta grafo"
   ]
  },
  {
   "cell_type": "code",
   "execution_count": 45,
   "id": "a11b7b67-5803-4188-a8b5-5543a62776c0",
   "metadata": {},
   "outputs": [],
   "source": [
    "# Carrega nodes\n",
    "nodes = spark.read.parquet(parquet_nodes)"
   ]
  },
  {
   "cell_type": "code",
   "execution_count": 46,
   "id": "fb38ae22-cecd-4f52-af56-b360ea80a75a",
   "metadata": {},
   "outputs": [],
   "source": [
    "# Carrega edges\n",
    "edges = spark.read.parquet(parquet_edges)"
   ]
  },
  {
   "cell_type": "code",
   "execution_count": 47,
   "id": "d08f0a52-a874-48f8-920b-675679867f4e",
   "metadata": {},
   "outputs": [],
   "source": [
    "# Carrega embeddings\n",
    "embeddings = spark.read.parquet(parquet_dir_name)"
   ]
  },
  {
   "cell_type": "code",
   "execution_count": 48,
   "id": "49d900d0-5945-461d-a54b-fe6515ffca3f",
   "metadata": {},
   "outputs": [],
   "source": [
    "# Criando o grafo de relacionamento empresas->socios\n",
    "g = GraphFrame(nodes, edges)"
   ]
  },
  {
   "cell_type": "markdown",
   "id": "71543422-2f88-4c5b-954a-6527f8969154",
   "metadata": {},
   "source": [
    "## Começa investigação do CNPJ alvo\n",
    "O fluxosegue nessa ordem:\n",
    "1. Consula dos CEP do CNPJ alvo\n",
    "2. De todas as das empresas no CEP do CNPJ Alvo\n",
    "3. __Montas-se o Cluster de empresas pelo CEP__ - Leitura dos vetores do embedding dos nomes fantasias do universo de empresas a serem pesquisadas."
   ]
  },
  {
   "cell_type": "code",
   "execution_count": 49,
   "id": "5c54cd5e-d61a-4979-b6f3-3c39bdc9b992",
   "metadata": {},
   "outputs": [],
   "source": [
    "# Localiza o CEP do target\n",
    "cep_do_alvo = g.vertices.filter(f\"id = '{cnpj_alvo}'\").select(\"te_dados_es.cep\").first()['cep']"
   ]
  },
  {
   "cell_type": "code",
   "execution_count": 50,
   "id": "e4bbc094-a8de-4bb1-ae86-10ea65f09f95",
   "metadata": {},
   "outputs": [
    {
     "name": "stdout",
     "output_type": "stream",
     "text": [
      "30750002\n"
     ]
    }
   ],
   "source": [
    "print(cep_do_alvo)"
   ]
  },
  {
   "cell_type": "code",
   "execution_count": 51,
   "id": "5bec60cd-e58c-4a68-97da-869158f5f70d",
   "metadata": {},
   "outputs": [],
   "source": [
    "# Localiza todos os CNJPs do cep do alvo\n",
    "cnpjs_universo = g.vertices.filter(f\"te_dados_es.cep = '{cep_do_alvo}'\").select(\"id\")"
   ]
  },
  {
   "cell_type": "code",
   "execution_count": 52,
   "id": "ede0d76a-7b86-4792-865a-b96bff6370ec",
   "metadata": {},
   "outputs": [
    {
     "name": "stdout",
     "output_type": "stream",
     "text": [
      "+--------+\n",
      "|      id|\n",
      "+--------+\n",
      "|20848420|\n",
      "|12640817|\n",
      "+--------+\n",
      "\n"
     ]
    }
   ],
   "source": [
    "cnpjs_universo.show()"
   ]
  },
  {
   "cell_type": "code",
   "execution_count": 33,
   "id": "84522359-00ad-49ee-b046-e7d1f4e7051d",
   "metadata": {},
   "outputs": [],
   "source": [
    "# Join com os embeddings para recuperar os vetores\n",
    "embeddings_universo = cnpjs_universo.join(embeddings, embeddings[\"id\"] == cnpjs_universo[\"id\"], \"inner\") \\\n",
    "                                    .select(embeddings[\"id\"], embeddings[\"nomeFantasia\"],  embeddings[\"embeddings\"])"
   ]
  },
  {
   "cell_type": "markdown",
   "id": "233f8b6f-2c1a-429a-93e4-f92777c6a02a",
   "metadata": {},
   "source": [
    "### Consulta todos os CNPJ Sócios PJ do CNPJ alvos\n",
    "Todos os sócios do CNPJ alvo formarão a lista de sociosalvo"
   ]
  },
  {
   "cell_type": "code",
   "execution_count": 34,
   "id": "ee6afc19-eafa-4d6e-9767-07196636dba2",
   "metadata": {},
   "outputs": [],
   "source": [
    "# Consulta todos sócios do alvo\n",
    "id = cnpj_alvo\n",
    "\n",
    "pFind  = \"(a)-[e]->(b)\"\n",
    "socios_target = g.find(pFind) \\\n",
    "          .filter(f\"(a.id = '{id}') OR (b.id = '{id}')\") \\\n",
    "          .select(col(\"a.id\").alias(\"src\"), col(\"a.te_dados_es.nomeFantasia\").alias(\"src_nome\"),\n",
    "                  col(\"b.id\").alias(\"dst\"), col(\"b.te_dados_es.nomeFantasia\").alias(\"dst_nome\"),\n",
    "                  col(\"b.id_tipoPessoa\").alias(\"id_tipoPessoa\")) \\\n",
    "          .distinct()"
   ]
  },
  {
   "cell_type": "code",
   "execution_count": 35,
   "id": "682616fa-4b10-4a96-8e26-1e32eadd6f3c",
   "metadata": {},
   "outputs": [],
   "source": [
    "# Realizar tratamento na pesquisa\n",
    "condicao_1 = socios_target.select(col('src').alias('id'), col('src_nome').alias('nomeFantasia'))\n",
    "\n",
    "# Selecionar as linhas onde id_tipoPessoa é diferente de 1\n",
    "condicao_2 = socios_target.filter(col('id_tipoPessoa') == 1).select(col('dst').alias('id'), col('dst_nome').alias('nomeFantasia'))\n",
    "\n",
    "# Juntar as duas condições e remover linhas duplicadas\n",
    "socios_final = condicao_1.union(condicao_2).distinct()"
   ]
  },
  {
   "cell_type": "markdown",
   "id": "e5ec709f-9651-430d-b8a2-ad8f6090a7ff",
   "metadata": {},
   "source": [
    "### Procedimenots para montagem da __Matriz de Similariedade__\n",
    "A Matriz de Similaridade contém pontuações de similaridade entre os nomes nos Sócios Alvos. É usada  similaridade de cosseno que variam de -1 a 1. O valor 1 indica similaridade total e 0 indica nenhuma similaridade. Os passos para sua geração são os segintes:\n",
    "1. Monta vertor com todos os Nomes dos Socios Alvo\n",
    "2. Gera os embeddings dos nomes fantasia dos Socios Alvo\n",
    "3. Monta __Matriz de Similariedade__"
   ]
  },
  {
   "cell_type": "code",
   "execution_count": 36,
   "id": "c9385f25-d2b4-407f-9bb4-91ec9061b81d",
   "metadata": {},
   "outputs": [
    {
     "name": "stderr",
     "output_type": "stream",
     "text": [
      "                                                                                \r"
     ]
    }
   ],
   "source": [
    "# Filtra e seleciona os nomes distintos para cruzamento\n",
    "nomes_final = socios_final.select(\"nomeFantasia\").distinct().rdd.flatMap(lambda x: x).collect()"
   ]
  },
  {
   "cell_type": "code",
   "execution_count": 37,
   "id": "cbcfedbe-c19c-4adb-ab39-d7b0b528423c",
   "metadata": {},
   "outputs": [],
   "source": [
    "# Recuperando embeddings para nomes_combinados\n",
    "from sentence_transformers import SentenceTransformer\n",
    "model = SentenceTransformer('sentence-transformers/paraphrase-multilingual-MiniLM-L12-v2')\n",
    "embeddings_target = model.encode(nomes_final)"
   ]
  },
  {
   "cell_type": "code",
   "execution_count": 38,
   "id": "6d52d63c-c1fc-4337-9153-41a741cfda4e",
   "metadata": {},
   "outputs": [
    {
     "name": "stderr",
     "output_type": "stream",
     "text": [
      "[Stage 32:=====================================================>(199 + 1) / 200]\r"
     ]
    },
    {
     "name": "stdout",
     "output_type": "stream",
     "text": [
      "[[ 0.48437993  0.06112695  0.3877481   0.33208819  0.46445732  0.26643374\n",
      "   0.45120085  0.49946784  0.53908645  0.37173367  0.23803118  0.3787114\n",
      "   0.5307848   0.31074607  0.44429191  0.56241698  0.48729338  0.32599433\n",
      "   0.38956706  0.32954075  0.28852334  0.30830986  0.48192012  0.54464585\n",
      "   0.44106542  0.24160931  0.41254924  0.32643384  0.33573133  0.49034419\n",
      "   0.42017717  0.38367666  0.56619518  0.23465743  0.65161641  0.37541271\n",
      "   0.32955343  0.43044991  0.35533205  0.27959612  0.15069494  0.49034419\n",
      "   0.34120892  0.37189671  0.28412188  0.31360075  0.31855581  0.3549544\n",
      "   0.46714585  0.23255178  0.37470291  0.49157648  0.14841119  0.51463363\n",
      "   0.23348653  0.37582367  0.47618613  0.2532823   0.33836645  0.23673866\n",
      "   0.43353721  0.4431544   0.29829028  0.22727824  0.43385045  0.34794871\n",
      "   0.13037715  0.44668107  0.50202164  0.28809648  0.33057877  0.53139432\n",
      "  -0.02971868  0.40251583  0.39811811  0.4621716   0.38539612  0.40219437\n",
      "   0.31442478  0.33401158  0.29324184  0.349763    0.54700866  0.28384358\n",
      "   0.28156672  0.32644411  0.41225784  0.56857056  0.29799072  0.29454224\n",
      "   0.25847015  0.29387453  0.36818787  0.41231589  0.50281278  0.24511537\n",
      "   0.56300066  0.434801    0.40074759  0.30069561  0.26969311  0.40029557\n",
      "   0.51853576  0.3408891   0.25994516  0.24433391  0.23499242  0.04428087\n",
      "   0.40524889  0.25619128  0.25111461  0.50069852  0.11562925  0.47836332\n",
      "   0.11649445  0.36441919  0.22694227  0.4295242   0.3796372   0.26351442\n",
      "   0.25864542  0.34699104  0.32494347  0.41892034  0.44288458  0.30334402\n",
      "   0.4889214   0.24970154  0.46106381  0.34266105  0.25829388  0.50907234\n",
      "   0.53952008  0.46032985  0.49969166  0.24410993  0.08560641  0.20168098\n",
      "   0.25609029  0.21439193  0.50189135  0.34557472  0.25847015  0.37598322\n",
      "   0.52091623  0.35647789  0.05072929  0.32479574  0.4207268   0.38894574\n",
      "   0.18380519  0.54565478  0.32664456  0.34259949  0.4264301   0.41146679\n",
      "   0.25873115  0.42647028  0.31432375  0.25895996  0.39376518  0.08105608\n",
      "   0.34715338  0.20551327  0.48243516  0.50485541  0.52844965  0.30263515\n",
      "   0.35553058  0.17884078  0.47859205  0.22236943  0.4661195   1.\n",
      "   0.50645655  0.42873503  0.4599596   0.43224891  0.30954229  0.28477324\n",
      "   0.34955731  0.38460982  0.32762361  0.36322527  0.23041643]]\n"
     ]
    },
    {
     "name": "stderr",
     "output_type": "stream",
     "text": [
      "                                                                                \r"
     ]
    }
   ],
   "source": [
    "# Gera matriz de similiariedade com nomes localizados \n",
    "from sklearn.metrics.pairwise import cosine_similarity\n",
    "import numpy as np\n",
    "\n",
    "# Converter os embeddings para um formato compatível com o cosine_similarity\n",
    "embeddings = np.array(embeddings_universo.select(\"embeddings\").collect())\n",
    "embeddings =  np.vstack(embeddings)\n",
    "\n",
    "# Calcular a matriz de similaridade usando cosine_similarity\n",
    "matriz_similaridade = cosine_similarity(embeddings_target, embeddings)\n",
    "\n",
    "# Imprimir a matriz de similaridade\n",
    "print(matriz_similaridade)"
   ]
  },
  {
   "cell_type": "code",
   "execution_count": 39,
   "id": "816dddbc-85a2-4dd6-a181-bfc7ea081036",
   "metadata": {},
   "outputs": [],
   "source": [
    "# Localiza coordenadas\n",
    "ordenadas, abscissas = np.where(matriz_similaridade > 0.9)"
   ]
  },
  {
   "cell_type": "code",
   "execution_count": 40,
   "id": "e17ea34a-ffab-4137-9cf5-5618848986c3",
   "metadata": {},
   "outputs": [
    {
     "name": "stderr",
     "output_type": "stream",
     "text": [
      "[Stage 45:======================================================> (65 + 2) / 67]\r"
     ]
    },
    {
     "name": "stdout",
     "output_type": "stream",
     "text": [
      "(1.0000000000000004, Row(id='15464658', nomeFantasia='SANTA THEREZINHA ATACADISTA'), Row(id='15464658', nomeFantasia='SANTA THEREZINHA ATACADISTA'))\n"
     ]
    },
    {
     "name": "stderr",
     "output_type": "stream",
     "text": [
      "                                                                                \r"
     ]
    }
   ],
   "source": [
    "# Função para obter os valores de id e nomeFantasia\n",
    "def obter_valores(dataframe, indices):\n",
    "    return dataframe.select(\"id\", \"nomeFantasia\").collect()[indices]\n",
    "# Imprimir valores encontrados\n",
    "lista_triplas = []\n",
    "for i in range(len(ordenadas)):\n",
    "    # Valor 1: Matriz de similaridade\n",
    "    valor_1 = matriz_similaridade[ordenadas[i], abscissas[i]]\n",
    "\n",
    "    # Valor 2: Campos 'id' e 'nomeFantasia' de embeddings_universo usando n-ésimo índice das ordenadas\n",
    "    valor_2_embeddings = obter_valores(embeddings_universo, abscissas[i])\n",
    "\n",
    "    # Valor 3: Campos 'id' e 'nomeFantasia' de socios_final usando n-ésimo índice das ordenadas\n",
    "    valor_3_socios = obter_valores(socios_final, ordenadas[i])\n",
    "\n",
    "    # Adicionar à lista de triplas\n",
    "    lista_triplas.append((valor_1, valor_2_embeddings, valor_3_socios))\n",
    "\n",
    "# Imprimir a lista de triplas\n",
    "for tripla in lista_triplas:\n",
    "    print(tripla)"
   ]
  },
  {
   "cell_type": "code",
   "execution_count": 53,
   "id": "6dd05793-99cf-4bd8-89b2-ac766ad44820",
   "metadata": {},
   "outputs": [],
   "source": [
    "spark.stop()"
   ]
  }
 ],
 "metadata": {
  "kernelspec": {
   "display_name": "Python 3 (ipykernel)",
   "language": "python",
   "name": "python3"
  },
  "language_info": {
   "codemirror_mode": {
    "name": "ipython",
    "version": 3
   },
   "file_extension": ".py",
   "mimetype": "text/x-python",
   "name": "python",
   "nbconvert_exporter": "python",
   "pygments_lexer": "ipython3",
   "version": "3.9.18"
  }
 },
 "nbformat": 4,
 "nbformat_minor": 5
}
