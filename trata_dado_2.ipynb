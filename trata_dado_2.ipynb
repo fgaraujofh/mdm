{
 "cells": [
  {
   "cell_type": "code",
   "execution_count": 19,
   "id": "7ef76610",
   "metadata": {},
   "outputs": [],
   "source": [
    "from pyspark.sql import SparkSession\n",
    "from pyspark.sql.functions import col, from_json, substring, when, length, split, lit\n",
    "from pyspark.sql.types import StructType, StructField, StringType\n",
    "from graphframes import *"
   ]
  },
  {
   "cell_type": "code",
   "execution_count": 20,
   "id": "983c3599",
   "metadata": {},
   "outputs": [],
   "source": [
    "spark = SparkSession.builder.appName(\"trata_dados_2\").getOrCreate()"
   ]
  },
  {
   "cell_type": "code",
   "execution_count": 21,
   "id": "ef9e8bef",
   "metadata": {},
   "outputs": [],
   "source": [
    "# Schema para Json Empresa\n",
    "json_schema_em = StructType([\n",
    "    StructField(\"porteEmpresa\", StringType(), True),\n",
    "    StructField(\"capitalSocial\", StringType(), True),\n",
    "    StructField(\"cpfResponsavel\", StringType(), True),\n",
    "    StructField(\"nomeEmpresarial\", StringType(), True),\n",
    "    StructField(\"naturezaJuridica\", StringType(), True),\n",
    "    StructField(\"qualificacaoResponsavel\", StringType(), True)\n",
    "])\n",
    "\n",
    "# Schema para Json Estabelecimento\n",
    "json_schema_es = StructType([\n",
    "    StructField(\"uf\", StringType(), True),\n",
    "    StructField(\"cep\", StringType(), True),\n",
    "    StructField(\"ddd1\", StringType(), True),\n",
    "    StructField(\"ddd2\", StringType(), True),\n",
    "    StructField(\"pais\", StringType(), True),\n",
    "    StructField(\"email\", StringType(), True),\n",
    "    StructField(\"bairro\", StringType(), True),\n",
    "    StructField(\"numero\", StringType(), True),\n",
    "    StructField(\"municipio\", StringType(), True),\n",
    "    StructField(\"telefone1\", StringType(), True),\n",
    "    StructField(\"telefone2\", StringType(), True),\n",
    "    StructField(\"cnaeFiscal\", StringType(), True),\n",
    "    StructField(\"logradouro\", StringType(), True),\n",
    "    StructField(\"complemento\", StringType(), True),\n",
    "    StructField(\"dataCadastro\", StringType(), True),\n",
    "    StructField(\"nomeFantasia\", StringType(), True),\n",
    "    StructField(\"cidadeExterior\", StringType(), True),\n",
    "    StructField(\"tipoLogradouro\", StringType(), True),\n",
    "    StructField(\"cnaesSecundarias\", StringType(), True),\n",
    "    StructField(\"situacaoEspecial\", StringType(), True),\n",
    "    StructField(\"situacaoCadastral\", StringType(), True),\n",
    "    StructField(\"dataSituacaoEspecial\", StringType(), True),\n",
    "    StructField(\"dataSituacaoCadastral\", StringType(), True),\n",
    "    StructField(\"motivoSituacaoCadastral\", StringType(), True),\n",
    "    StructField(\"identificadorMatrizFilial\", StringType(), True)\n",
    "])\n",
    "\n",
    "# Definindo o esquema para leitura do CSV\n",
    "schema = StructType([\n",
    "    StructField(\"nu_cnpj_raiz\", StringType(), True),\n",
    "    StructField(\"te_dados_em\", StringType(), True),\n",
    "    StructField(\"id_estabelecimento\", StringType(), True),\n",
    "    StructField(\"te_dados_es\", StringType(), True)\n",
    "])\n",
    "\n",
    "# Lendo o CSV com o esquema definido\n",
    "pj = spark.read \\\n",
    "    .option(\"delimiter\", \",\") \\\n",
    "    .option(\"multiline\", \"true\") \\\n",
    "    .option(\"escape\", \"\\\"\") \\\n",
    "    .csv(\"dataset/empresas_estabelecimentos.csv\", schema=schema, header=True)"
   ]
  },
  {
   "cell_type": "code",
   "execution_count": 22,
   "id": "e0861153",
   "metadata": {},
   "outputs": [],
   "source": [
    "pj = pj.withColumn(\"te_dados_em\", from_json(col(\"te_dados_em\"), json_schema_em)) \\\n",
    "      .withColumn(\"te_dados_es\", from_json(col(\"te_dados_es\"), json_schema_es)) \\\n",
    "      .filter(substring(col(\"id_estabelecimento\"), 0, 4) == '0001') \\\n",
    "      .withColumnRenamed(\"nu_cnpj_raiz\", \"id\")"
   ]
  },
  {
   "cell_type": "code",
   "execution_count": 23,
   "id": "4600cb91",
   "metadata": {},
   "outputs": [
    {
     "name": "stdout",
     "output_type": "stream",
     "text": [
      "+--------+----------------------------------------------------------------------------------------------+------------------+------------------------------------------------------------------------------------------------------------------------------------------------------------------------------------------------------------------------------------------------+\n",
      "|id      |te_dados_em                                                                                   |id_estabelecimento|te_dados_es                                                                                                                                                                                                                                     |\n",
      "+--------+----------------------------------------------------------------------------------------------+------------------+------------------------------------------------------------------------------------------------------------------------------------------------------------------------------------------------------------------------------------------------+\n",
      "|03230095|{05, 00000000000000, 24852587833, SELMA AMARO, 2135, 50}                                      |000128            |{SP, 13480021, 019, , , , CENTRO, 618, 6639, 4429352, , 4759899, SIQUEIRA CAMPOS,, , 19990618, VENDAO, , RUA, NULL, , 08, , 20081231, 71, 1}                                                                                                    |\n",
      "|03230096|{05, 00000000000000, 94487111668, NERCINHO LAURENCIO PEREIRA, 2135, 50}                       |000172            |{MG, 35920000, , , , , DE FATIMA, S/N, 4893, , , 4530703, BR 381   KM 137, , 19990618, , , , NULL, , 08, , 19991123, 01, 1}                                                                                                                     |\n",
      "|03230097|{01, 00000000000000, 26967782720, CADOICO BAZAR LTDA, 2062, 49}                               |000117            |{RJ, 25071181, 21, , , , JARDIM VINTE E CINCO DE AGOSTO, 2101, 5833, 26733024, , 4755502, BRIGADEIRO LIMA E SILVA,       TERREO, 19990615, , , AVENIDA, , , 02, , 20051103, 00, 1}                                                              |\n",
      "|03230098|{01, 00000000300000, 58770909091, CARLOS A.PEREIRA, 2135, 50}                                 |000161            |{RS, 93510078, 51, , , jv.rios@bol.com.br, CENTRO, 874, 8771, 92051597, , 4520003, NICOLAU BECKER, SALA 3, 19990614, , , AVENIDA, [\"4530703\"], , 02, , 20051103, 00, 1}                                                                         |\n",
      "|03230099|{01, 00000000000000, 06039729856, INTENSIVA SERVICOS DE SAUDE S/C LTDA, 2062, 49}             |000106            |{SP, 11310011, 013, , , , CENTRO, 125, 7121, 34692597, , 8630503, MARTIM AFONSO, CJ 11A, 19990615, INTENSIVA SAUDE, , RUA, [\"8630501\",\"8630502\",\"8711501\",\"8711503\",\"8711504\",\"8712300\",\"8720401\",\"8720499\",\"8730199\"], , 02, , 20051103, 00, 1}|\n",
      "|03230100|{01, 00000000500000, 04944619693, FAC PARTICIPACOES, ADMINISTRACAO E NEGOCIOS LTDA, 2062, 49} |000100            |{MG, 35680258, 37, 37, , ATUAL@NWNET.COM.BR, PIEDADE, 1361, 4675, 32425557, 32410303, 6462000, QUINZE DE NOVEMBRO, , 19990617, , , RUA, NULL, , 08, , 20150127, 01, 1}                                                                          |\n",
      "|03230101|{05, 00000000000000, 33689091187, ASSOCIACAO DOS PRODUTORES RURAIS SANTA ROSA, 3999, 16}      |000147            |{TO, 77690000, , , , , CENTRO, S/N, 9237, , , 9430800, SANTA ROSA, TERREO, 19990415, ASSOCIACAO SANTA ROSA, , FAZENDA, [\"9493600\",\"9499500\"], , 08, , 20081231, 71, 1}                                                                          |\n",
      "|03230102|{05, 00000000000000, 16569903420, CONSELHO ESCOLAR SAO JOSE, 3999, 16}                        |000191            |{PE, 55750000, , , , , LAGOA DA VACA, SN, 2589, , , 9430800, POVOADO LAGOA DA VACA, , 19990531, , , , [\"9493600\",\"9499500\"], , 08, , 20150209, 73, 1}                                                                                           |\n",
      "|03230103|{05, 00000000000000, 76397327949, NARA NAIR SANTOS SILVA-LANCHES, 2135, 50}                   |000136            |{PR, 87013210, 044, , , , ZONA 01- CENTRO, 605, 7691, 2279417, , 4729699, TAMANDARE, , 19990617, RESTAURANTE DA BAIXINHA, , AVENIDA, NULL, , 08, , 20091006, 01, 1}                                                                             |\n",
      "|03230104|{05, 00000000000000, 21801606900, PARADA 1 REPRESENTACOES LTDA, 2062, 49}                     |000180            |{SC, 89010170, , , , , CENTRO, 118, 8047, , , 4619200, PAULO ZIMMERMANN, SALA 102, 19990616, , , RUA, NULL, , 08, , 20000329, 01, 1}                                                                                                            |\n",
      "|03230105|{05, 00000000000000, 56186843572, SILFER COMERCIO DE ROUPAS E ARTIGOS MUSICAIS LTDA, 2062, 49}|000125            |{SP, 02051030, 011, , , , VILA GUILHERME, 16, 7107, 6082988, , 4781400, AMBAUBA, , 19990617, SILFER, , RUA, NULL, , 08, , 20081231, 71, 1}                                                                                                      |\n",
      "|03230106|{03, 00000001600000, 06022252563, INPLASF INDUSTRIA DE PLASTICOS LTDA., 2062, 49}             |000170            |{BA, 44010565, 75, 75, , souzaeduardo_6@hotmail.com, C I S, 92, 3515, 36221044, 36221044, 2222600, DOS INDUSTRIARIOS,       A, 19990428, , , RUA, NULL, , 02, , 20051103, 00, 1}                                                                |\n",
      "|03230107|{01, 00000000000000, 13497803839, V.J.SILVEIRA & FERREIRA LTDA, 2062, 49}                     |000114            |{SP, 15050130, , , , , VILA ANCHIETA, 729, 7097, , , 4722901, 25 DE JANEIRO, B, 19990531, , , AVENIDA, NULL, , 02, , 20061202, 00, 1}                                                                                                           |\n",
      "|03230108|{05, 00000000000000, 92645500706, HAPPY DE IGUACU MODA JOVEM LTDA, 2062, 49}                  |000169            |{RJ, 26210011, , , , , CENTRO, 42, 5869, , , 4781400, NILO PECANHA, 44, 19990610, , , AVENIDA, NULL, , 08, , 20060531, 01, 1}                                                                                                                   |\n",
      "|03230109|{01, 00000000000000, 36150975991, OSVALDO GIRIBELO, 2135, 50}                                 |000103            |{MT, 78515000, 66, , , , COMUNIDADE DO DOZE, SN, 9889, 35511204, , 4711301, PRINCIPAL, , 19870901, BAR E MERCEARIA DOZE, , AVENIDA, NULL, , 08, , 20020927, 01, 1}                                                                              |\n",
      "|03230110|{01, 00000001700000, 80489141820, PRAMOVEIS DECORACOES LTDA, 2062, 49}                        |000138            |{MG, 38140000, 34, 34, , FRANCISCODEASSISBIBIANO@GMAIL.COM, COLINA PARK BOULEVAR, 1201, 5055, 34311907, 34311406, 3101200, TENENTE REIS, , 19990618, PRAMOVEIS DECORACOES, , RUA, , , 02, , 20051103, 00, 1}                                    |\n",
      "|03230111|{01, 00000000000000, 31225128668, MINAS DISTRIBUIDORA DE LIVROS E PAPEIS LTDA, 2062, 49}      |000182            |{MG, 30770540, 031, , , , CAICARA, 186, 4123, 4111086, , 4761001, FORNACIARI, , 19990621, , , RUA, NULL, , 08, , 20091002, 01, 1}                                                                                                               |\n",
      "|03230112|{03, 00000030000000, 07598535841, ESCAVATER LOCACAO DE MAQUINAS LTDA, 2062, 49}               |000127            |{SP, 14600000, , , , , CENTRO, 1858, 7089, , , 4313400, TIRADENTES, , 19990607, ESCAVATER LOCACAO DE MAQUINAS, , RUA, [\"7719599\",\"4222701\",\"4299599\",\"4530703\",\"8130300\",\"8129000\",\"3702900\"], , 02, , 20051103, 00, 1}                         |\n",
      "|03230113|{01, 00000000000000, 12608998453, M. L. A. DE OLIVEIRA SANTOS, 2135, 50}                      |000171            |{SP, 11085800, , , , , SAO JORGE, 276, 7071, , , 5611203, DOMINGOS JOSE MARTINS, , 19990526, , , RUA, NULL, , 08, , 20090129, 01, 1}                                                                                                            |\n",
      "|03230114|{05, 00000000000000, 89799216834, LANCHONETE TACA DE CRISTAL LTDA, 2062, 49}                  |000116            |{MG, 37900106, 035, , , COCOPA@UOL.COM.BR, BELO HORIZONTE, 794, 4957, 5218151, , 5611203, JUCA STOCKLER, , 19990616, KIBOM SELF - SERVICE, , AVENIDA, NULL, , 08, , 20011212, 01, 1}                                                            |\n",
      "+--------+----------------------------------------------------------------------------------------------+------------------+------------------------------------------------------------------------------------------------------------------------------------------------------------------------------------------------------------------------------------------------+\n",
      "only showing top 20 rows\n",
      "\n"
     ]
    }
   ],
   "source": [
    "# print (pj.head(2))\n",
    "pj.show(truncate=False)\n",
    "# pj.printSchema()"
   ]
  },
  {
   "cell_type": "code",
   "execution_count": 24,
   "id": "76bca73a",
   "metadata": {},
   "outputs": [],
   "source": [
    "# Schema para Json Socios\n",
    "json_schema_sc = StructType([\n",
    "    StructField(\"pais\", StringType(), True),\n",
    "    StructField(\"entradaSociedade\", StringType(), True),\n",
    "    StructField(\"socioEstrangeiro\", StringType(), True),\n",
    "    StructField(\"qualificacaoSocio\", StringType(), True),\n",
    "    StructField(\"identificadorSocio\", StringType(), True),\n",
    "    StructField(\"cpfRepresentanteLegal\", StringType(), True),\n",
    "    StructField(\"qualificacaoRepresentanteLegal\", StringType(), True)\n",
    "])\n",
    "\n",
    "# Definindo o esquema para leitura do CSV\n",
    "schema = StructType([\n",
    "    StructField(\"nu_cnpj_raiz\", StringType(), True),\n",
    "    StructField(\"id_socio\", StringType(), True),\n",
    "    StructField(\"te_dados_sc\", StringType(), True)\n",
    "])\n",
    "\n",
    "# Lendo o CSV com o esquema definido\n",
    "sc = spark.read \\\n",
    "    .option(\"delimiter\", \",\") \\\n",
    "    .option(\"multiline\", \"true\") \\\n",
    "    .option(\"escape\", \"\\\"\") \\\n",
    "    .csv(\"dataset/socios.csv\", schema=schema, header=True)"
   ]
  },
  {
   "cell_type": "code",
   "execution_count": 25,
   "id": "6d1f0421",
   "metadata": {},
   "outputs": [],
   "source": [
    "# tratando o df socios\n",
    "# Tratamento 1: Expandir o JSON\n",
    "sc = sc.withColumn(\"te_dados_sc\", from_json(col(\"te_dados_sc\"), json_schema_sc))\n",
    "\n",
    "sc = sc.withColumn(\"id_socio\", when(sc[\"te_dados_sc\"][\"identificadorSocio\"] == '1',\n",
    "                                    sc[\"id_socio\"].substr(1, 8))\n",
    "                                .otherwise(sc[\"id_socio\"]))\n",
    "\n",
    "sc = sc.withColumnRenamed(\"nu_cnpj_raiz\", \"src\").withColumnRenamed(\"id_socio\", \"dst\")"
   ]
  },
  {
   "cell_type": "code",
   "execution_count": 26,
   "id": "3bc4731a",
   "metadata": {},
   "outputs": [
    {
     "name": "stdout",
     "output_type": "stream",
     "text": [
      "+--------+--------------+-----------------------------------------+\n",
      "|src     |dst           |te_dados_sc                              |\n",
      "+--------+--------------+-----------------------------------------+\n",
      "|03230097|00000563224703|{000, 20070110, , 49, 2, 00000000000, 00}|\n",
      "|03230097|00026967782720|{000, 19990615, , 49, 2, 00000000000, 00}|\n",
      "|03230099|00006039729856|{000, 19990615, , 49, 2, 00000000000, 00}|\n",
      "|03230099|00010835249840|{000, 19990615, , 22, 2, 00000000000, 00}|\n",
      "|03230100|00001264437692|{000, 19990617, , 22, 2, 00000000000, 00}|\n",
      "|03230100|00004944619693|{000, 20070711, , 49, 2, 00000000000, 00}|\n",
      "|03230101|00033689091187|{000, 20050912, , 16, 2, 00000000000, 00}|\n",
      "|03230102|00016569903420|{000, 20050912, , 16, 2, 00000000000, 00}|\n",
      "|03230104|00021801606900|{000, 19990616, , 49, 2, 00000000000, 00}|\n",
      "|03230104|00029315018915|{000, 19990616, , 22, 2, 00000000000, 00}|\n",
      "|03230104|00489144      |{000, 19990729, , 22, 1, 21801606900, 05}|\n",
      "|03230105|00022409363806|{000, 20020416, , 49, 2, 00000000000, 00}|\n",
      "|03230105|00056186843572|{000, 19990617, , 49, 2, 00000000000, 00}|\n",
      "|03230106|00006022252563|{000, 20141016, , 49, 2, 00000000000, 00}|\n",
      "|03230106|00006185656558|{000, 20160609, , 22, 2, 00000000000, 00}|\n",
      "|03230107|00013497803839|{000, 19990531, , 49, 2, 00000000000, 00}|\n",
      "|03230107|00024930637830|{000, 19990531, , 49, 2, 00000000000, 00}|\n",
      "|03230108|00000454135769|{000, 19990610, , 49, 2, 00000000000, 00}|\n",
      "|03230108|00092645500706|{000, 19990610, , 49, 2, 00000000000, 00}|\n",
      "|03230110|00002795758660|{000, 19990618, , 22, 2, 00000000000, 00}|\n",
      "+--------+--------------+-----------------------------------------+\n",
      "only showing top 20 rows\n",
      "\n"
     ]
    }
   ],
   "source": [
    "# print (sc.head(2))\n",
    "sc.show(truncate=False)\n",
    "# sc.printSchema()"
   ]
  },
  {
   "cell_type": "code",
   "execution_count": 27,
   "id": "cda02b24",
   "metadata": {},
   "outputs": [],
   "source": [
    "# Cria df para vértices do tipo Pessoa Física:\n",
    "pf = sc.filter(col(\"te_dados_sc.identificadorSocio\") == '2').select(col(\"dst\").alias(\"id\"))\n"
   ]
  },
  {
   "cell_type": "code",
   "execution_count": 28,
   "id": "7f473cc2",
   "metadata": {},
   "outputs": [],
   "source": [
    "cols_pj = [col_name for col_name in pj.columns if col_name != 'id']\n",
    "for col_name in cols_pj:\n",
    "    pf = pf.withColumn(col_name, lit(None))"
   ]
  },
  {
   "cell_type": "code",
   "execution_count": 11,
   "id": "24d8a43f",
   "metadata": {},
   "outputs": [
    {
     "name": "stdout",
     "output_type": "stream",
     "text": [
      "+--------------+-----------+------------------+-----------+\n",
      "|id            |te_dados_em|id_estabelecimento|te_dados_es|\n",
      "+--------------+-----------+------------------+-----------+\n",
      "|00000563224703|NULL       |NULL              |NULL       |\n",
      "|00026967782720|NULL       |NULL              |NULL       |\n",
      "|00006039729856|NULL       |NULL              |NULL       |\n",
      "|00010835249840|NULL       |NULL              |NULL       |\n",
      "|00001264437692|NULL       |NULL              |NULL       |\n",
      "|00004944619693|NULL       |NULL              |NULL       |\n",
      "|00033689091187|NULL       |NULL              |NULL       |\n",
      "|00016569903420|NULL       |NULL              |NULL       |\n",
      "|00021801606900|NULL       |NULL              |NULL       |\n",
      "|00029315018915|NULL       |NULL              |NULL       |\n",
      "|00022409363806|NULL       |NULL              |NULL       |\n",
      "|00056186843572|NULL       |NULL              |NULL       |\n",
      "|00006022252563|NULL       |NULL              |NULL       |\n",
      "|00006185656558|NULL       |NULL              |NULL       |\n",
      "|00013497803839|NULL       |NULL              |NULL       |\n",
      "|00024930637830|NULL       |NULL              |NULL       |\n",
      "|00000454135769|NULL       |NULL              |NULL       |\n",
      "|00092645500706|NULL       |NULL              |NULL       |\n",
      "|00002795758660|NULL       |NULL              |NULL       |\n",
      "|00080489141820|NULL       |NULL              |NULL       |\n",
      "+--------------+-----------+------------------+-----------+\n",
      "only showing top 20 rows\n",
      "\n"
     ]
    }
   ],
   "source": [
    "pf.show(truncate=False)\n",
    "# pf.printSchema()"
   ]
  },
  {
   "cell_type": "code",
   "execution_count": 29,
   "id": "9a22fa4f",
   "metadata": {},
   "outputs": [],
   "source": [
    "# cria tipo de pessoa na nos vértices\n",
    "pj = pj.withColumn(\"id_tipoPessoa\", lit(1))\n",
    "pf = pf.withColumn(\"id_tipoPessoa\", lit(2))"
   ]
  },
  {
   "cell_type": "code",
   "execution_count": 31,
   "id": "b26619c9",
   "metadata": {},
   "outputs": [
    {
     "name": "stdout",
     "output_type": "stream",
     "text": [
      "+--------------+-----------+------------------+-----------+-------------+\n",
      "|id            |te_dados_em|id_estabelecimento|te_dados_es|id_tipoPessoa|\n",
      "+--------------+-----------+------------------+-----------+-------------+\n",
      "|00000563224703|NULL       |NULL              |NULL       |2            |\n",
      "|00026967782720|NULL       |NULL              |NULL       |2            |\n",
      "|00006039729856|NULL       |NULL              |NULL       |2            |\n",
      "|00010835249840|NULL       |NULL              |NULL       |2            |\n",
      "|00001264437692|NULL       |NULL              |NULL       |2            |\n",
      "|00004944619693|NULL       |NULL              |NULL       |2            |\n",
      "|00033689091187|NULL       |NULL              |NULL       |2            |\n",
      "|00016569903420|NULL       |NULL              |NULL       |2            |\n",
      "|00021801606900|NULL       |NULL              |NULL       |2            |\n",
      "|00029315018915|NULL       |NULL              |NULL       |2            |\n",
      "|00022409363806|NULL       |NULL              |NULL       |2            |\n",
      "|00056186843572|NULL       |NULL              |NULL       |2            |\n",
      "|00006022252563|NULL       |NULL              |NULL       |2            |\n",
      "|00006185656558|NULL       |NULL              |NULL       |2            |\n",
      "|00013497803839|NULL       |NULL              |NULL       |2            |\n",
      "|00024930637830|NULL       |NULL              |NULL       |2            |\n",
      "|00000454135769|NULL       |NULL              |NULL       |2            |\n",
      "|00092645500706|NULL       |NULL              |NULL       |2            |\n",
      "|00002795758660|NULL       |NULL              |NULL       |2            |\n",
      "|00080489141820|NULL       |NULL              |NULL       |2            |\n",
      "+--------------+-----------+------------------+-----------+-------------+\n",
      "only showing top 20 rows\n",
      "\n"
     ]
    }
   ],
   "source": [
    "pf.show(truncate=False)"
   ]
  },
  {
   "cell_type": "code",
   "execution_count": 32,
   "id": "946f7bf9",
   "metadata": {},
   "outputs": [],
   "source": [
    "# Criando o grafo de relacionamento empresas->socios\n",
    "g = GraphFrame(pj.union(pf), sc)"
   ]
  },
  {
   "cell_type": "code",
   "execution_count": 33,
   "id": "69a6470e",
   "metadata": {},
   "outputs": [
    {
     "name": "stdout",
     "output_type": "stream",
     "text": [
      "+--------+--------------------+------------------+--------------------+-------------+\n",
      "|      id|         te_dados_em|id_estabelecimento|         te_dados_es|id_tipoPessoa|\n",
      "+--------+--------------------+------------------+--------------------+-------------+\n",
      "|03230095|{05, 000000000000...|            000128|{SP, 13480021, 01...|            1|\n",
      "|03230096|{05, 000000000000...|            000172|{MG, 35920000, , ...|            1|\n",
      "|03230097|{01, 000000000000...|            000117|{RJ, 25071181, 21...|            1|\n",
      "|03230098|{01, 000000003000...|            000161|{RS, 93510078, 51...|            1|\n",
      "|03230099|{01, 000000000000...|            000106|{SP, 11310011, 01...|            1|\n",
      "|03230100|{01, 000000005000...|            000100|{MG, 35680258, 37...|            1|\n",
      "|03230101|{05, 000000000000...|            000147|{TO, 77690000, , ...|            1|\n",
      "|03230102|{05, 000000000000...|            000191|{PE, 55750000, , ...|            1|\n",
      "|03230103|{05, 000000000000...|            000136|{PR, 87013210, 04...|            1|\n",
      "|03230104|{05, 000000000000...|            000180|{SC, 89010170, , ...|            1|\n",
      "|03230105|{05, 000000000000...|            000125|{SP, 02051030, 01...|            1|\n",
      "|03230106|{03, 000000016000...|            000170|{BA, 44010565, 75...|            1|\n",
      "|03230107|{01, 000000000000...|            000114|{SP, 15050130, , ...|            1|\n",
      "|03230108|{05, 000000000000...|            000169|{RJ, 26210011, , ...|            1|\n",
      "|03230109|{01, 000000000000...|            000103|{MT, 78515000, 66...|            1|\n",
      "|03230110|{01, 000000017000...|            000138|{MG, 38140000, 34...|            1|\n",
      "|03230111|{01, 000000000000...|            000182|{MG, 30770540, 03...|            1|\n",
      "|03230112|{03, 000000300000...|            000127|{SP, 14600000, , ...|            1|\n",
      "|03230113|{01, 000000000000...|            000171|{SP, 11085800, , ...|            1|\n",
      "|03230114|{05, 000000000000...|            000116|{MG, 37900106, 03...|            1|\n",
      "+--------+--------------------+------------------+--------------------+-------------+\n",
      "only showing top 20 rows\n",
      "\n"
     ]
    }
   ],
   "source": [
    "g.vertices.show()"
   ]
  },
  {
   "cell_type": "code",
   "execution_count": 34,
   "id": "51b1da47",
   "metadata": {},
   "outputs": [
    {
     "name": "stdout",
     "output_type": "stream",
     "text": [
      "+--------------+-----------+------------------+-----------+-------------+\n",
      "|            id|te_dados_em|id_estabelecimento|te_dados_es|id_tipoPessoa|\n",
      "+--------------+-----------+------------------+-----------+-------------+\n",
      "|00000563224703|       NULL|              NULL|       NULL|            2|\n",
      "|00026967782720|       NULL|              NULL|       NULL|            2|\n",
      "|00006039729856|       NULL|              NULL|       NULL|            2|\n",
      "|00010835249840|       NULL|              NULL|       NULL|            2|\n",
      "|00001264437692|       NULL|              NULL|       NULL|            2|\n",
      "|00004944619693|       NULL|              NULL|       NULL|            2|\n",
      "|00033689091187|       NULL|              NULL|       NULL|            2|\n",
      "|00016569903420|       NULL|              NULL|       NULL|            2|\n",
      "|00021801606900|       NULL|              NULL|       NULL|            2|\n",
      "|00029315018915|       NULL|              NULL|       NULL|            2|\n",
      "|00022409363806|       NULL|              NULL|       NULL|            2|\n",
      "|00056186843572|       NULL|              NULL|       NULL|            2|\n",
      "|00006022252563|       NULL|              NULL|       NULL|            2|\n",
      "|00006185656558|       NULL|              NULL|       NULL|            2|\n",
      "|00013497803839|       NULL|              NULL|       NULL|            2|\n",
      "|00024930637830|       NULL|              NULL|       NULL|            2|\n",
      "|00000454135769|       NULL|              NULL|       NULL|            2|\n",
      "|00092645500706|       NULL|              NULL|       NULL|            2|\n",
      "|00002795758660|       NULL|              NULL|       NULL|            2|\n",
      "|00080489141820|       NULL|              NULL|       NULL|            2|\n",
      "+--------------+-----------+------------------+-----------+-------------+\n",
      "only showing top 20 rows\n",
      "\n"
     ]
    }
   ],
   "source": [
    "# Filtrando os vértices com comprimento de 'id' maior que 8\n",
    "vertices_filtrados = g.vertices.filter(g.vertices[\"id_tipoPessoa\"] == 2)\n",
    "\n",
    "# Exibindo os vértices filtrados\n",
    "vertices_filtrados.show()"
   ]
  },
  {
   "cell_type": "code",
   "execution_count": 12,
   "id": "bef80643",
   "metadata": {},
   "outputs": [
    {
     "name": "stdout",
     "output_type": "stream",
     "text": [
      "+--------------+------+\n",
      "|            id|degree|\n",
      "+--------------+------+\n",
      "|00038512556749|     1|\n",
      "|00048938050963|     1|\n",
      "|00005178880765|     1|\n",
      "|00053830113072|     1|\n",
      "|      03230874|     1|\n",
      "|00028828437049|     2|\n",
      "|00017596401821|     1|\n",
      "|      03231463|     2|\n",
      "|00063030152120|     1|\n",
      "|00018677938818|     1|\n",
      "|00000366371819|     1|\n",
      "|00064425037553|     1|\n",
      "|00000155076108|     1|\n",
      "|00005475477817|     1|\n",
      "|      03232065|     2|\n",
      "|      03232078|     1|\n",
      "|00002604521814|     1|\n",
      "|00086491032191|     1|\n",
      "|00052800415304|     1|\n",
      "|00062879332249|     1|\n",
      "+--------------+------+\n",
      "only showing top 20 rows\n",
      "\n"
     ]
    }
   ],
   "source": [
    "g.degrees.show()"
   ]
  },
  {
   "cell_type": "code",
   "execution_count": 16,
   "id": "46af5324",
   "metadata": {},
   "outputs": [
    {
     "name": "stdout",
     "output_type": "stream",
     "text": [
      "+--------------------+\n",
      "|        nomeFantasia|\n",
      "+--------------------+\n",
      "|MERCADINHO SAO PAULO|\n",
      "|         MTC CEREAIS|\n",
      "|N.SRA. APARECIDA ...|\n",
      "|AUTO PECAS BRASIL II|\n",
      "|GERAL COM E REPRE...|\n",
      "|       PRAZER DE LER|\n",
      "|   LANCHONETE VARGAS|\n",
      "|             KAYALAB|\n",
      "| LATICINIOS PINDOBAS|\n",
      "|  CARLOS CONSTRUCOES|\n",
      "|                D.S.|\n",
      "|    CONSELHO ESCOLAR|\n",
      "|   PALMEIRA BARCELOS|\n",
      "|       PEDRAS HANDER|\n",
      "|MERCADO CORDEIRO ...|\n",
      "|  ASSEMBLEIA DE DEUS|\n",
      "|     CRUZEIRO DO SUL|\n",
      "|SANTA CASA DO MON...|\n",
      "| MERCEARIA PROGRESSO|\n",
      "|     MORDIDA DE AMOR|\n",
      "+--------------------+\n",
      "only showing top 20 rows\n",
      "\n"
     ]
    }
   ],
   "source": [
    "Distinct_nome_fantasia = g.vertices.select('te_dados_es.nomeFantasia').distinct()\n",
    "Distinct_nome_fantasia.show()"
   ]
  },
  {
   "cell_type": "code",
   "execution_count": 15,
   "id": "e63e89fb",
   "metadata": {},
   "outputs": [
    {
     "name": "stdout",
     "output_type": "stream",
     "text": [
      "2055175\n"
     ]
    }
   ],
   "source": [
    "print (g.vertices.count())"
   ]
  },
  {
   "cell_type": "code",
   "execution_count": 16,
   "id": "9571848f",
   "metadata": {},
   "outputs": [
    {
     "name": "stdout",
     "output_type": "stream",
     "text": [
      "1068159\n"
     ]
    }
   ],
   "source": [
    "print (g.edges.count())"
   ]
  },
  {
   "cell_type": "code",
   "execution_count": 18,
   "id": "32f6433e",
   "metadata": {},
   "outputs": [],
   "source": [
    "spark.stop()"
   ]
  }
 ],
 "metadata": {
  "kernelspec": {
   "display_name": "Python 3 (ipykernel)",
   "language": "python",
   "name": "python3"
  },
  "language_info": {
   "codemirror_mode": {
    "name": "ipython",
    "version": 3
   },
   "file_extension": ".py",
   "mimetype": "text/x-python",
   "name": "python",
   "nbconvert_exporter": "python",
   "pygments_lexer": "ipython3",
   "version": "3.11.4"
  }
 },
 "nbformat": 4,
 "nbformat_minor": 5
}
