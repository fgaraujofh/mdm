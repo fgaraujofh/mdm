{
 "cells": [
  {
   "cell_type": "code",
   "execution_count": 1,
   "id": "7ef76610",
   "metadata": {},
   "outputs": [],
   "source": [
    "from pyspark import SparkConf\n",
    "from pyspark import SparkContext\n",
    "from pyspark.sql import SparkSession\n",
    "from pyspark.sql.functions import col, from_json, substring, when, length, split, lit\n",
    "from pyspark.sql.types import StructType, StructField, StringType\n",
    "from graphframes import *"
   ]
  },
  {
   "cell_type": "code",
   "execution_count": 3,
   "id": "4095905c-05c3-4e47-96d6-3ca7ae53b73f",
   "metadata": {},
   "outputs": [],
   "source": [
    "# Dados de carga\n",
    "csv_pj = 'dataset/empresas_estabelecimentos_1m.csv'\n",
    "csv_socios = 'dataset/socios_1m.csv'"
   ]
  },
  {
   "cell_type": "code",
   "execution_count": 2,
   "id": "983c3599",
   "metadata": {},
   "outputs": [
    {
     "name": "stderr",
     "output_type": "stream",
     "text": [
      "23/11/29 15:20:41 WARN SparkSession: Using an existing Spark session; only runtime SQL configurations will take effect.\n"
     ]
    }
   ],
   "source": [
    "spark = SparkSession.builder.appName(\"trata_dados_2\").getOrCreate()"
   ]
  },
  {
   "cell_type": "code",
   "execution_count": 3,
   "id": "ef9e8bef",
   "metadata": {},
   "outputs": [],
   "source": [
    "# Schema para Json Empresa\n",
    "json_schema_em = StructType([\n",
    "    StructField(\"porteEmpresa\", StringType(), True),\n",
    "    StructField(\"capitalSocial\", StringType(), True),\n",
    "    StructField(\"cpfResponsavel\", StringType(), True),\n",
    "    StructField(\"nomeEmpresarial\", StringType(), True),\n",
    "    StructField(\"naturezaJuridica\", StringType(), True),\n",
    "    StructField(\"qualificacaoResponsavel\", StringType(), True)\n",
    "])\n",
    "\n",
    "# Schema para Json Estabelecimento\n",
    "json_schema_es = StructType([\n",
    "    StructField(\"uf\", StringType(), True),\n",
    "    StructField(\"cep\", StringType(), True),\n",
    "    StructField(\"ddd1\", StringType(), True),\n",
    "    StructField(\"ddd2\", StringType(), True),\n",
    "    StructField(\"pais\", StringType(), True),\n",
    "    StructField(\"email\", StringType(), True),\n",
    "    StructField(\"bairro\", StringType(), True),\n",
    "    StructField(\"numero\", StringType(), True),\n",
    "    StructField(\"municipio\", StringType(), True),\n",
    "    StructField(\"telefone1\", StringType(), True),\n",
    "    StructField(\"telefone2\", StringType(), True),\n",
    "    StructField(\"cnaeFiscal\", StringType(), True),\n",
    "    StructField(\"logradouro\", StringType(), True),\n",
    "    StructField(\"complemento\", StringType(), True),\n",
    "    StructField(\"dataCadastro\", StringType(), True),\n",
    "    StructField(\"nomeFantasia\", StringType(), True),\n",
    "    StructField(\"cidadeExterior\", StringType(), True),\n",
    "    StructField(\"tipoLogradouro\", StringType(), True),\n",
    "    StructField(\"cnaesSecundarias\", StringType(), True),\n",
    "    StructField(\"situacaoEspecial\", StringType(), True),\n",
    "    StructField(\"situacaoCadastral\", StringType(), True),\n",
    "    StructField(\"dataSituacaoEspecial\", StringType(), True),\n",
    "    StructField(\"dataSituacaoCadastral\", StringType(), True),\n",
    "    StructField(\"motivoSituacaoCadastral\", StringType(), True),\n",
    "    StructField(\"identificadorMatrizFilial\", StringType(), True)\n",
    "])\n",
    "\n",
    "# Definindo o esquema para leitura do CSV\n",
    "schema = StructType([\n",
    "    StructField(\"nu_cnpj_raiz\", StringType(), True),\n",
    "    StructField(\"te_dados_em\", StringType(), True),\n",
    "    StructField(\"id_estabelecimento\", StringType(), True),\n",
    "    StructField(\"te_dados_es\", StringType(), True)\n",
    "])\n",
    "\n",
    "# Lendo o CSV com o esquema definido\n",
    "pj = spark.read \\\n",
    "    .option(\"delimiter\", \",\") \\\n",
    "    .option(\"multiline\", \"true\") \\\n",
    "    .option(\"escape\", \"\\\"\") \\\n",
    "    .csv(\"dataset/empresas_estabelecimentos.csv\", schema=schema, header=True)"
   ]
  },
  {
   "cell_type": "code",
   "execution_count": 4,
   "id": "e0861153",
   "metadata": {},
   "outputs": [],
   "source": [
    "pj = pj.withColumn(\"te_dados_em\", from_json(col(\"te_dados_em\"), json_schema_em)) \\\n",
    "      .withColumn(\"te_dados_es\", from_json(col(\"te_dados_es\"), json_schema_es)) \\\n",
    "      .filter(substring(col(\"id_estabelecimento\"), 0, 4) == '0001') \\\n",
    "      .withColumnRenamed(\"nu_cnpj_raiz\", \"id\")"
   ]
  },
  {
   "cell_type": "code",
   "execution_count": 5,
   "id": "4600cb91",
   "metadata": {},
   "outputs": [
    {
     "name": "stderr",
     "output_type": "stream",
     "text": [
      "23/11/28 18:52:42 WARN SparkStringUtils: Truncated the string representation of a plan since it was too large. This behavior can be adjusted by setting 'spark.sql.debug.maxToStringFields'.\n",
      "                                                                                \r"
     ]
    },
    {
     "name": "stdout",
     "output_type": "stream",
     "text": [
      "+--------+----------------------------------------------------------------------------------------------+------------------+-----------------------------------------------------------------------------------------------------------------------------------------------------------------------------------------------------------------------------------------------------------+\n",
      "|id      |te_dados_em                                                                                   |id_estabelecimento|te_dados_es                                                                                                                                                                                                                                                |\n",
      "+--------+----------------------------------------------------------------------------------------------+------------------+-----------------------------------------------------------------------------------------------------------------------------------------------------------------------------------------------------------------------------------------------------------+\n",
      "|03250000|{01, 00000001500000, 56394128015, FABIO ALBERTO SCARAMUSSA, 2135, 50}                         |000138            |{RS, 97770000, 55, 55, , , CENTRO, 1386, 7381, 32501041, 32501016, 2543800, TEREZA FRIZZO, , 19990615, INDUSTRIA DE ARTEFATOS DE FERRO ( I.A.F. ), , RUA, [\"1629301\",\"2541100\",\"2542000\",\"2833000\",\"3314711\",\"4530703\",\"4744001\"], , 02, , 20051103, 00, 1}|\n",
      "|03250001|{05, 00000000000000, 50690981449, CONSELHO ESCOLAR QUIXABEIRA, 3999, 16}                      |000182            |{PE, 56460000, , , , , ZONA RURAL, SN, 2519, , , 9430800, AGROVILA 04 B1.02, , 19990701, , , , [\"9493600\",\"9499500\"], , 04, , 20190130, 63, 1}                                                                                                             |\n",
      "|03250002|{01, 00000000000000, 82462291091, RODRIGUES & VIEIRA COMERCIO E DECORACOES LTDA, 2062, 49}    |000127            |{RS, 91220580, 051, , , , CAVALHADA, 2155, 8801, 2426110, , 4759801, CAVALHADA, , 19990624, TAPECARIA TAPETAO, , AVENIDA, , , 02, , 20210921, 00, 1}                                                                                                       |\n",
      "|03250003|{03, 00000010000000, 47093161987, CEDRO MOVEIS E DECORACOES LTDA, 2062, 49}                   |000171            |{SC, 88075001, 48, 48, , CEDROMOVEIS@YAHOO.COM.BR, ESTREITO, 100, 8105, 32231388, 30256695, 4754701, RUA GENERAL VALGAS NEVES, , 19990629, CEDRO MOVEIS, , RUA, [\"4789003\",\"3103900\",\"4930202\"], , 02, , 20051103, 00, 1}                                  |\n",
      "|03250004|{05, 00000000000000, 81270615734, CONDOMINIO DO EDIF. ALMTE. PAULO MOREIRA BLOCO XI, 3085, 16}|000116            |{RJ, 23073070, , , , , CAMPO GRANDE, 180, 6001, , , 8112500, PROFESSORA ALMEIRINDA DE CASTRO, RUA 05 BLOCO XI, 19990622, EDIFICIO ALMTE. PAULO MOREIRA BLOCO XI, , RUA, NULL, , 02, , 19990622, 00, 1}                                                     |\n",
      "|03250005|{05, 00000000000000, 18433375091, JOAO STAUB NETO, 2135, 50}                                  |000160            |{RS, 98130000, , , , , CENTRO, 180, 8725, , , 5611203, CEL. SERAFIN, CASA, 19990618, , , RUA, NULL, , 08, , 20060102, 01, 1}                                                                                                                               |\n",
      "|03250006|{01, 00000000000000, 05932096993, INDUSTRIA E COMERCIO DE CONFECCOES REALEZA LTDA, 2062, 49}  |000105            |{SC, 88960000, 48, 48, , mcrose@contato.net, JANUARIA, 2007, 8349, 35330999, 35330999, 4755503, BR 101 KM 435, SALA  41, 19990629, SONHO REAL, , RODOVIA, , , 04, , 20231113, 63, 1}                                                                       |\n",
      "|03250007|{05, 00000000000000, 38269295515, PITANGA E GALVAO CORRETORA DE SEGUROS LTDA, 2062, 49}       |000150            |{BA, 44001465, 075, , , , CENTRO, 207, 3515, 2218244, , 6512000, SAMPAIO, ANDAR 1 - SALA 105, 19990628, , , AVENIDA, NULL, , 08, , 20150209, 73, 1}                                                                                                        |\n",
      "|03250008|{01, 00000000000000, 49904167834, DORIVAL BENEDETTI, 2135, 50}                                |000102            |{MT, 78110798, , , , , PORTO, 1011, 9167, , , 9521500, FEB, , 19870120, PORTAL DO SUL, , AVENIDA, , , 04, , 20201022, 63, 1}                                                                                                                               |\n",
      "|03250009|{01, 00000000200000, 12962745865, SOFT SYSTEM INFORMATICA S/S LTDA, 2240, 49}                 |000149            |{SP, 06160040, 011, , , , JD. DOS AUTONOMISTAS, 200, 6789, 66216336, , 8299799, JOAO GUIMARAES ROSA, BLOCO 1 - CONJUNTO 53, 19990629, SOFT SYSTEM INFORMATICA, , RUA, NULL, , 08, , 20190917, 01, 1}                                                       |\n",
      "|03250010|{01, 00000005000000, 01732487995, TECVIDIAL FERRAMENTAS LTDA, 2062, 49}                       |000173            |{SC, 89108000, 47, , , , BUTUCA, 373, 8207, 33791964, , 2543800, AUGUSTO LAFFIN, , 19990629, TECVIDIAL FERRAMENTAS, , RUA, [\"2539002\",\"2542000\",\"4744001\"], , 02, , 20051103, 00, 1}                                                                       |\n",
      "|03250011|{05, 00000000000000, 25678426087, BAZAR E CONFECCOES MUNIZ LTDA, 2062, 49}                    |000118            |{SC, 89814020, , , , , CENTRO, 530, 8081, , , 4789001, GENERAL OSORIO, E SALA 02, 19990624, , , RUA, NULL, , 08, , 20030707, 01, 1}                                                                                                                        |\n",
      "|03250012|{05, 00000000000000, 07247777761, BUSINESS PAGE LTDA, 2062, 49}                               |000162            |{RJ, 25953020, 021, , , expander@gbl.com.br, VARZEA, 86, 5915, 6433311, , 6209100, MONTE LIBANO, SALA 105, 19990625, BUSINESS PAGE, , RUA, NULL, , 08, , 20150209, 73, 1}                                                                                  |\n",
      "|03250013|{05, 00000000000000, 42425344004, RC SERVICE, 2135, 50}                                       |000107            |{RS, 91360040, , , , , VILA IPIRANGA, 18, 8801, , , 4744005, JOAO CANDIDO, SALA 203, 19990618, , , RUA, NULL, , 08, , 20040105, 01, 1}                                                                                                                     |\n",
      "|03250014|{01, 00000000000000, 89460065872, BARDELLI SERVICOS S/C LTDA, 2062, 49}                       |000151            |{SP, 09861750, , , , , ASSUNCAO, 77, 7075, , , 8299799, ROSA ROSSI, , 19990625, , , RUA, [\"6399200\",\"7410299\",\"7490105\",\"7490199\",\"8219999\",\"8299703\",\"8299707\"], , 04, , 20180906, 63, 1}                                                                 |\n",
      "|03250015|{01, 00000008000000, 00931589045, SQ CORRETORA DE SEGUROS E CONSORCIOS LTDA, 2062, 49}        |000104            |{RS, 93310240, 51, , , HENRIQUE@SQCORRETORA.COM.BR, RIO BRANCO, 701, 8771, 30377322, , 6622300, JOSE DO PATROCINIO, SALA  306, 19990526, , , RUA, [\"6493000\"], , 02, , 20051103, 00, 1}                                                                    |\n",
      "|03250016|{05, 00000000000000, 27669319100, ALTAIR LUIZ DE MORAES, 2135, 50}                            |000140            |{MT, 78110798, , , , , AGUA LIMPA, 683, 9167, , , 4781400, MANOEL FRANCISCO PAULA, , 19870120, ALTELI CONFECCOES, , RUA, NULL, , 08, , 20081231, 71, 1}                                                                                                    |\n",
      "|03250017|{05, 00000000000000, 94708614853, ENORE BRASIL VIAGENS E TURISMO LTDA, 2062, 49}              |000195            |{SP, 04582000, 011, , , , VILA CORDEIRO, 182, 7107, 2553955, , 7911200, ALVARO RODRIGUES, CONJUNTOS 71/72, 19990622, , , RUA, [\"7912100\",\"7990200\"], , 08, , 20081231, 71, 1}                                                                              |\n",
      "|03250018|{01, 00000000000000, 79694284872, CANADA MAPLE LEAF LANGUAGE INSTITUTE LTDA, 2062, 49}        |000130            |{SP, 17201490, 14, , , escritoriomodelo@jaunet.com.br, CENTRO, 560, 6607, 6218020, , 4761001, RANGEL PESTANA, , 19990621, , , , NULL, , 08, , 20160425, 01, 1}                                                                                             |\n",
      "|03250019|{01, 00000000000000, 13061038434, TEREZA N P DOS SANTOS, 2135, 50}                            |000184            |{RN, 59010460, , , , , SANTOS REIS, 08, 1761, , , 8011101, DA LIBERDADE, , 19990630, OLHO DE AGUIA AG. SEG. TERCEIRIZACAO MARITIMA E SERVICO, , RUA, [\"8020001\"], , 08, , 20220419, 01, 1}                                                                 |\n",
      "+--------+----------------------------------------------------------------------------------------------+------------------+-----------------------------------------------------------------------------------------------------------------------------------------------------------------------------------------------------------------------------------------------------------+\n",
      "only showing top 20 rows\n",
      "\n"
     ]
    }
   ],
   "source": [
    "# print (pj.head(2))\n",
    "pj.show(truncate=False)\n",
    "# pj.printSchema()"
   ]
  },
  {
   "cell_type": "code",
   "execution_count": 6,
   "id": "76bca73a",
   "metadata": {},
   "outputs": [],
   "source": [
    "# Schema para Json Socios\n",
    "json_schema_sc = StructType([\n",
    "    StructField(\"pais\", StringType(), True),\n",
    "    StructField(\"entradaSociedade\", StringType(), True),\n",
    "    StructField(\"socioEstrangeiro\", StringType(), True),\n",
    "    StructField(\"qualificacaoSocio\", StringType(), True),\n",
    "    StructField(\"identificadorSocio\", StringType(), True),\n",
    "    StructField(\"cpfRepresentanteLegal\", StringType(), True),\n",
    "    StructField(\"qualificacaoRepresentanteLegal\", StringType(), True)\n",
    "])\n",
    "\n",
    "# Definindo o esquema para leitura do CSV\n",
    "schema = StructType([\n",
    "    StructField(\"nu_cnpj_raiz\", StringType(), True),\n",
    "    StructField(\"id_socio\", StringType(), True),\n",
    "    StructField(\"te_dados_sc\", StringType(), True)\n",
    "])\n",
    "\n",
    "# Lendo o CSV com o esquema definido\n",
    "sc = spark.read \\\n",
    "    .option(\"delimiter\", \",\") \\\n",
    "    .option(\"multiline\", \"true\") \\\n",
    "    .option(\"escape\", \"\\\"\") \\\n",
    "    .csv(\"dataset/socios.csv\", schema=schema, header=True)"
   ]
  },
  {
   "cell_type": "code",
   "execution_count": 7,
   "id": "6d1f0421",
   "metadata": {},
   "outputs": [],
   "source": [
    "# tratando o df socios\n",
    "# Tratamento 1: Expandir o JSON\n",
    "sc = sc.withColumn(\"te_dados_sc\", from_json(col(\"te_dados_sc\"), json_schema_sc))\n",
    "\n",
    "sc = sc.withColumn(\"id_socio\", when(sc[\"te_dados_sc\"][\"identificadorSocio\"] == '1',\n",
    "                                    sc[\"id_socio\"].substr(1, 8))\n",
    "                                .otherwise(sc[\"id_socio\"]))\n",
    "\n",
    "sc = sc.withColumnRenamed(\"nu_cnpj_raiz\", \"src\").withColumnRenamed(\"id_socio\", \"dst\")"
   ]
  },
  {
   "cell_type": "code",
   "execution_count": 8,
   "id": "3bc4731a",
   "metadata": {},
   "outputs": [
    {
     "name": "stdout",
     "output_type": "stream",
     "text": [
      "+--------+--------------+-----------------------------------------+\n",
      "|src     |dst           |te_dados_sc                              |\n",
      "+--------+--------------+-----------------------------------------+\n",
      "|03250001|00050690981449|{000, 20050912, , 16, 2, 00000000000, 00}|\n",
      "|03250002|00035046376091|{000, 20000914, , 22, 2, 00000000000, 00}|\n",
      "|03250002|00082462291091|{000, 19991216, , 49, 2, 00000000000, 00}|\n",
      "|03250003|00047093161987|{000, 20180829, , 49, 2, 00000000000, 00}|\n",
      "|03250006|00005932096993|{000, 20060522, , 49, 2, 00000000000, 00}|\n",
      "|03250006|00006117916922|{000, 20060522, , 22, 2, 00000000000, 00}|\n",
      "|03250007|00026853060563|{000, 19990630, , 49, 2, 00000000000, 00}|\n",
      "|03250007|00038269295515|{000, 19990630, , 49, 2, 00000000000, 00}|\n",
      "|03250009|00012962745865|{000, 19990629, , 49, 2, 00000000000, 00}|\n",
      "|03250010|00001732487995|{000, 20210416, , 49, 2, 00000000000, 00}|\n",
      "|03250011|00025678426087|{000, 19990624, , 49, 2, 00000000000, 00}|\n",
      "|03250011|00049920154091|{000, 19990624, , 22, 2, 00000000000, 00}|\n",
      "|03250012|00007247777761|{000, 20020111, , 49, 2, 00000000000, 00}|\n",
      "|03250012|00089969189700|{000, 19990625, , 49, 2, 00000000000, 00}|\n",
      "|03250014|00037222694820|{000, 19990625, , 22, 2, 00000000000, 00}|\n",
      "|03250014|00089460065872|{000, 19990625, , 49, 2, 00000000000, 00}|\n",
      "|03250015|00000931589045|{000, 20120412, , 49, 2, 00000000000, 00}|\n",
      "|03250017|00003940778818|{000, 19990622, , 49, 2, 00000000000, 00}|\n",
      "|03250017|00006341206895|{000, 19990622, , 49, 2, 00000000000, 00}|\n",
      "|03250017|00094708614853|{000, 19990622, , 49, 2, 00000000000, 00}|\n",
      "+--------+--------------+-----------------------------------------+\n",
      "only showing top 20 rows\n",
      "\n"
     ]
    }
   ],
   "source": [
    "# print (sc.head(2))\n",
    "sc.show(truncate=False)\n",
    "# sc.printSchema()"
   ]
  },
  {
   "cell_type": "code",
   "execution_count": 9,
   "id": "cda02b24",
   "metadata": {},
   "outputs": [],
   "source": [
    "# Cria df para vértices do tipo Pessoa Física:\n",
    "pf = sc.filter(col(\"te_dados_sc.identificadorSocio\") == '2').select(col(\"dst\").alias(\"id\"))\n"
   ]
  },
  {
   "cell_type": "code",
   "execution_count": 10,
   "id": "7f473cc2",
   "metadata": {},
   "outputs": [],
   "source": [
    "cols_pj = [col_name for col_name in pj.columns if col_name != 'id']\n",
    "for col_name in cols_pj:\n",
    "    pf = pf.withColumn(col_name, lit(None))"
   ]
  },
  {
   "cell_type": "code",
   "execution_count": 11,
   "id": "24d8a43f",
   "metadata": {},
   "outputs": [
    {
     "name": "stdout",
     "output_type": "stream",
     "text": [
      "+--------------+-----------+------------------+-----------+\n",
      "|id            |te_dados_em|id_estabelecimento|te_dados_es|\n",
      "+--------------+-----------+------------------+-----------+\n",
      "|00050690981449|NULL       |NULL              |NULL       |\n",
      "|00035046376091|NULL       |NULL              |NULL       |\n",
      "|00082462291091|NULL       |NULL              |NULL       |\n",
      "|00047093161987|NULL       |NULL              |NULL       |\n",
      "|00005932096993|NULL       |NULL              |NULL       |\n",
      "|00006117916922|NULL       |NULL              |NULL       |\n",
      "|00026853060563|NULL       |NULL              |NULL       |\n",
      "|00038269295515|NULL       |NULL              |NULL       |\n",
      "|00012962745865|NULL       |NULL              |NULL       |\n",
      "|00001732487995|NULL       |NULL              |NULL       |\n",
      "|00025678426087|NULL       |NULL              |NULL       |\n",
      "|00049920154091|NULL       |NULL              |NULL       |\n",
      "|00007247777761|NULL       |NULL              |NULL       |\n",
      "|00089969189700|NULL       |NULL              |NULL       |\n",
      "|00037222694820|NULL       |NULL              |NULL       |\n",
      "|00089460065872|NULL       |NULL              |NULL       |\n",
      "|00000931589045|NULL       |NULL              |NULL       |\n",
      "|00003940778818|NULL       |NULL              |NULL       |\n",
      "|00006341206895|NULL       |NULL              |NULL       |\n",
      "|00094708614853|NULL       |NULL              |NULL       |\n",
      "+--------------+-----------+------------------+-----------+\n",
      "only showing top 20 rows\n",
      "\n"
     ]
    }
   ],
   "source": [
    "pf.show(truncate=False)\n",
    "# pf.printSchema()"
   ]
  },
  {
   "cell_type": "code",
   "execution_count": 12,
   "id": "9a22fa4f",
   "metadata": {},
   "outputs": [],
   "source": [
    "# cria tipo de pessoa na nos vértices\n",
    "pj = pj.withColumn(\"id_tipoPessoa\", lit(1))\n",
    "pf = pf.withColumn(\"id_tipoPessoa\", lit(2))"
   ]
  },
  {
   "cell_type": "code",
   "execution_count": 13,
   "id": "b26619c9",
   "metadata": {},
   "outputs": [
    {
     "name": "stdout",
     "output_type": "stream",
     "text": [
      "+--------------+-----------+------------------+-----------+-------------+\n",
      "|id            |te_dados_em|id_estabelecimento|te_dados_es|id_tipoPessoa|\n",
      "+--------------+-----------+------------------+-----------+-------------+\n",
      "|00050690981449|NULL       |NULL              |NULL       |2            |\n",
      "|00035046376091|NULL       |NULL              |NULL       |2            |\n",
      "|00082462291091|NULL       |NULL              |NULL       |2            |\n",
      "|00047093161987|NULL       |NULL              |NULL       |2            |\n",
      "|00005932096993|NULL       |NULL              |NULL       |2            |\n",
      "|00006117916922|NULL       |NULL              |NULL       |2            |\n",
      "|00026853060563|NULL       |NULL              |NULL       |2            |\n",
      "|00038269295515|NULL       |NULL              |NULL       |2            |\n",
      "|00012962745865|NULL       |NULL              |NULL       |2            |\n",
      "|00001732487995|NULL       |NULL              |NULL       |2            |\n",
      "|00025678426087|NULL       |NULL              |NULL       |2            |\n",
      "|00049920154091|NULL       |NULL              |NULL       |2            |\n",
      "|00007247777761|NULL       |NULL              |NULL       |2            |\n",
      "|00089969189700|NULL       |NULL              |NULL       |2            |\n",
      "|00037222694820|NULL       |NULL              |NULL       |2            |\n",
      "|00089460065872|NULL       |NULL              |NULL       |2            |\n",
      "|00000931589045|NULL       |NULL              |NULL       |2            |\n",
      "|00003940778818|NULL       |NULL              |NULL       |2            |\n",
      "|00006341206895|NULL       |NULL              |NULL       |2            |\n",
      "|00094708614853|NULL       |NULL              |NULL       |2            |\n",
      "+--------------+-----------+------------------+-----------+-------------+\n",
      "only showing top 20 rows\n",
      "\n"
     ]
    }
   ],
   "source": [
    "pf.show(truncate=False)"
   ]
  },
  {
   "cell_type": "code",
   "execution_count": 14,
   "id": "946f7bf9",
   "metadata": {},
   "outputs": [],
   "source": [
    "# Criando o grafo de relacionamento empresas->socios\n",
    "g = GraphFrame(pj.union(pf), sc)"
   ]
  },
  {
   "cell_type": "code",
   "execution_count": 15,
   "id": "69a6470e",
   "metadata": {},
   "outputs": [
    {
     "name": "stdout",
     "output_type": "stream",
     "text": [
      "+--------+--------------------+------------------+--------------------+-------------+\n",
      "|      id|         te_dados_em|id_estabelecimento|         te_dados_es|id_tipoPessoa|\n",
      "+--------+--------------------+------------------+--------------------+-------------+\n",
      "|03250000|{01, 000000015000...|            000138|{RS, 97770000, 55...|            1|\n",
      "|03250001|{05, 000000000000...|            000182|{PE, 56460000, , ...|            1|\n",
      "|03250002|{01, 000000000000...|            000127|{RS, 91220580, 05...|            1|\n",
      "|03250003|{03, 000000100000...|            000171|{SC, 88075001, 48...|            1|\n",
      "|03250004|{05, 000000000000...|            000116|{RJ, 23073070, , ...|            1|\n",
      "|03250005|{05, 000000000000...|            000160|{RS, 98130000, , ...|            1|\n",
      "|03250006|{01, 000000000000...|            000105|{SC, 88960000, 48...|            1|\n",
      "|03250007|{05, 000000000000...|            000150|{BA, 44001465, 07...|            1|\n",
      "|03250008|{01, 000000000000...|            000102|{MT, 78110798, , ...|            1|\n",
      "|03250009|{01, 000000002000...|            000149|{SP, 06160040, 01...|            1|\n",
      "|03250010|{01, 000000050000...|            000173|{SC, 89108000, 47...|            1|\n",
      "|03250011|{05, 000000000000...|            000118|{SC, 89814020, , ...|            1|\n",
      "|03250012|{05, 000000000000...|            000162|{RJ, 25953020, 02...|            1|\n",
      "|03250013|{05, 000000000000...|            000107|{RS, 91360040, , ...|            1|\n",
      "|03250014|{01, 000000000000...|            000151|{SP, 09861750, , ...|            1|\n",
      "|03250015|{01, 000000080000...|            000104|{RS, 93310240, 51...|            1|\n",
      "|03250016|{05, 000000000000...|            000140|{MT, 78110798, , ...|            1|\n",
      "|03250017|{05, 000000000000...|            000195|{SP, 04582000, 01...|            1|\n",
      "|03250018|{01, 000000000000...|            000130|{SP, 17201490, 14...|            1|\n",
      "|03250019|{01, 000000000000...|            000184|{RN, 59010460, , ...|            1|\n",
      "+--------+--------------------+------------------+--------------------+-------------+\n",
      "only showing top 20 rows\n",
      "\n"
     ]
    }
   ],
   "source": [
    "g.vertices.show()"
   ]
  },
  {
   "cell_type": "code",
   "execution_count": 16,
   "id": "51b1da47",
   "metadata": {},
   "outputs": [
    {
     "name": "stdout",
     "output_type": "stream",
     "text": [
      "+--------------+-----------+------------------+-----------+-------------+\n",
      "|            id|te_dados_em|id_estabelecimento|te_dados_es|id_tipoPessoa|\n",
      "+--------------+-----------+------------------+-----------+-------------+\n",
      "|00050690981449|       NULL|              NULL|       NULL|            2|\n",
      "|00035046376091|       NULL|              NULL|       NULL|            2|\n",
      "|00082462291091|       NULL|              NULL|       NULL|            2|\n",
      "|00047093161987|       NULL|              NULL|       NULL|            2|\n",
      "|00005932096993|       NULL|              NULL|       NULL|            2|\n",
      "|00006117916922|       NULL|              NULL|       NULL|            2|\n",
      "|00026853060563|       NULL|              NULL|       NULL|            2|\n",
      "|00038269295515|       NULL|              NULL|       NULL|            2|\n",
      "|00012962745865|       NULL|              NULL|       NULL|            2|\n",
      "|00001732487995|       NULL|              NULL|       NULL|            2|\n",
      "|00025678426087|       NULL|              NULL|       NULL|            2|\n",
      "|00049920154091|       NULL|              NULL|       NULL|            2|\n",
      "|00007247777761|       NULL|              NULL|       NULL|            2|\n",
      "|00089969189700|       NULL|              NULL|       NULL|            2|\n",
      "|00037222694820|       NULL|              NULL|       NULL|            2|\n",
      "|00089460065872|       NULL|              NULL|       NULL|            2|\n",
      "|00000931589045|       NULL|              NULL|       NULL|            2|\n",
      "|00003940778818|       NULL|              NULL|       NULL|            2|\n",
      "|00006341206895|       NULL|              NULL|       NULL|            2|\n",
      "|00094708614853|       NULL|              NULL|       NULL|            2|\n",
      "+--------------+-----------+------------------+-----------+-------------+\n",
      "only showing top 20 rows\n",
      "\n"
     ]
    }
   ],
   "source": [
    "# Filtrando os vértices com comprimento de 'id' maior que 8\n",
    "vertices_filtrados = g.vertices.filter(g.vertices[\"id_tipoPessoa\"] == 2)\n",
    "\n",
    "# Exibindo os vértices filtrados\n",
    "vertices_filtrados.show()"
   ]
  },
  {
   "cell_type": "code",
   "execution_count": 17,
   "id": "bef80643",
   "metadata": {},
   "outputs": [
    {
     "name": "stderr",
     "output_type": "stream",
     "text": [
      "23/11/28 18:53:11 WARN RowBasedKeyValueBatch: Calling spill() on RowBasedKeyValueBatch. Will not spill but return 0.\n",
      "23/11/28 18:53:39 WARN RowBasedKeyValueBatch: Calling spill() on RowBasedKeyValueBatch. Will not spill but return 0.\n",
      "23/11/28 18:54:06 WARN RowBasedKeyValueBatch: Calling spill() on RowBasedKeyValueBatch. Will not spill but return 0.\n",
      "23/11/28 18:54:33 WARN RowBasedKeyValueBatch: Calling spill() on RowBasedKeyValueBatch. Will not spill but return 0.\n",
      "[Stage 6:>                                                          (0 + 1) / 1]\r"
     ]
    },
    {
     "name": "stdout",
     "output_type": "stream",
     "text": [
      "+--------------+------+\n",
      "|            id|degree|\n",
      "+--------------+------+\n",
      "|      03250015|     1|\n",
      "|00095818499715|     1|\n",
      "|      03250329|     2|\n",
      "|00026923943809|     1|\n",
      "|      03250402|     2|\n",
      "|00077271181415|     4|\n",
      "|00035380802168|     1|\n",
      "|00034271902187|     1|\n",
      "|00017914088854|     1|\n",
      "|00005149062430|     1|\n",
      "|00001171545800|     1|\n",
      "|      03251400|     2|\n",
      "|00044526628620|     1|\n",
      "|00099513803015|     1|\n",
      "|      03251565|     2|\n",
      "|00026132426809|     7|\n",
      "|00003034530609|     2|\n",
      "|00030445094400|     1|\n",
      "|      03251941|     2|\n",
      "|00095549153904|     1|\n",
      "+--------------+------+\n",
      "only showing top 20 rows\n",
      "\n"
     ]
    },
    {
     "name": "stderr",
     "output_type": "stream",
     "text": [
      "                                                                                \r"
     ]
    }
   ],
   "source": [
    "g.degrees.show()"
   ]
  },
  {
   "cell_type": "code",
   "execution_count": 18,
   "id": "46af5324",
   "metadata": {},
   "outputs": [
    {
     "name": "stderr",
     "output_type": "stream",
     "text": [
      "23/11/28 18:56:51 WARN RowBasedKeyValueBatch: Calling spill() on RowBasedKeyValueBatch. Will not spill but return 0.\n",
      "23/11/28 19:00:15 WARN RowBasedKeyValueBatch: Calling spill() on RowBasedKeyValueBatch. Will not spill but return 0.\n",
      "23/11/28 19:02:57 WARN RowBasedKeyValueBatch: Calling spill() on RowBasedKeyValueBatch. Will not spill but return 0.\n",
      "[Stage 9:=============================>                             (1 + 1) / 2]\r"
     ]
    },
    {
     "name": "stdout",
     "output_type": "stream",
     "text": [
      "+--------------------+\n",
      "|        nomeFantasia|\n",
      "+--------------------+\n",
      "|     IDEAL MOTO TAXI|\n",
      "|  SHOPPING DAS LOJAS|\n",
      "|   PESQUEIRO PARAISO|\n",
      "|    CONSELHO ESCOLAR|\n",
      "|             CALMELL|\n",
      "|   VITALLI ESTOFADOS|\n",
      "|            METALART|\n",
      "|CABOS, CORDAS & CIA.|\n",
      "|     CASA DE RETORNO|\n",
      "|MULTTECH INFORMATICA|\n",
      "|POUSADA NOSSA SEN...|\n",
      "|      MERCADO GRACEL|\n",
      "|  CAMILOOS CORRETORA|\n",
      "|BAR E MERCEARIA V...|\n",
      "|   DELICIAS CASEIRAS|\n",
      "|GRANJA FRANGO DE ...|\n",
      "|              AAP/RN|\n",
      "|  MECANICA DO GERINO|\n",
      "|  PLANO AGROPECUARIO|\n",
      "|           CLOVISTUR|\n",
      "+--------------------+\n",
      "only showing top 20 rows\n",
      "\n"
     ]
    },
    {
     "name": "stderr",
     "output_type": "stream",
     "text": [
      "                                                                                \r"
     ]
    }
   ],
   "source": [
    "Distinct_nome_fantasia = g.vertices.select('te_dados_es.nomeFantasia').distinct()\n",
    "Distinct_nome_fantasia.show()"
   ]
  },
  {
   "cell_type": "code",
   "execution_count": 19,
   "id": "e63e89fb",
   "metadata": {},
   "outputs": [
    {
     "name": "stderr",
     "output_type": "stream",
     "text": [
      "[Stage 12:=============================>                            (1 + 1) / 2]\r"
     ]
    },
    {
     "name": "stdout",
     "output_type": "stream",
     "text": [
      "44071255\n"
     ]
    },
    {
     "name": "stderr",
     "output_type": "stream",
     "text": [
      "                                                                                \r"
     ]
    }
   ],
   "source": [
    "print (g.vertices.count())"
   ]
  },
  {
   "cell_type": "code",
   "execution_count": 20,
   "id": "9571848f",
   "metadata": {},
   "outputs": [
    {
     "name": "stderr",
     "output_type": "stream",
     "text": [
      "[Stage 15:>                                                         (0 + 1) / 1]\r"
     ]
    },
    {
     "name": "stdout",
     "output_type": "stream",
     "text": [
      "14377190\n"
     ]
    },
    {
     "name": "stderr",
     "output_type": "stream",
     "text": [
      "                                                                                \r"
     ]
    }
   ],
   "source": [
    "print (g.edges.count())"
   ]
  },
  {
   "cell_type": "code",
   "execution_count": 21,
   "id": "32f6433e",
   "metadata": {},
   "outputs": [],
   "source": [
    "spark.stop()"
   ]
  }
 ],
 "metadata": {
  "kernelspec": {
   "display_name": "Python 3 (ipykernel)",
   "language": "python",
   "name": "python3"
  },
  "language_info": {
   "codemirror_mode": {
    "name": "ipython",
    "version": 3
   },
   "file_extension": ".py",
   "mimetype": "text/x-python",
   "name": "python",
   "nbconvert_exporter": "python",
   "pygments_lexer": "ipython3",
   "version": "3.9.18"
  }
 },
 "nbformat": 4,
 "nbformat_minor": 5
}
