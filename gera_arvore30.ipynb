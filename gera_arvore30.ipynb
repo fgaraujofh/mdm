{
 "cells": [
  {
   "cell_type": "code",
   "execution_count": 1,
   "id": "51141f25-3950-465f-84ec-7114bcbe6216",
   "metadata": {},
   "outputs": [],
   "source": [
    "from pyspark import SparkConf\n",
    "from pyspark import SparkContext\n",
    "from pyspark.sql import SparkSession\n",
    "from pyspark.sql.functions import *\n",
    "from pyspark.sql.types import StructType, StructField, StringType\n",
    "from graphframes import *"
   ]
  },
  {
   "cell_type": "code",
   "execution_count": 2,
   "id": "692f6c25-16d4-412f-81a9-99cb44ee0025",
   "metadata": {},
   "outputs": [],
   "source": [
    "# Nomes de aquivos e pastas\n",
    "checkpoint_dir = 'graphframes_cps_30m'\n",
    "parquet_dir_name = 'output/embeddings_nome_30m'\n",
    "parquet_nodes  = 'dataset/grapho/nodes_30m'\n",
    "parquet_edges = 'dataset/grapho/edges_30m'"
   ]
  },
  {
   "cell_type": "code",
   "execution_count": 3,
   "id": "6394fb76-dbb9-4fd3-aed5-e693813e074c",
   "metadata": {},
   "outputs": [
    {
     "name": "stderr",
     "output_type": "stream",
     "text": [
      "23/12/12 23:00:08 WARN SparkSession: Using an existing Spark session; only runtime SQL configurations will take effect.\n"
     ]
    }
   ],
   "source": [
    "spark = SparkSession.builder \\\n",
    "            .appName(\"gera_arvore30\") \\\n",
    "            .getOrCreate()\n",
    "\n",
    "sc = spark.sparkContext\n",
    "sc.setCheckpointDir(checkpoint_dir)"
   ]
  },
  {
   "cell_type": "code",
   "execution_count": 5,
   "id": "a11b7b67-5803-4188-a8b5-5543a62776c0",
   "metadata": {},
   "outputs": [
    {
     "name": "stderr",
     "output_type": "stream",
     "text": [
      "                                                                                \r"
     ]
    }
   ],
   "source": [
    "# Carrega nodes\n",
    "nodes = spark.read.parquet(parquet_nodes)\n",
    "# Carrega edges\n",
    "edges = spark.read.parquet(parquet_edges)\n",
    "# Carrega embeddings\n",
    "embeddings = spark.read.parquet(parquet_dir_name)\n",
    "# Criando o grafo de relacionamento empresas->socios\n",
    "g = GraphFrame(nodes, edges)"
   ]
  },
  {
   "cell_type": "code",
   "execution_count": 23,
   "id": "fc47ddbd-6c94-4cf3-88fe-a7d1fc201d9d",
   "metadata": {},
   "outputs": [],
   "source": [
    "def generate_filter_string(id_list):\n",
    "    filter_string = \" OR \".join([f\"(a.id = '{id}') OR (b.id = '{id}')\" for id in id_list])\n",
    "    return filter_string"
   ]
  },
  {
   "cell_type": "code",
   "execution_count": 31,
   "id": "ee6afc19-eafa-4d6e-9767-07196636dba2",
   "metadata": {},
   "outputs": [],
   "source": [
    "def get_vertices_edges_by_ids(g, id_list):\n",
    "    pFind = \"(a)-[e]->(b)\"\n",
    "    pFilter = generate_filter_string(id_list)\n",
    "\n",
    "    # Filtrar as arestas com base na lista de IDs\n",
    "    edges = g.find(pFind).filter(pFilter).select(\"e.*\")\n",
    "\n",
    "    # Selecionar vértices distintos relacionados às arestas\n",
    "    v = edges.select(\"src\").union(edges.select(\"dst\")).distinct()\n",
    "\n",
    "    # Obter os vértices correspondentes às arestas filtradas\n",
    "    vertices = g.vertices.join(v, g.vertices[\"id\"] == v[\"src\"], \"inner\").select(g.vertices[\"*\"])\n",
    "\n",
    "    return vertices, edges"
   ]
  },
  {
   "cell_type": "code",
   "execution_count": 32,
   "id": "9d2cddb4-0635-4911-902c-e2f993695fdb",
   "metadata": {},
   "outputs": [],
   "source": [
    "# chaves: 03235791, 73178600, 01354636\n",
    "id_list = ['19322044']\n",
    "vertices, edges = get_vertices_edges_by_ids(g, id_list)\n",
    "## Aciona ao edge o tipo de ligação 1-natural 2-sugerida\n",
    "edges=edges.withColumn(\"id_tipoRel\", lit(1))"
   ]
  },
  {
   "cell_type": "code",
   "execution_count": 33,
   "id": "3f8e1417-9994-4809-bbc4-7c3fa9fe7762",
   "metadata": {},
   "outputs": [
    {
     "name": "stderr",
     "output_type": "stream",
     "text": [
      "ERROR:root:Exception while sending command.                                     \n",
      "Traceback (most recent call last):\n",
      "  File \"/home/chico/spark/python/lib/py4j-0.10.9.7-src.zip/py4j/clientserver.py\", line 516, in send_command\n",
      "    raise Py4JNetworkError(\"Answer from Java side is empty\")\n",
      "py4j.protocol.Py4JNetworkError: Answer from Java side is empty\n",
      "\n",
      "During handling of the above exception, another exception occurred:\n",
      "\n",
      "Traceback (most recent call last):\n",
      "  File \"/home/chico/spark/python/lib/py4j-0.10.9.7-src.zip/py4j/java_gateway.py\", line 1038, in send_command\n",
      "    response = connection.send_command(command)\n",
      "  File \"/home/chico/spark/python/lib/py4j-0.10.9.7-src.zip/py4j/clientserver.py\", line 539, in send_command\n",
      "    raise Py4JNetworkError(\n",
      "py4j.protocol.Py4JNetworkError: Error while sending or receiving\n",
      "/home/chico/spark/python/pyspark/context.py:657: RuntimeWarning: Unable to cleanly shutdown Spark JVM process. It is possible that the process has crashed, been killed or may also be in a zombie state.\n",
      "  warnings.warn(\n"
     ]
    }
   ],
   "source": [
    "# Converter os DataFrames do PySpark para DataFrames do Pandas\n",
    "pandas_vertices = vertices.toPandas()\n",
    "pandas_edges = edges.toPandas()"
   ]
  },
  {
   "cell_type": "code",
   "execution_count": 29,
   "id": "511bfe88-b6d7-4a50-84a1-95125bf0c8d4",
   "metadata": {},
   "outputs": [],
   "source": [
    "import networkx as nx\n",
    "import matplotlib.pyplot as plt\n",
    "import pandas as pd\n",
    "\n",
    "def plot_custom_graph(pandas_vertices, pandas_edges, title=\"Graph\"):\n",
    "    # Criar um grafo direcionado NetworkX\n",
    "    G = nx.DiGraph()\n",
    "\n",
    "    # Adicionar vértices e atribuir cores com base em 'id_tipoPessoa'\n",
    "    cores_vertices = pandas_vertices.set_index('id')['id_tipoPessoa'].to_dict()\n",
    "    G.add_nodes_from(pandas_vertices[\"id\"].tolist())\n",
    "\n",
    "    # Adicionar arestas e atribuir cores com base em 'id_tipoRel'\n",
    "    cores_arestas = pandas_edges.set_index(['src', 'dst'])['id_tipoRel'].to_dict()\n",
    "    G.add_edges_from(pandas_edges[[\"src\", \"dst\"]].values)\n",
    "\n",
    "    # Definir estilos e atributos visuais\n",
    "    pos = nx.spectral_layout(G)  # Layout do grafo\n",
    "    largura_arestas = 1  # Largura das arestas\n",
    "\n",
    "    # Plotar os vértices com cores baseadas em 'id_tipoPessoa'\n",
    "    nx.draw_networkx_nodes(G, pos, node_color=[cores_vertices[n] for n in G.nodes()], cmap=plt.cm.tab10, node_size=300)\n",
    "\n",
    "    # Plotar as arestas com cores baseadas em 'id_tipoRel'\n",
    "    nx.draw_networkx_edges(G, pos, edge_color=[cores_arestas[(src, dst)] for src, dst in G.edges()], width=largura_arestas, alpha=0.5)\n",
    "\n",
    "    # Adicionar labels para 'id_tipoPessoa' igual a 1\n",
    "    labels = {n: n if cores_vertices[n] == 1 else '' for n in G.nodes()}\n",
    "    nx.draw_networkx_labels(G, pos, labels, font_size=10)\n",
    "\n",
    "    # Mostrar o grafo com um layout mais bonito e título personalizado\n",
    "    plt.tight_layout()\n",
    "    plt.axis('off')\n",
    "    plt.title(title)  # Define o título do gráfico\n",
    "    plt.show()"
   ]
  },
  {
   "cell_type": "code",
   "execution_count": 30,
   "id": "4418bb60-a188-476e-812a-f717970add36",
   "metadata": {},
   "outputs": [
    {
     "data": {
      "image/png": "[encoded data removed]",
      "text/plain": [
       "<Figure size 640x480 with 1 Axes>"
      ]
     },
     "metadata": {},
     "output_type": "display_data"
    }
   ],
   "source": [
    "plot_custom_graph(pandas_vertices, pandas_edges, title=\"Meu Grafo Personalizado\")"
   ]
  },
  {
   "cell_type": "code",
   "execution_count": null,
   "id": "6dd05793-99cf-4bd8-89b2-ac766ad44820",
   "metadata": {},
   "outputs": [],
   "source": [
    "spark.stop()"
   ]
  }
 ],
 "metadata": {
  "kernelspec": {
   "display_name": "Python 3 (ipykernel)",
   "language": "python",
   "name": "python3"
  },
  "language_info": {
   "codemirror_mode": {
    "name": "ipython",
    "version": 3
   },
   "file_extension": ".py",
   "mimetype": "text/x-python",
   "name": "python",
   "nbconvert_exporter": "python",
   "pygments_lexer": "ipython3",
   "version": "3.9.18"
  }
 },
 "nbformat": 4,
 "nbformat_minor": 5
}
