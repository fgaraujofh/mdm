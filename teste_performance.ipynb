{
 "cells": [
  {
   "cell_type": "code",
   "execution_count": 11,
   "id": "8a2e64ef-cd4f-49d9-a0c4-360cf0f961ca",
   "metadata": {},
   "outputs": [],
   "source": [
    "from pyspark import SparkConf\n",
    "from pyspark import SparkContext\n",
    "from pyspark.sql import SparkSession\n",
    "from pyspark.sql import Row\n",
    "from pyspark.sql.functions import col, from_json, substring, when, length, split, lit\n",
    "from pyspark.sql.types import StructType, StructField, StringType\n",
    "from pyspark import StorageLevel"
   ]
  },
  {
   "cell_type": "code",
   "execution_count": 12,
   "id": "9f93a4ad-1ee3-4f0d-bb13-1c772ee4010a",
   "metadata": {},
   "outputs": [],
   "source": [
    "# Nomes de aquivos e pastas\n",
    "csv_pj = 'dataset/empresas_estabelecimentos_30m.csv'\n",
    "parquet_dir_name = 'output/embeddings_nome_30m'\n",
    "investigaCEP='13560'\n",
    "csv_socios = 'dataset/socios_30m.csv'"
   ]
  },
  {
   "cell_type": "code",
   "execution_count": 13,
   "id": "49047807-7130-4195-97ad-bff15495b11a",
   "metadata": {},
   "outputs": [],
   "source": [
    "spark = SparkSession.builder \\\n",
    "        .config(\"spark.driver.memory\", \"128g\") \\\n",
    "        .appName(\"gera_embedding_nome\") \\\n",
    "        .getOrCreate()"
   ]
  },
  {
   "cell_type": "code",
   "execution_count": 14,
   "id": "f24e8740-b710-48b3-b3a1-f60d84927c88",
   "metadata": {},
   "outputs": [],
   "source": [
    "# Schema para Json Empresa\n",
    "json_schema_em = StructType([\n",
    "    StructField(\"porteEmpresa\", StringType(), True),\n",
    "    StructField(\"capitalSocial\", StringType(), True),\n",
    "    StructField(\"cpfResponsavel\", StringType(), True),\n",
    "    StructField(\"nomeEmpresarial\", StringType(), True),\n",
    "    StructField(\"naturezaJuridica\", StringType(), True),\n",
    "    StructField(\"qualificacaoResponsavel\", StringType(), True)\n",
    "])\n",
    "\n",
    "# Schema para Json Estabelecimento\n",
    "json_schema_es = StructType([\n",
    "    StructField(\"uf\", StringType(), True),\n",
    "    StructField(\"cep\", StringType(), True),\n",
    "    StructField(\"ddd1\", StringType(), True),\n",
    "    StructField(\"ddd2\", StringType(), True),\n",
    "    StructField(\"pais\", StringType(), True),\n",
    "    StructField(\"email\", StringType(), True),\n",
    "    StructField(\"bairro\", StringType(), True),\n",
    "    StructField(\"numero\", StringType(), True),\n",
    "    StructField(\"municipio\", StringType(), True),\n",
    "    StructField(\"telefone1\", StringType(), True),\n",
    "    StructField(\"telefone2\", StringType(), True),\n",
    "    StructField(\"cnaeFiscal\", StringType(), True),\n",
    "    StructField(\"logradouro\", StringType(), True),\n",
    "    StructField(\"complemento\", StringType(), True),\n",
    "    StructField(\"dataCadastro\", StringType(), True),\n",
    "    StructField(\"nomeFantasia\", StringType(), True),\n",
    "    StructField(\"cidadeExterior\", StringType(), True),\n",
    "    StructField(\"tipoLogradouro\", StringType(), True),\n",
    "    StructField(\"cnaesSecundarias\", StringType(), True),\n",
    "    StructField(\"situacaoEspecial\", StringType(), True),\n",
    "    StructField(\"situacaoCadastral\", StringType(), True),\n",
    "    StructField(\"dataSituacaoEspecial\", StringType(), True),\n",
    "    StructField(\"dataSituacaoCadastral\", StringType(), True),\n",
    "    StructField(\"motivoSituacaoCadastral\", StringType(), True),\n",
    "    StructField(\"identificadorMatrizFilial\", StringType(), True)\n",
    "])\n",
    "\n",
    "# Definindo o esquema para leitura do CSV\n",
    "schema = StructType([\n",
    "    StructField(\"nu_cnpj_raiz\", StringType(), True),\n",
    "    StructField(\"te_dados_em\", StringType(), True),\n",
    "    StructField(\"id_estabelecimento\", StringType(), True),\n",
    "    StructField(\"te_dados_es\", StringType(), True)\n",
    "])\n",
    "\n",
    "# Lendo o CSV com o esquema definido\n",
    "pj = spark.read \\\n",
    "    .option(\"delimiter\", \",\") \\\n",
    "    .option(\"multiline\", \"true\") \\\n",
    "    .option(\"escape\", \"\\\"\") \\\n",
    "    .csv(csv_pj, schema=schema, header=True)\n",
    "\n",
    "pj = pj.withColumn(\"te_dados_em\", from_json(col(\"te_dados_em\"), json_schema_em)) \\\n",
    "      .withColumn(\"te_dados_es\", from_json(col(\"te_dados_es\"), json_schema_es)) \\\n",
    "      .filter(substring(col(\"id_estabelecimento\"), 0, 4) == '0001') \\\n",
    "      .withColumnRenamed(\"nu_cnpj_raiz\", \"id\")\n",
    "\n",
    "pj = pj.orderBy(col(\"id\").asc()).dropDuplicates(['id'])"
   ]
  },
  {
   "cell_type": "code",
   "execution_count": 15,
   "id": "1297bc86-a2e2-4ae4-9716-a20ba75f622b",
   "metadata": {},
   "outputs": [],
   "source": [
    "# print(pj.count())"
   ]
  },
  {
   "cell_type": "code",
   "execution_count": 16,
   "id": "64685a94-0816-4f6c-92a7-84a62c9afb14",
   "metadata": {},
   "outputs": [],
   "source": [
    "# Schema para Json Socios\n",
    "json_schema_sc = StructType([\n",
    "    StructField(\"pais\", StringType(), True),\n",
    "    StructField(\"entradaSociedade\", StringType(), True),\n",
    "    StructField(\"socioEstrangeiro\", StringType(), True),\n",
    "    StructField(\"qualificacaoSocio\", StringType(), True),\n",
    "    StructField(\"identificadorSocio\", StringType(), True),\n",
    "    StructField(\"cpfRepresentanteLegal\", StringType(), True),\n",
    "    StructField(\"qualificacaoRepresentanteLegal\", StringType(), True)\n",
    "])\n",
    "\n",
    "# Definindo o esquema para leitura do CSV\n",
    "schema = StructType([\n",
    "    StructField(\"nu_cnpj_raiz\", StringType(), True),\n",
    "    StructField(\"id_socio\", StringType(), True),\n",
    "    StructField(\"te_dados_sc\", StringType(), True)\n",
    "])\n",
    "\n",
    "# Lendo o CSV com o esquema definido\n",
    "socio = spark.read \\\n",
    "        .option(\"delimiter\", \",\") \\\n",
    "        .option(\"multiline\", \"true\") \\\n",
    "        .option(\"escape\", \"\\\"\") \\\n",
    "        .csv(csv_socios, schema=schema, header=True)\n",
    "\n",
    "# tratando o df socios\n",
    "# Tratamento 1: Expandir o JSON\n",
    "socio = socio.withColumn(\"te_dados_sc\", from_json(col(\"te_dados_sc\"), json_schema_sc))\n",
    "\n",
    "# converte cnpj para nu_cnpj_raiz\n",
    "socio = socio.withColumn(\"id_socio\", when(socio[\"te_dados_sc\"][\"identificadorSocio\"] == '1',\n",
    "                                    socio[\"id_socio\"].substr(1, 8))\n",
    "                                .otherwise(socio[\"id_socio\"]))\n",
    "# Remomeia fonte e destino\n",
    "socio = socio.withColumnRenamed(\"nu_cnpj_raiz\", \"src\").withColumnRenamed(\"id_socio\", \"dst\")\n",
    "# Ordena por src, dst e remove arestas dubplicadas\n",
    "socio = socio.orderBy(col(\"src\").asc(), col(\"dst\").asc()).dropDuplicates(['src', 'dst'])"
   ]
  },
  {
   "cell_type": "code",
   "execution_count": 17,
   "id": "464f1c87-0b27-41dd-a2dd-b8a9143b43e5",
   "metadata": {},
   "outputs": [],
   "source": [
    "# print(socio.count())"
   ]
  },
  {
   "cell_type": "code",
   "execution_count": 18,
   "id": "bfda0ede-de6e-40eb-a663-c6ec4725485b",
   "metadata": {},
   "outputs": [
    {
     "name": "stderr",
     "output_type": "stream",
     "text": [
      "                                                                                \r"
     ]
    }
   ],
   "source": [
    "# Carrega embeddings\n",
    "nomes_pj = spark.read.parquet(parquet_dir_name)"
   ]
  },
  {
   "cell_type": "code",
   "execution_count": 19,
   "id": "6c2b721e-56de-45fd-943e-2e736d1b57c6",
   "metadata": {},
   "outputs": [],
   "source": [
    "# print(nomes_pj.count())"
   ]
  },
  {
   "cell_type": "code",
   "execution_count": null,
   "id": "1e9cba3a-73a8-4bca-a0b6-cd867ec70a7a",
   "metadata": {},
   "outputs": [
    {
     "name": "stderr",
     "output_type": "stream",
     "text": [
      "[Stage 29:>                                                         (0 + 1) / 1]\r"
     ]
    }
   ],
   "source": [
    "cnpjs_filtrados = pj \\\n",
    "    .filter(col(\"te_dados_es.cep\").startswith(investigaCEP)) \\\n",
    "    .select(col(\"id\"))\n",
    "\n",
    "# Filtrando 'nomes_pj' com base nos CNPJs filtrados\n",
    "nomes_filtrados = nomes_pj.join(cnpjs_filtrados, nomes_pj[\"id\"] == pj[\"id\"], \"inner\") \\\n",
    "                          .select(nomes_pj[\"id\"], nomes_pj[\"nomeFantasia\"],  nomes_pj[\"embeddings\"])\n",
    "nomes_filtrados.show()"
   ]
  },
  {
   "cell_type": "code",
   "execution_count": null,
   "id": "cab62d85-4db2-4cd2-9651-ef4489483bec",
   "metadata": {},
   "outputs": [],
   "source": [
    "spark.stop()"
   ]
  }
 ],
 "metadata": {
  "kernelspec": {
   "display_name": "Python 3 (ipykernel)",
   "language": "python",
   "name": "python3"
  },
  "language_info": {
   "codemirror_mode": {
    "name": "ipython",
    "version": 3
   },
   "file_extension": ".py",
   "mimetype": "text/x-python",
   "name": "python",
   "nbconvert_exporter": "python",
   "pygments_lexer": "ipython3",
   "version": "3.9.18"
  }
 },
 "nbformat": 4,
 "nbformat_minor": 5
}
